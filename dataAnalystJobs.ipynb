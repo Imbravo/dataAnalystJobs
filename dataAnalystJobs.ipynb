{
 "cells": [
  {
   "cell_type": "markdown",
   "source": [
    "<center><h1 style='color:#B2FF9E'>Data Analyst Jobs</h1></center>"
   ],
   "metadata": {
    "collapsed": false,
    "pycharm": {
     "name": "#%% md\n"
    }
   }
  },
  {
   "cell_type": "markdown",
   "source": [
    "<center><img src='banner.jpg' width=\"800\" height=\"600\"></center>"
   ],
   "metadata": {
    "collapsed": false,
    "pycharm": {
     "name": "#%% md\n"
    }
   }
  },
  {
   "cell_type": "markdown",
   "source": [
    "<center><h2 style='color:#B2FF9E'>Data analyst job listings published on Glassdor </h2></center>\n",
    "\n",
    "**Information**\n",
    "Job listings scraped from Glassdoor in 2020, which could help people hone their job search and land a new position.\n",
    "\n",
    "**Dataset retrieved from:** https://www.kaggle.com/datasets/andrewmvd/data-analyst-jobs\n"
   ],
   "metadata": {
    "collapsed": false,
    "pycharm": {
     "name": "#%% md\n"
    }
   }
  },
  {
   "cell_type": "markdown",
   "source": [
    "<center><h2 style='color:#B2FF9E'>Color palette</h2></center>\n"
   ],
   "metadata": {
    "collapsed": false,
    "pycharm": {
     "name": "#%% md\n"
    }
   }
  },
  {
   "cell_type": "code",
   "execution_count": 24,
   "outputs": [],
   "source": [
    "color_palette = {\n",
    "    'green1': '#AFFC41',\n",
    "    'green2': '#1DD3B0',\n",
    "    'green3': '#086375',\n",
    "    'green4': '#3C1642',\n",
    "    'green5': '#B2FF9E',\n",
    "    'green6': '#98F5E1'\n",
    "}"
   ],
   "metadata": {
    "collapsed": false,
    "pycharm": {
     "name": "#%%\n"
    }
   }
  },
  {
   "cell_type": "markdown",
   "source": [],
   "metadata": {
    "collapsed": false,
    "pycharm": {
     "name": "#%% md\n"
    }
   }
  },
  {
   "cell_type": "markdown",
   "source": [
    "<center><h2 style='color:#B2FF9E'>Imports</h2></center>\n"
   ],
   "metadata": {
    "collapsed": false,
    "pycharm": {
     "name": "#%% md\n"
    }
   }
  },
  {
   "cell_type": "code",
   "execution_count": 25,
   "outputs": [],
   "source": [
    "import pandas as pd\n",
    "import plotly.express as px\n",
    "import numpy as np"
   ],
   "metadata": {
    "collapsed": false,
    "pycharm": {
     "name": "#%%\n"
    }
   }
  },
  {
   "cell_type": "markdown",
   "source": [
    "<center><h2 style='color:#B2FF9E'>Extraction and initial analysis</h2></center>"
   ],
   "metadata": {
    "collapsed": false,
    "pycharm": {
     "name": "#%% md\n"
    }
   }
  },
  {
   "cell_type": "markdown",
   "source": [
    "<center><h3 style='color:#B2FF9E'>CSV to dataframe</h3></center>\n"
   ],
   "metadata": {
    "collapsed": false,
    "pycharm": {
     "name": "#%% md\n"
    }
   }
  },
  {
   "cell_type": "code",
   "execution_count": 26,
   "outputs": [
    {
     "data": {
      "text/plain": "      Unnamed: 0                                          Job Title  \\\n0              0  Data Analyst, Center on Immigration and Justic...   \n1              1                               Quality Data Analyst   \n2              2  Senior Data Analyst, Insights & Analytics Team...   \n3              3                                       Data Analyst   \n4              4                             Reporting Data Analyst   \n...          ...                                                ...   \n2248        2248  RQS - IHHA - 201900004460 -1q Data Security An...   \n2249        2249              Senior Data Analyst (Corporate Audit)   \n2250        2250  Technical Business Analyst (SQL, Data analytic...   \n2251        2251                Data Analyst 3, Customer Experience   \n2252        2252                        Senior Quality Data Analyst   \n\n                  Salary Estimate  \\\n0      $37K-$66K (Glassdoor est.)   \n1      $37K-$66K (Glassdoor est.)   \n2      $37K-$66K (Glassdoor est.)   \n3      $37K-$66K (Glassdoor est.)   \n4      $37K-$66K (Glassdoor est.)   \n...                           ...   \n2248  $78K-$104K (Glassdoor est.)   \n2249  $78K-$104K (Glassdoor est.)   \n2250  $78K-$104K (Glassdoor est.)   \n2251  $78K-$104K (Glassdoor est.)   \n2252  $78K-$104K (Glassdoor est.)   \n\n                                        Job Description  Rating  \\\n0     Are you eager to roll up your sleeves and harn...     3.2   \n1     Overview\\n\\nProvides analytical and technical ...     3.8   \n2     We’re looking for a Senior Data Analyst who ha...     3.4   \n3     Requisition NumberRR-0001939\\nRemote:Yes\\nWe c...     4.1   \n4     ABOUT FANDUEL GROUP\\n\\nFanDuel Group is a worl...     3.9   \n...                                                 ...     ...   \n2248  Maintains systems to protect data from unautho...     2.5   \n2249  Position:\\nSenior Data Analyst (Corporate Audi...     2.9   \n2250  Title: Technical Business Analyst (SQL, Data a...    -1.0   \n2251  Summary\\n\\nResponsible for working cross-funct...     3.1   \n2252  You.\\n\\nYou bring your body, mind, heart and s...     3.4   \n\n                                 Company Name        Location  \\\n0              Vera Institute of Justice\\n3.2    New York, NY   \n1     Visiting Nurse Service of New York\\n3.8    New York, NY   \n2                            Squarespace\\n3.4    New York, NY   \n3                               Celerity\\n4.1    New York, NY   \n4                                FanDuel\\n3.9    New York, NY   \n...                                       ...             ...   \n2248                       Avacend, Inc.\\n2.5      Denver, CO   \n2249                   Arrow Electronics\\n2.9  Centennial, CO   \n2250                                 Spiceorb      Denver, CO   \n2251         Contingent Network Services\\n3.1  Centennial, CO   \n2252                          SCL Health\\n3.4  Broomfield, CO   \n\n          Headquarters                    Size  Founded  \\\n0         New York, NY    201 to 500 employees     1961   \n1         New York, NY        10000+ employees     1893   \n2         New York, NY  1001 to 5000 employees     2003   \n3           McLean, VA    201 to 500 employees     2002   \n4         New York, NY   501 to 1000 employees     2009   \n...                ...                     ...      ...   \n2248    Alpharetta, GA     51 to 200 employees       -1   \n2249    Centennial, CO        10000+ employees     1935   \n2250                -1                      -1       -1   \n2251  West Chester, OH    201 to 500 employees     1984   \n2252    Broomfield, CO        10000+ employees     1864   \n\n                   Type of ownership                                 Industry  \\\n0             Nonprofit Organization                        Social Assistance   \n1             Nonprofit Organization         Health Care Services & Hospitals   \n2                  Company - Private                                 Internet   \n3     Subsidiary or Business Segment                              IT Services   \n4                  Company - Private                      Sports & Recreation   \n...                              ...                                      ...   \n2248               Company - Private                   Staffing & Outsourcing   \n2249                Company - Public                                Wholesale   \n2250                              -1                                       -1   \n2251               Company - Private  Enterprise Software & Network Solutions   \n2252          Nonprofit Organization         Health Care Services & Hospitals   \n\n                                Sector                     Revenue  \\\n0                           Non-Profit  $100 to $500 million (USD)   \n1                          Health Care      $2 to $5 billion (USD)   \n2               Information Technology    Unknown / Non-Applicable   \n3               Information Technology   $50 to $100 million (USD)   \n4     Arts, Entertainment & Recreation  $100 to $500 million (USD)   \n...                                ...                         ...   \n2248                 Business Services    Unknown / Non-Applicable   \n2249                 Business Services          $10+ billion (USD)   \n2250                                -1                          -1   \n2251            Information Technology    $25 to $50 million (USD)   \n2252                       Health Care      $2 to $5 billion (USD)   \n\n                                            Competitors Easy Apply  \n0                                                    -1       True  \n1                                                    -1         -1  \n2                                               GoDaddy         -1  \n3                                                    -1         -1  \n4                                            DraftKings       True  \n...                                                 ...        ...  \n2248                                                 -1         -1  \n2249                     Avnet, Ingram Micro, Tech Data         -1  \n2250                                                 -1         -1  \n2251                                                 -1         -1  \n2252  Centura Health, HealthONE, Denver Health and H...         -1  \n\n[2253 rows x 16 columns]",
      "text/html": "<div>\n<style scoped>\n    .dataframe tbody tr th:only-of-type {\n        vertical-align: middle;\n    }\n\n    .dataframe tbody tr th {\n        vertical-align: top;\n    }\n\n    .dataframe thead th {\n        text-align: right;\n    }\n</style>\n<table border=\"1\" class=\"dataframe\">\n  <thead>\n    <tr style=\"text-align: right;\">\n      <th></th>\n      <th>Unnamed: 0</th>\n      <th>Job Title</th>\n      <th>Salary Estimate</th>\n      <th>Job Description</th>\n      <th>Rating</th>\n      <th>Company Name</th>\n      <th>Location</th>\n      <th>Headquarters</th>\n      <th>Size</th>\n      <th>Founded</th>\n      <th>Type of ownership</th>\n      <th>Industry</th>\n      <th>Sector</th>\n      <th>Revenue</th>\n      <th>Competitors</th>\n      <th>Easy Apply</th>\n    </tr>\n  </thead>\n  <tbody>\n    <tr>\n      <th>0</th>\n      <td>0</td>\n      <td>Data Analyst, Center on Immigration and Justic...</td>\n      <td>$37K-$66K (Glassdoor est.)</td>\n      <td>Are you eager to roll up your sleeves and harn...</td>\n      <td>3.2</td>\n      <td>Vera Institute of Justice\\n3.2</td>\n      <td>New York, NY</td>\n      <td>New York, NY</td>\n      <td>201 to 500 employees</td>\n      <td>1961</td>\n      <td>Nonprofit Organization</td>\n      <td>Social Assistance</td>\n      <td>Non-Profit</td>\n      <td>$100 to $500 million (USD)</td>\n      <td>-1</td>\n      <td>True</td>\n    </tr>\n    <tr>\n      <th>1</th>\n      <td>1</td>\n      <td>Quality Data Analyst</td>\n      <td>$37K-$66K (Glassdoor est.)</td>\n      <td>Overview\\n\\nProvides analytical and technical ...</td>\n      <td>3.8</td>\n      <td>Visiting Nurse Service of New York\\n3.8</td>\n      <td>New York, NY</td>\n      <td>New York, NY</td>\n      <td>10000+ employees</td>\n      <td>1893</td>\n      <td>Nonprofit Organization</td>\n      <td>Health Care Services &amp; Hospitals</td>\n      <td>Health Care</td>\n      <td>$2 to $5 billion (USD)</td>\n      <td>-1</td>\n      <td>-1</td>\n    </tr>\n    <tr>\n      <th>2</th>\n      <td>2</td>\n      <td>Senior Data Analyst, Insights &amp; Analytics Team...</td>\n      <td>$37K-$66K (Glassdoor est.)</td>\n      <td>We’re looking for a Senior Data Analyst who ha...</td>\n      <td>3.4</td>\n      <td>Squarespace\\n3.4</td>\n      <td>New York, NY</td>\n      <td>New York, NY</td>\n      <td>1001 to 5000 employees</td>\n      <td>2003</td>\n      <td>Company - Private</td>\n      <td>Internet</td>\n      <td>Information Technology</td>\n      <td>Unknown / Non-Applicable</td>\n      <td>GoDaddy</td>\n      <td>-1</td>\n    </tr>\n    <tr>\n      <th>3</th>\n      <td>3</td>\n      <td>Data Analyst</td>\n      <td>$37K-$66K (Glassdoor est.)</td>\n      <td>Requisition NumberRR-0001939\\nRemote:Yes\\nWe c...</td>\n      <td>4.1</td>\n      <td>Celerity\\n4.1</td>\n      <td>New York, NY</td>\n      <td>McLean, VA</td>\n      <td>201 to 500 employees</td>\n      <td>2002</td>\n      <td>Subsidiary or Business Segment</td>\n      <td>IT Services</td>\n      <td>Information Technology</td>\n      <td>$50 to $100 million (USD)</td>\n      <td>-1</td>\n      <td>-1</td>\n    </tr>\n    <tr>\n      <th>4</th>\n      <td>4</td>\n      <td>Reporting Data Analyst</td>\n      <td>$37K-$66K (Glassdoor est.)</td>\n      <td>ABOUT FANDUEL GROUP\\n\\nFanDuel Group is a worl...</td>\n      <td>3.9</td>\n      <td>FanDuel\\n3.9</td>\n      <td>New York, NY</td>\n      <td>New York, NY</td>\n      <td>501 to 1000 employees</td>\n      <td>2009</td>\n      <td>Company - Private</td>\n      <td>Sports &amp; Recreation</td>\n      <td>Arts, Entertainment &amp; Recreation</td>\n      <td>$100 to $500 million (USD)</td>\n      <td>DraftKings</td>\n      <td>True</td>\n    </tr>\n    <tr>\n      <th>...</th>\n      <td>...</td>\n      <td>...</td>\n      <td>...</td>\n      <td>...</td>\n      <td>...</td>\n      <td>...</td>\n      <td>...</td>\n      <td>...</td>\n      <td>...</td>\n      <td>...</td>\n      <td>...</td>\n      <td>...</td>\n      <td>...</td>\n      <td>...</td>\n      <td>...</td>\n      <td>...</td>\n    </tr>\n    <tr>\n      <th>2248</th>\n      <td>2248</td>\n      <td>RQS - IHHA - 201900004460 -1q Data Security An...</td>\n      <td>$78K-$104K (Glassdoor est.)</td>\n      <td>Maintains systems to protect data from unautho...</td>\n      <td>2.5</td>\n      <td>Avacend, Inc.\\n2.5</td>\n      <td>Denver, CO</td>\n      <td>Alpharetta, GA</td>\n      <td>51 to 200 employees</td>\n      <td>-1</td>\n      <td>Company - Private</td>\n      <td>Staffing &amp; Outsourcing</td>\n      <td>Business Services</td>\n      <td>Unknown / Non-Applicable</td>\n      <td>-1</td>\n      <td>-1</td>\n    </tr>\n    <tr>\n      <th>2249</th>\n      <td>2249</td>\n      <td>Senior Data Analyst (Corporate Audit)</td>\n      <td>$78K-$104K (Glassdoor est.)</td>\n      <td>Position:\\nSenior Data Analyst (Corporate Audi...</td>\n      <td>2.9</td>\n      <td>Arrow Electronics\\n2.9</td>\n      <td>Centennial, CO</td>\n      <td>Centennial, CO</td>\n      <td>10000+ employees</td>\n      <td>1935</td>\n      <td>Company - Public</td>\n      <td>Wholesale</td>\n      <td>Business Services</td>\n      <td>$10+ billion (USD)</td>\n      <td>Avnet, Ingram Micro, Tech Data</td>\n      <td>-1</td>\n    </tr>\n    <tr>\n      <th>2250</th>\n      <td>2250</td>\n      <td>Technical Business Analyst (SQL, Data analytic...</td>\n      <td>$78K-$104K (Glassdoor est.)</td>\n      <td>Title: Technical Business Analyst (SQL, Data a...</td>\n      <td>-1.0</td>\n      <td>Spiceorb</td>\n      <td>Denver, CO</td>\n      <td>-1</td>\n      <td>-1</td>\n      <td>-1</td>\n      <td>-1</td>\n      <td>-1</td>\n      <td>-1</td>\n      <td>-1</td>\n      <td>-1</td>\n      <td>-1</td>\n    </tr>\n    <tr>\n      <th>2251</th>\n      <td>2251</td>\n      <td>Data Analyst 3, Customer Experience</td>\n      <td>$78K-$104K (Glassdoor est.)</td>\n      <td>Summary\\n\\nResponsible for working cross-funct...</td>\n      <td>3.1</td>\n      <td>Contingent Network Services\\n3.1</td>\n      <td>Centennial, CO</td>\n      <td>West Chester, OH</td>\n      <td>201 to 500 employees</td>\n      <td>1984</td>\n      <td>Company - Private</td>\n      <td>Enterprise Software &amp; Network Solutions</td>\n      <td>Information Technology</td>\n      <td>$25 to $50 million (USD)</td>\n      <td>-1</td>\n      <td>-1</td>\n    </tr>\n    <tr>\n      <th>2252</th>\n      <td>2252</td>\n      <td>Senior Quality Data Analyst</td>\n      <td>$78K-$104K (Glassdoor est.)</td>\n      <td>You.\\n\\nYou bring your body, mind, heart and s...</td>\n      <td>3.4</td>\n      <td>SCL Health\\n3.4</td>\n      <td>Broomfield, CO</td>\n      <td>Broomfield, CO</td>\n      <td>10000+ employees</td>\n      <td>1864</td>\n      <td>Nonprofit Organization</td>\n      <td>Health Care Services &amp; Hospitals</td>\n      <td>Health Care</td>\n      <td>$2 to $5 billion (USD)</td>\n      <td>Centura Health, HealthONE, Denver Health and H...</td>\n      <td>-1</td>\n    </tr>\n  </tbody>\n</table>\n<p>2253 rows × 16 columns</p>\n</div>"
     },
     "execution_count": 26,
     "metadata": {},
     "output_type": "execute_result"
    }
   ],
   "source": [
    "listings = pd.read_csv('DataAnalyst.csv')\n",
    "listings"
   ],
   "metadata": {
    "collapsed": false,
    "pycharm": {
     "name": "#%%\n"
    }
   }
  },
  {
   "cell_type": "code",
   "execution_count": 27,
   "outputs": [
    {
     "name": "stdout",
     "output_type": "stream",
     "text": [
      "<class 'pandas.core.frame.DataFrame'>\n",
      "RangeIndex: 2253 entries, 0 to 2252\n",
      "Data columns (total 16 columns):\n",
      " #   Column             Non-Null Count  Dtype  \n",
      "---  ------             --------------  -----  \n",
      " 0   Unnamed: 0         2253 non-null   int64  \n",
      " 1   Job Title          2253 non-null   object \n",
      " 2   Salary Estimate    2253 non-null   object \n",
      " 3   Job Description    2253 non-null   object \n",
      " 4   Rating             2253 non-null   float64\n",
      " 5   Company Name       2252 non-null   object \n",
      " 6   Location           2253 non-null   object \n",
      " 7   Headquarters       2253 non-null   object \n",
      " 8   Size               2253 non-null   object \n",
      " 9   Founded            2253 non-null   int64  \n",
      " 10  Type of ownership  2253 non-null   object \n",
      " 11  Industry           2253 non-null   object \n",
      " 12  Sector             2253 non-null   object \n",
      " 13  Revenue            2253 non-null   object \n",
      " 14  Competitors        2253 non-null   object \n",
      " 15  Easy Apply         2253 non-null   object \n",
      "dtypes: float64(1), int64(2), object(13)\n",
      "memory usage: 281.8+ KB\n"
     ]
    }
   ],
   "source": [
    "listings.info()"
   ],
   "metadata": {
    "collapsed": false,
    "pycharm": {
     "name": "#%%\n"
    }
   }
  },
  {
   "cell_type": "code",
   "execution_count": 28,
   "outputs": [
    {
     "data": {
      "text/plain": "       Unnamed: 0       Rating      Founded\ncount   2253.0000  2253.000000  2253.000000\nmean    1126.0000     3.160630  1398.522858\nstd      650.5294     1.665228   901.929251\nmin        0.0000    -1.000000    -1.000000\n25%      563.0000     3.100000    -1.000000\n50%     1126.0000     3.600000  1979.000000\n75%     1689.0000     4.000000  2002.000000\nmax     2252.0000     5.000000  2019.000000",
      "text/html": "<div>\n<style scoped>\n    .dataframe tbody tr th:only-of-type {\n        vertical-align: middle;\n    }\n\n    .dataframe tbody tr th {\n        vertical-align: top;\n    }\n\n    .dataframe thead th {\n        text-align: right;\n    }\n</style>\n<table border=\"1\" class=\"dataframe\">\n  <thead>\n    <tr style=\"text-align: right;\">\n      <th></th>\n      <th>Unnamed: 0</th>\n      <th>Rating</th>\n      <th>Founded</th>\n    </tr>\n  </thead>\n  <tbody>\n    <tr>\n      <th>count</th>\n      <td>2253.0000</td>\n      <td>2253.000000</td>\n      <td>2253.000000</td>\n    </tr>\n    <tr>\n      <th>mean</th>\n      <td>1126.0000</td>\n      <td>3.160630</td>\n      <td>1398.522858</td>\n    </tr>\n    <tr>\n      <th>std</th>\n      <td>650.5294</td>\n      <td>1.665228</td>\n      <td>901.929251</td>\n    </tr>\n    <tr>\n      <th>min</th>\n      <td>0.0000</td>\n      <td>-1.000000</td>\n      <td>-1.000000</td>\n    </tr>\n    <tr>\n      <th>25%</th>\n      <td>563.0000</td>\n      <td>3.100000</td>\n      <td>-1.000000</td>\n    </tr>\n    <tr>\n      <th>50%</th>\n      <td>1126.0000</td>\n      <td>3.600000</td>\n      <td>1979.000000</td>\n    </tr>\n    <tr>\n      <th>75%</th>\n      <td>1689.0000</td>\n      <td>4.000000</td>\n      <td>2002.000000</td>\n    </tr>\n    <tr>\n      <th>max</th>\n      <td>2252.0000</td>\n      <td>5.000000</td>\n      <td>2019.000000</td>\n    </tr>\n  </tbody>\n</table>\n</div>"
     },
     "execution_count": 28,
     "metadata": {},
     "output_type": "execute_result"
    }
   ],
   "source": [
    "listings.describe()"
   ],
   "metadata": {
    "collapsed": false,
    "pycharm": {
     "name": "#%%\n"
    }
   }
  },
  {
   "cell_type": "code",
   "execution_count": 29,
   "outputs": [
    {
     "data": {
      "text/plain": "      Unnamed: 0                                          Job Title  \\\n0              0  Data Analyst, Center on Immigration and Justic...   \n1              1                               Quality Data Analyst   \n2              2  Senior Data Analyst, Insights & Analytics Team...   \n3              3                                       Data Analyst   \n4              4                             Reporting Data Analyst   \n...          ...                                                ...   \n2248        2248  RQS - IHHA - 201900004460 -1q Data Security An...   \n2249        2249              Senior Data Analyst (Corporate Audit)   \n2250        2250  Technical Business Analyst (SQL, Data analytic...   \n2251        2251                Data Analyst 3, Customer Experience   \n2252        2252                        Senior Quality Data Analyst   \n\n                  Salary Estimate  \\\n0      $37K-$66K (Glassdoor est.)   \n1      $37K-$66K (Glassdoor est.)   \n2      $37K-$66K (Glassdoor est.)   \n3      $37K-$66K (Glassdoor est.)   \n4      $37K-$66K (Glassdoor est.)   \n...                           ...   \n2248  $78K-$104K (Glassdoor est.)   \n2249  $78K-$104K (Glassdoor est.)   \n2250  $78K-$104K (Glassdoor est.)   \n2251  $78K-$104K (Glassdoor est.)   \n2252  $78K-$104K (Glassdoor est.)   \n\n                                        Job Description  Rating  \\\n0     Are you eager to roll up your sleeves and harn...     3.2   \n1     Overview\\n\\nProvides analytical and technical ...     3.8   \n2     We’re looking for a Senior Data Analyst who ha...     3.4   \n3     Requisition NumberRR-0001939\\nRemote:Yes\\nWe c...     4.1   \n4     ABOUT FANDUEL GROUP\\n\\nFanDuel Group is a worl...     3.9   \n...                                                 ...     ...   \n2248  Maintains systems to protect data from unautho...     2.5   \n2249  Position:\\nSenior Data Analyst (Corporate Audi...     2.9   \n2250  Title: Technical Business Analyst (SQL, Data a...     NaN   \n2251  Summary\\n\\nResponsible for working cross-funct...     3.1   \n2252  You.\\n\\nYou bring your body, mind, heart and s...     3.4   \n\n                                 Company Name        Location  \\\n0              Vera Institute of Justice\\n3.2    New York, NY   \n1     Visiting Nurse Service of New York\\n3.8    New York, NY   \n2                            Squarespace\\n3.4    New York, NY   \n3                               Celerity\\n4.1    New York, NY   \n4                                FanDuel\\n3.9    New York, NY   \n...                                       ...             ...   \n2248                       Avacend, Inc.\\n2.5      Denver, CO   \n2249                   Arrow Electronics\\n2.9  Centennial, CO   \n2250                                 Spiceorb      Denver, CO   \n2251         Contingent Network Services\\n3.1  Centennial, CO   \n2252                          SCL Health\\n3.4  Broomfield, CO   \n\n          Headquarters                    Size  Founded  \\\n0         New York, NY    201 to 500 employees   1961.0   \n1         New York, NY        10000+ employees   1893.0   \n2         New York, NY  1001 to 5000 employees   2003.0   \n3           McLean, VA    201 to 500 employees   2002.0   \n4         New York, NY   501 to 1000 employees   2009.0   \n...                ...                     ...      ...   \n2248    Alpharetta, GA     51 to 200 employees      NaN   \n2249    Centennial, CO        10000+ employees   1935.0   \n2250               NaN                     NaN      NaN   \n2251  West Chester, OH    201 to 500 employees   1984.0   \n2252    Broomfield, CO        10000+ employees   1864.0   \n\n                   Type of ownership                                 Industry  \\\n0             Nonprofit Organization                        Social Assistance   \n1             Nonprofit Organization         Health Care Services & Hospitals   \n2                  Company - Private                                 Internet   \n3     Subsidiary or Business Segment                              IT Services   \n4                  Company - Private                      Sports & Recreation   \n...                              ...                                      ...   \n2248               Company - Private                   Staffing & Outsourcing   \n2249                Company - Public                                Wholesale   \n2250                             NaN                                      NaN   \n2251               Company - Private  Enterprise Software & Network Solutions   \n2252          Nonprofit Organization         Health Care Services & Hospitals   \n\n                                Sector                     Revenue  \\\n0                           Non-Profit  $100 to $500 million (USD)   \n1                          Health Care      $2 to $5 billion (USD)   \n2               Information Technology    Unknown / Non-Applicable   \n3               Information Technology   $50 to $100 million (USD)   \n4     Arts, Entertainment & Recreation  $100 to $500 million (USD)   \n...                                ...                         ...   \n2248                 Business Services    Unknown / Non-Applicable   \n2249                 Business Services          $10+ billion (USD)   \n2250                               NaN                         NaN   \n2251            Information Technology    $25 to $50 million (USD)   \n2252                       Health Care      $2 to $5 billion (USD)   \n\n                                            Competitors Easy Apply  \n0                                                   NaN       True  \n1                                                   NaN        NaN  \n2                                               GoDaddy        NaN  \n3                                                   NaN        NaN  \n4                                            DraftKings       True  \n...                                                 ...        ...  \n2248                                                NaN        NaN  \n2249                     Avnet, Ingram Micro, Tech Data        NaN  \n2250                                                NaN        NaN  \n2251                                                NaN        NaN  \n2252  Centura Health, HealthONE, Denver Health and H...        NaN  \n\n[2253 rows x 16 columns]",
      "text/html": "<div>\n<style scoped>\n    .dataframe tbody tr th:only-of-type {\n        vertical-align: middle;\n    }\n\n    .dataframe tbody tr th {\n        vertical-align: top;\n    }\n\n    .dataframe thead th {\n        text-align: right;\n    }\n</style>\n<table border=\"1\" class=\"dataframe\">\n  <thead>\n    <tr style=\"text-align: right;\">\n      <th></th>\n      <th>Unnamed: 0</th>\n      <th>Job Title</th>\n      <th>Salary Estimate</th>\n      <th>Job Description</th>\n      <th>Rating</th>\n      <th>Company Name</th>\n      <th>Location</th>\n      <th>Headquarters</th>\n      <th>Size</th>\n      <th>Founded</th>\n      <th>Type of ownership</th>\n      <th>Industry</th>\n      <th>Sector</th>\n      <th>Revenue</th>\n      <th>Competitors</th>\n      <th>Easy Apply</th>\n    </tr>\n  </thead>\n  <tbody>\n    <tr>\n      <th>0</th>\n      <td>0</td>\n      <td>Data Analyst, Center on Immigration and Justic...</td>\n      <td>$37K-$66K (Glassdoor est.)</td>\n      <td>Are you eager to roll up your sleeves and harn...</td>\n      <td>3.2</td>\n      <td>Vera Institute of Justice\\n3.2</td>\n      <td>New York, NY</td>\n      <td>New York, NY</td>\n      <td>201 to 500 employees</td>\n      <td>1961.0</td>\n      <td>Nonprofit Organization</td>\n      <td>Social Assistance</td>\n      <td>Non-Profit</td>\n      <td>$100 to $500 million (USD)</td>\n      <td>NaN</td>\n      <td>True</td>\n    </tr>\n    <tr>\n      <th>1</th>\n      <td>1</td>\n      <td>Quality Data Analyst</td>\n      <td>$37K-$66K (Glassdoor est.)</td>\n      <td>Overview\\n\\nProvides analytical and technical ...</td>\n      <td>3.8</td>\n      <td>Visiting Nurse Service of New York\\n3.8</td>\n      <td>New York, NY</td>\n      <td>New York, NY</td>\n      <td>10000+ employees</td>\n      <td>1893.0</td>\n      <td>Nonprofit Organization</td>\n      <td>Health Care Services &amp; Hospitals</td>\n      <td>Health Care</td>\n      <td>$2 to $5 billion (USD)</td>\n      <td>NaN</td>\n      <td>NaN</td>\n    </tr>\n    <tr>\n      <th>2</th>\n      <td>2</td>\n      <td>Senior Data Analyst, Insights &amp; Analytics Team...</td>\n      <td>$37K-$66K (Glassdoor est.)</td>\n      <td>We’re looking for a Senior Data Analyst who ha...</td>\n      <td>3.4</td>\n      <td>Squarespace\\n3.4</td>\n      <td>New York, NY</td>\n      <td>New York, NY</td>\n      <td>1001 to 5000 employees</td>\n      <td>2003.0</td>\n      <td>Company - Private</td>\n      <td>Internet</td>\n      <td>Information Technology</td>\n      <td>Unknown / Non-Applicable</td>\n      <td>GoDaddy</td>\n      <td>NaN</td>\n    </tr>\n    <tr>\n      <th>3</th>\n      <td>3</td>\n      <td>Data Analyst</td>\n      <td>$37K-$66K (Glassdoor est.)</td>\n      <td>Requisition NumberRR-0001939\\nRemote:Yes\\nWe c...</td>\n      <td>4.1</td>\n      <td>Celerity\\n4.1</td>\n      <td>New York, NY</td>\n      <td>McLean, VA</td>\n      <td>201 to 500 employees</td>\n      <td>2002.0</td>\n      <td>Subsidiary or Business Segment</td>\n      <td>IT Services</td>\n      <td>Information Technology</td>\n      <td>$50 to $100 million (USD)</td>\n      <td>NaN</td>\n      <td>NaN</td>\n    </tr>\n    <tr>\n      <th>4</th>\n      <td>4</td>\n      <td>Reporting Data Analyst</td>\n      <td>$37K-$66K (Glassdoor est.)</td>\n      <td>ABOUT FANDUEL GROUP\\n\\nFanDuel Group is a worl...</td>\n      <td>3.9</td>\n      <td>FanDuel\\n3.9</td>\n      <td>New York, NY</td>\n      <td>New York, NY</td>\n      <td>501 to 1000 employees</td>\n      <td>2009.0</td>\n      <td>Company - Private</td>\n      <td>Sports &amp; Recreation</td>\n      <td>Arts, Entertainment &amp; Recreation</td>\n      <td>$100 to $500 million (USD)</td>\n      <td>DraftKings</td>\n      <td>True</td>\n    </tr>\n    <tr>\n      <th>...</th>\n      <td>...</td>\n      <td>...</td>\n      <td>...</td>\n      <td>...</td>\n      <td>...</td>\n      <td>...</td>\n      <td>...</td>\n      <td>...</td>\n      <td>...</td>\n      <td>...</td>\n      <td>...</td>\n      <td>...</td>\n      <td>...</td>\n      <td>...</td>\n      <td>...</td>\n      <td>...</td>\n    </tr>\n    <tr>\n      <th>2248</th>\n      <td>2248</td>\n      <td>RQS - IHHA - 201900004460 -1q Data Security An...</td>\n      <td>$78K-$104K (Glassdoor est.)</td>\n      <td>Maintains systems to protect data from unautho...</td>\n      <td>2.5</td>\n      <td>Avacend, Inc.\\n2.5</td>\n      <td>Denver, CO</td>\n      <td>Alpharetta, GA</td>\n      <td>51 to 200 employees</td>\n      <td>NaN</td>\n      <td>Company - Private</td>\n      <td>Staffing &amp; Outsourcing</td>\n      <td>Business Services</td>\n      <td>Unknown / Non-Applicable</td>\n      <td>NaN</td>\n      <td>NaN</td>\n    </tr>\n    <tr>\n      <th>2249</th>\n      <td>2249</td>\n      <td>Senior Data Analyst (Corporate Audit)</td>\n      <td>$78K-$104K (Glassdoor est.)</td>\n      <td>Position:\\nSenior Data Analyst (Corporate Audi...</td>\n      <td>2.9</td>\n      <td>Arrow Electronics\\n2.9</td>\n      <td>Centennial, CO</td>\n      <td>Centennial, CO</td>\n      <td>10000+ employees</td>\n      <td>1935.0</td>\n      <td>Company - Public</td>\n      <td>Wholesale</td>\n      <td>Business Services</td>\n      <td>$10+ billion (USD)</td>\n      <td>Avnet, Ingram Micro, Tech Data</td>\n      <td>NaN</td>\n    </tr>\n    <tr>\n      <th>2250</th>\n      <td>2250</td>\n      <td>Technical Business Analyst (SQL, Data analytic...</td>\n      <td>$78K-$104K (Glassdoor est.)</td>\n      <td>Title: Technical Business Analyst (SQL, Data a...</td>\n      <td>NaN</td>\n      <td>Spiceorb</td>\n      <td>Denver, CO</td>\n      <td>NaN</td>\n      <td>NaN</td>\n      <td>NaN</td>\n      <td>NaN</td>\n      <td>NaN</td>\n      <td>NaN</td>\n      <td>NaN</td>\n      <td>NaN</td>\n      <td>NaN</td>\n    </tr>\n    <tr>\n      <th>2251</th>\n      <td>2251</td>\n      <td>Data Analyst 3, Customer Experience</td>\n      <td>$78K-$104K (Glassdoor est.)</td>\n      <td>Summary\\n\\nResponsible for working cross-funct...</td>\n      <td>3.1</td>\n      <td>Contingent Network Services\\n3.1</td>\n      <td>Centennial, CO</td>\n      <td>West Chester, OH</td>\n      <td>201 to 500 employees</td>\n      <td>1984.0</td>\n      <td>Company - Private</td>\n      <td>Enterprise Software &amp; Network Solutions</td>\n      <td>Information Technology</td>\n      <td>$25 to $50 million (USD)</td>\n      <td>NaN</td>\n      <td>NaN</td>\n    </tr>\n    <tr>\n      <th>2252</th>\n      <td>2252</td>\n      <td>Senior Quality Data Analyst</td>\n      <td>$78K-$104K (Glassdoor est.)</td>\n      <td>You.\\n\\nYou bring your body, mind, heart and s...</td>\n      <td>3.4</td>\n      <td>SCL Health\\n3.4</td>\n      <td>Broomfield, CO</td>\n      <td>Broomfield, CO</td>\n      <td>10000+ employees</td>\n      <td>1864.0</td>\n      <td>Nonprofit Organization</td>\n      <td>Health Care Services &amp; Hospitals</td>\n      <td>Health Care</td>\n      <td>$2 to $5 billion (USD)</td>\n      <td>Centura Health, HealthONE, Denver Health and H...</td>\n      <td>NaN</td>\n    </tr>\n  </tbody>\n</table>\n<p>2253 rows × 16 columns</p>\n</div>"
     },
     "execution_count": 29,
     "metadata": {},
     "output_type": "execute_result"
    }
   ],
   "source": [
    "listings.replace(['-1', '1', '-1.0', -1 ], np.nan, inplace=True)\n",
    "listings"
   ],
   "metadata": {
    "collapsed": false,
    "pycharm": {
     "name": "#%%\n"
    }
   }
  },
  {
   "cell_type": "code",
   "execution_count": 30,
   "outputs": [
    {
     "data": {
      "text/plain": "Unnamed: 0              0\nJob Title               0\nSalary Estimate         1\nJob Description         0\nRating                272\nCompany Name            2\nLocation                0\nHeadquarters          172\nSize                  163\nFounded               660\nType of ownership     163\nIndustry              353\nSector                353\nRevenue               163\nCompetitors          1732\nEasy Apply           2173\ndtype: int64"
     },
     "execution_count": 30,
     "metadata": {},
     "output_type": "execute_result"
    }
   ],
   "source": [
    "listings.isnull().sum()"
   ],
   "metadata": {
    "collapsed": false,
    "pycharm": {
     "name": "#%%\n"
    }
   }
  },
  {
   "cell_type": "markdown",
   "source": [
    "<center><h3 style='color:#B2FF9E'>Salary bands</h3></center>\n"
   ],
   "metadata": {
    "collapsed": false,
    "pycharm": {
     "name": "#%% md\n"
    }
   }
  },
  {
   "cell_type": "code",
   "execution_count": 31,
   "outputs": [
    {
     "data": {
      "text/plain": "      Unnamed: 0                                          Job Title  \\\n0              0  Data Analyst, Center on Immigration and Justic...   \n1              1                               Quality Data Analyst   \n2              2  Senior Data Analyst, Insights & Analytics Team...   \n3              3                                       Data Analyst   \n4              4                             Reporting Data Analyst   \n...          ...                                                ...   \n2248        2248  RQS - IHHA - 201900004460 -1q Data Security An...   \n2249        2249              Senior Data Analyst (Corporate Audit)   \n2250        2250  Technical Business Analyst (SQL, Data analytic...   \n2251        2251                Data Analyst 3, Customer Experience   \n2252        2252                        Senior Quality Data Analyst   \n\n     Salary Estimate                                    Job Description  \\\n0          $37K-$66K  Are you eager to roll up your sleeves and harn...   \n1          $37K-$66K  Overview\\n\\nProvides analytical and technical ...   \n2          $37K-$66K  We’re looking for a Senior Data Analyst who ha...   \n3          $37K-$66K  Requisition NumberRR-0001939\\nRemote:Yes\\nWe c...   \n4          $37K-$66K  ABOUT FANDUEL GROUP\\n\\nFanDuel Group is a worl...   \n...              ...                                                ...   \n2248      $78K-$104K  Maintains systems to protect data from unautho...   \n2249      $78K-$104K  Position:\\nSenior Data Analyst (Corporate Audi...   \n2250      $78K-$104K  Title: Technical Business Analyst (SQL, Data a...   \n2251      $78K-$104K  Summary\\n\\nResponsible for working cross-funct...   \n2252      $78K-$104K  You.\\n\\nYou bring your body, mind, heart and s...   \n\n      Rating                             Company Name        Location  \\\n0        3.2           Vera Institute of Justice\\n3.2    New York, NY   \n1        3.8  Visiting Nurse Service of New York\\n3.8    New York, NY   \n2        3.4                         Squarespace\\n3.4    New York, NY   \n3        4.1                            Celerity\\n4.1    New York, NY   \n4        3.9                             FanDuel\\n3.9    New York, NY   \n...      ...                                      ...             ...   \n2248     2.5                       Avacend, Inc.\\n2.5      Denver, CO   \n2249     2.9                   Arrow Electronics\\n2.9  Centennial, CO   \n2250     NaN                                 Spiceorb      Denver, CO   \n2251     3.1         Contingent Network Services\\n3.1  Centennial, CO   \n2252     3.4                          SCL Health\\n3.4  Broomfield, CO   \n\n          Headquarters                    Size  Founded  \\\n0         New York, NY    201 to 500 employees   1961.0   \n1         New York, NY        10000+ employees   1893.0   \n2         New York, NY  1001 to 5000 employees   2003.0   \n3           McLean, VA    201 to 500 employees   2002.0   \n4         New York, NY   501 to 1000 employees   2009.0   \n...                ...                     ...      ...   \n2248    Alpharetta, GA     51 to 200 employees      NaN   \n2249    Centennial, CO        10000+ employees   1935.0   \n2250               NaN                     NaN      NaN   \n2251  West Chester, OH    201 to 500 employees   1984.0   \n2252    Broomfield, CO        10000+ employees   1864.0   \n\n                   Type of ownership                                 Industry  \\\n0             Nonprofit Organization                        Social Assistance   \n1             Nonprofit Organization         Health Care Services & Hospitals   \n2                  Company - Private                                 Internet   \n3     Subsidiary or Business Segment                              IT Services   \n4                  Company - Private                      Sports & Recreation   \n...                              ...                                      ...   \n2248               Company - Private                   Staffing & Outsourcing   \n2249                Company - Public                                Wholesale   \n2250                             NaN                                      NaN   \n2251               Company - Private  Enterprise Software & Network Solutions   \n2252          Nonprofit Organization         Health Care Services & Hospitals   \n\n                                Sector                     Revenue  \\\n0                           Non-Profit  $100 to $500 million (USD)   \n1                          Health Care      $2 to $5 billion (USD)   \n2               Information Technology    Unknown / Non-Applicable   \n3               Information Technology   $50 to $100 million (USD)   \n4     Arts, Entertainment & Recreation  $100 to $500 million (USD)   \n...                                ...                         ...   \n2248                 Business Services    Unknown / Non-Applicable   \n2249                 Business Services          $10+ billion (USD)   \n2250                               NaN                         NaN   \n2251            Information Technology    $25 to $50 million (USD)   \n2252                       Health Care      $2 to $5 billion (USD)   \n\n                                            Competitors Easy Apply  \\\n0                                                   NaN       True   \n1                                                   NaN        NaN   \n2                                               GoDaddy        NaN   \n3                                                   NaN        NaN   \n4                                            DraftKings       True   \n...                                                 ...        ...   \n2248                                                NaN        NaN   \n2249                     Avnet, Ingram Micro, Tech Data        NaN   \n2250                                                NaN        NaN   \n2251                                                NaN        NaN   \n2252  Centura Health, HealthONE, Denver Health and H...        NaN   \n\n      salary_lower  salary_higher  avg_salary  \n0          37000.0        66000.0     51500.0  \n1          37000.0        66000.0     51500.0  \n2          37000.0        66000.0     51500.0  \n3          37000.0        66000.0     51500.0  \n4          37000.0        66000.0     51500.0  \n...            ...            ...         ...  \n2248       78000.0       104000.0     91000.0  \n2249       78000.0       104000.0     91000.0  \n2250       78000.0       104000.0     91000.0  \n2251       78000.0       104000.0     91000.0  \n2252       78000.0       104000.0     91000.0  \n\n[2253 rows x 19 columns]",
      "text/html": "<div>\n<style scoped>\n    .dataframe tbody tr th:only-of-type {\n        vertical-align: middle;\n    }\n\n    .dataframe tbody tr th {\n        vertical-align: top;\n    }\n\n    .dataframe thead th {\n        text-align: right;\n    }\n</style>\n<table border=\"1\" class=\"dataframe\">\n  <thead>\n    <tr style=\"text-align: right;\">\n      <th></th>\n      <th>Unnamed: 0</th>\n      <th>Job Title</th>\n      <th>Salary Estimate</th>\n      <th>Job Description</th>\n      <th>Rating</th>\n      <th>Company Name</th>\n      <th>Location</th>\n      <th>Headquarters</th>\n      <th>Size</th>\n      <th>Founded</th>\n      <th>Type of ownership</th>\n      <th>Industry</th>\n      <th>Sector</th>\n      <th>Revenue</th>\n      <th>Competitors</th>\n      <th>Easy Apply</th>\n      <th>salary_lower</th>\n      <th>salary_higher</th>\n      <th>avg_salary</th>\n    </tr>\n  </thead>\n  <tbody>\n    <tr>\n      <th>0</th>\n      <td>0</td>\n      <td>Data Analyst, Center on Immigration and Justic...</td>\n      <td>$37K-$66K</td>\n      <td>Are you eager to roll up your sleeves and harn...</td>\n      <td>3.2</td>\n      <td>Vera Institute of Justice\\n3.2</td>\n      <td>New York, NY</td>\n      <td>New York, NY</td>\n      <td>201 to 500 employees</td>\n      <td>1961.0</td>\n      <td>Nonprofit Organization</td>\n      <td>Social Assistance</td>\n      <td>Non-Profit</td>\n      <td>$100 to $500 million (USD)</td>\n      <td>NaN</td>\n      <td>True</td>\n      <td>37000.0</td>\n      <td>66000.0</td>\n      <td>51500.0</td>\n    </tr>\n    <tr>\n      <th>1</th>\n      <td>1</td>\n      <td>Quality Data Analyst</td>\n      <td>$37K-$66K</td>\n      <td>Overview\\n\\nProvides analytical and technical ...</td>\n      <td>3.8</td>\n      <td>Visiting Nurse Service of New York\\n3.8</td>\n      <td>New York, NY</td>\n      <td>New York, NY</td>\n      <td>10000+ employees</td>\n      <td>1893.0</td>\n      <td>Nonprofit Organization</td>\n      <td>Health Care Services &amp; Hospitals</td>\n      <td>Health Care</td>\n      <td>$2 to $5 billion (USD)</td>\n      <td>NaN</td>\n      <td>NaN</td>\n      <td>37000.0</td>\n      <td>66000.0</td>\n      <td>51500.0</td>\n    </tr>\n    <tr>\n      <th>2</th>\n      <td>2</td>\n      <td>Senior Data Analyst, Insights &amp; Analytics Team...</td>\n      <td>$37K-$66K</td>\n      <td>We’re looking for a Senior Data Analyst who ha...</td>\n      <td>3.4</td>\n      <td>Squarespace\\n3.4</td>\n      <td>New York, NY</td>\n      <td>New York, NY</td>\n      <td>1001 to 5000 employees</td>\n      <td>2003.0</td>\n      <td>Company - Private</td>\n      <td>Internet</td>\n      <td>Information Technology</td>\n      <td>Unknown / Non-Applicable</td>\n      <td>GoDaddy</td>\n      <td>NaN</td>\n      <td>37000.0</td>\n      <td>66000.0</td>\n      <td>51500.0</td>\n    </tr>\n    <tr>\n      <th>3</th>\n      <td>3</td>\n      <td>Data Analyst</td>\n      <td>$37K-$66K</td>\n      <td>Requisition NumberRR-0001939\\nRemote:Yes\\nWe c...</td>\n      <td>4.1</td>\n      <td>Celerity\\n4.1</td>\n      <td>New York, NY</td>\n      <td>McLean, VA</td>\n      <td>201 to 500 employees</td>\n      <td>2002.0</td>\n      <td>Subsidiary or Business Segment</td>\n      <td>IT Services</td>\n      <td>Information Technology</td>\n      <td>$50 to $100 million (USD)</td>\n      <td>NaN</td>\n      <td>NaN</td>\n      <td>37000.0</td>\n      <td>66000.0</td>\n      <td>51500.0</td>\n    </tr>\n    <tr>\n      <th>4</th>\n      <td>4</td>\n      <td>Reporting Data Analyst</td>\n      <td>$37K-$66K</td>\n      <td>ABOUT FANDUEL GROUP\\n\\nFanDuel Group is a worl...</td>\n      <td>3.9</td>\n      <td>FanDuel\\n3.9</td>\n      <td>New York, NY</td>\n      <td>New York, NY</td>\n      <td>501 to 1000 employees</td>\n      <td>2009.0</td>\n      <td>Company - Private</td>\n      <td>Sports &amp; Recreation</td>\n      <td>Arts, Entertainment &amp; Recreation</td>\n      <td>$100 to $500 million (USD)</td>\n      <td>DraftKings</td>\n      <td>True</td>\n      <td>37000.0</td>\n      <td>66000.0</td>\n      <td>51500.0</td>\n    </tr>\n    <tr>\n      <th>...</th>\n      <td>...</td>\n      <td>...</td>\n      <td>...</td>\n      <td>...</td>\n      <td>...</td>\n      <td>...</td>\n      <td>...</td>\n      <td>...</td>\n      <td>...</td>\n      <td>...</td>\n      <td>...</td>\n      <td>...</td>\n      <td>...</td>\n      <td>...</td>\n      <td>...</td>\n      <td>...</td>\n      <td>...</td>\n      <td>...</td>\n      <td>...</td>\n    </tr>\n    <tr>\n      <th>2248</th>\n      <td>2248</td>\n      <td>RQS - IHHA - 201900004460 -1q Data Security An...</td>\n      <td>$78K-$104K</td>\n      <td>Maintains systems to protect data from unautho...</td>\n      <td>2.5</td>\n      <td>Avacend, Inc.\\n2.5</td>\n      <td>Denver, CO</td>\n      <td>Alpharetta, GA</td>\n      <td>51 to 200 employees</td>\n      <td>NaN</td>\n      <td>Company - Private</td>\n      <td>Staffing &amp; Outsourcing</td>\n      <td>Business Services</td>\n      <td>Unknown / Non-Applicable</td>\n      <td>NaN</td>\n      <td>NaN</td>\n      <td>78000.0</td>\n      <td>104000.0</td>\n      <td>91000.0</td>\n    </tr>\n    <tr>\n      <th>2249</th>\n      <td>2249</td>\n      <td>Senior Data Analyst (Corporate Audit)</td>\n      <td>$78K-$104K</td>\n      <td>Position:\\nSenior Data Analyst (Corporate Audi...</td>\n      <td>2.9</td>\n      <td>Arrow Electronics\\n2.9</td>\n      <td>Centennial, CO</td>\n      <td>Centennial, CO</td>\n      <td>10000+ employees</td>\n      <td>1935.0</td>\n      <td>Company - Public</td>\n      <td>Wholesale</td>\n      <td>Business Services</td>\n      <td>$10+ billion (USD)</td>\n      <td>Avnet, Ingram Micro, Tech Data</td>\n      <td>NaN</td>\n      <td>78000.0</td>\n      <td>104000.0</td>\n      <td>91000.0</td>\n    </tr>\n    <tr>\n      <th>2250</th>\n      <td>2250</td>\n      <td>Technical Business Analyst (SQL, Data analytic...</td>\n      <td>$78K-$104K</td>\n      <td>Title: Technical Business Analyst (SQL, Data a...</td>\n      <td>NaN</td>\n      <td>Spiceorb</td>\n      <td>Denver, CO</td>\n      <td>NaN</td>\n      <td>NaN</td>\n      <td>NaN</td>\n      <td>NaN</td>\n      <td>NaN</td>\n      <td>NaN</td>\n      <td>NaN</td>\n      <td>NaN</td>\n      <td>NaN</td>\n      <td>78000.0</td>\n      <td>104000.0</td>\n      <td>91000.0</td>\n    </tr>\n    <tr>\n      <th>2251</th>\n      <td>2251</td>\n      <td>Data Analyst 3, Customer Experience</td>\n      <td>$78K-$104K</td>\n      <td>Summary\\n\\nResponsible for working cross-funct...</td>\n      <td>3.1</td>\n      <td>Contingent Network Services\\n3.1</td>\n      <td>Centennial, CO</td>\n      <td>West Chester, OH</td>\n      <td>201 to 500 employees</td>\n      <td>1984.0</td>\n      <td>Company - Private</td>\n      <td>Enterprise Software &amp; Network Solutions</td>\n      <td>Information Technology</td>\n      <td>$25 to $50 million (USD)</td>\n      <td>NaN</td>\n      <td>NaN</td>\n      <td>78000.0</td>\n      <td>104000.0</td>\n      <td>91000.0</td>\n    </tr>\n    <tr>\n      <th>2252</th>\n      <td>2252</td>\n      <td>Senior Quality Data Analyst</td>\n      <td>$78K-$104K</td>\n      <td>You.\\n\\nYou bring your body, mind, heart and s...</td>\n      <td>3.4</td>\n      <td>SCL Health\\n3.4</td>\n      <td>Broomfield, CO</td>\n      <td>Broomfield, CO</td>\n      <td>10000+ employees</td>\n      <td>1864.0</td>\n      <td>Nonprofit Organization</td>\n      <td>Health Care Services &amp; Hospitals</td>\n      <td>Health Care</td>\n      <td>$2 to $5 billion (USD)</td>\n      <td>Centura Health, HealthONE, Denver Health and H...</td>\n      <td>NaN</td>\n      <td>78000.0</td>\n      <td>104000.0</td>\n      <td>91000.0</td>\n    </tr>\n  </tbody>\n</table>\n<p>2253 rows × 19 columns</p>\n</div>"
     },
     "execution_count": 31,
     "metadata": {},
     "output_type": "execute_result"
    }
   ],
   "source": [
    "salary_band = listings['Salary Estimate'].apply( lambda x: str(x).split(' ')[0].replace('K','000').replace('$','')).str.split('-', n=1, expand=True)\n",
    "listings['salary_lower'] = salary_band[0].astype(float)\n",
    "listings['salary_higher'] = salary_band[1].astype(float)\n",
    "listings['avg_salary'] = (listings['salary_lower'] + listings['salary_higher'] ) / 2\n",
    "listings['Salary Estimate'] = listings['Salary Estimate'].apply(lambda x: str(x).split(\" \")[0])\n",
    "\n",
    "listings"
   ],
   "metadata": {
    "collapsed": false,
    "pycharm": {
     "name": "#%%\n"
    }
   }
  },
  {
   "cell_type": "markdown",
   "source": [
    "<center><h3 style='color:#B2FF9E'>Tech skills in job descriptions</h3></center>"
   ],
   "metadata": {
    "collapsed": false,
    "pycharm": {
     "name": "#%% md\n"
    }
   }
  },
  {
   "cell_type": "code",
   "execution_count": 32,
   "outputs": [],
   "source": [
    "#We get a few tech skills\n",
    "def tech_skills(df):\n",
    "    skills = ['sql', 'python', 'etl', 'power bi', 'tableau', 'excel', 'aws', 'azure', 'sap', 'oracle', 'dashboards']\n",
    "    for skill in skills:\n",
    "        df[skill]= np.where(df['Job Description'].apply(lambda x: x.lower()).str.contains(skill.lower() ),1,0)\n",
    "\n",
    "tech_skills(listings)"
   ],
   "metadata": {
    "collapsed": false,
    "pycharm": {
     "name": "#%%\n"
    }
   }
  },
  {
   "cell_type": "code",
   "execution_count": 33,
   "outputs": [
    {
     "data": {
      "text/plain": "      Unnamed: 0                                          Job Title  \\\n0              0  Data Analyst, Center on Immigration and Justic...   \n1              1                               Quality Data Analyst   \n2              2  Senior Data Analyst, Insights & Analytics Team...   \n3              3                                       Data Analyst   \n4              4                             Reporting Data Analyst   \n...          ...                                                ...   \n2248        2248  RQS - IHHA - 201900004460 -1q Data Security An...   \n2249        2249              Senior Data Analyst (Corporate Audit)   \n2250        2250  Technical Business Analyst (SQL, Data analytic...   \n2251        2251                Data Analyst 3, Customer Experience   \n2252        2252                        Senior Quality Data Analyst   \n\n     Salary Estimate                                    Job Description  \\\n0          $37K-$66K  Are you eager to roll up your sleeves and harn...   \n1          $37K-$66K  Overview\\n\\nProvides analytical and technical ...   \n2          $37K-$66K  We’re looking for a Senior Data Analyst who ha...   \n3          $37K-$66K  Requisition NumberRR-0001939\\nRemote:Yes\\nWe c...   \n4          $37K-$66K  ABOUT FANDUEL GROUP\\n\\nFanDuel Group is a worl...   \n...              ...                                                ...   \n2248      $78K-$104K  Maintains systems to protect data from unautho...   \n2249      $78K-$104K  Position:\\nSenior Data Analyst (Corporate Audi...   \n2250      $78K-$104K  Title: Technical Business Analyst (SQL, Data a...   \n2251      $78K-$104K  Summary\\n\\nResponsible for working cross-funct...   \n2252      $78K-$104K  You.\\n\\nYou bring your body, mind, heart and s...   \n\n      Rating                             Company Name        Location  \\\n0        3.2           Vera Institute of Justice\\n3.2    New York, NY   \n1        3.8  Visiting Nurse Service of New York\\n3.8    New York, NY   \n2        3.4                         Squarespace\\n3.4    New York, NY   \n3        4.1                            Celerity\\n4.1    New York, NY   \n4        3.9                             FanDuel\\n3.9    New York, NY   \n...      ...                                      ...             ...   \n2248     2.5                       Avacend, Inc.\\n2.5      Denver, CO   \n2249     2.9                   Arrow Electronics\\n2.9  Centennial, CO   \n2250     NaN                                 Spiceorb      Denver, CO   \n2251     3.1         Contingent Network Services\\n3.1  Centennial, CO   \n2252     3.4                          SCL Health\\n3.4  Broomfield, CO   \n\n          Headquarters                    Size  Founded  ... python etl  \\\n0         New York, NY    201 to 500 employees   1961.0  ...      1   0   \n1         New York, NY        10000+ employees   1893.0  ...      0   0   \n2         New York, NY  1001 to 5000 employees   2003.0  ...      1   0   \n3           McLean, VA    201 to 500 employees   2002.0  ...      0   1   \n4         New York, NY   501 to 1000 employees   2009.0  ...      1   0   \n...                ...                     ...      ...  ...    ...  ..   \n2248    Alpharetta, GA     51 to 200 employees      NaN  ...      0   0   \n2249    Centennial, CO        10000+ employees   1935.0  ...      0   0   \n2250               NaN                     NaN      NaN  ...      0   1   \n2251  West Chester, OH    201 to 500 employees   1984.0  ...      1   0   \n2252    Broomfield, CO        10000+ employees   1864.0  ...      0   0   \n\n     power bi tableau excel aws  azure  sap  oracle  dashboards  \n0           0       0     0   1      0    0       0           1  \n1           0       0     1   0      0    0       0           1  \n2           0       1     1   0      0    0       0           1  \n3           0       1     0   1      0    0       0           0  \n4           0       0     1   0      0    0       0           0  \n...       ...     ...   ...  ..    ...  ...     ...         ...  \n2248        0       0     0   0      0    0       0           0  \n2249        0       1     0   0      0    0       1           0  \n2250        0       0     1   0      0    0       0           0  \n2251        0       0     0   0      0    0       1           0  \n2252        0       1     1   0      0    0       1           1  \n\n[2253 rows x 30 columns]",
      "text/html": "<div>\n<style scoped>\n    .dataframe tbody tr th:only-of-type {\n        vertical-align: middle;\n    }\n\n    .dataframe tbody tr th {\n        vertical-align: top;\n    }\n\n    .dataframe thead th {\n        text-align: right;\n    }\n</style>\n<table border=\"1\" class=\"dataframe\">\n  <thead>\n    <tr style=\"text-align: right;\">\n      <th></th>\n      <th>Unnamed: 0</th>\n      <th>Job Title</th>\n      <th>Salary Estimate</th>\n      <th>Job Description</th>\n      <th>Rating</th>\n      <th>Company Name</th>\n      <th>Location</th>\n      <th>Headquarters</th>\n      <th>Size</th>\n      <th>Founded</th>\n      <th>...</th>\n      <th>python</th>\n      <th>etl</th>\n      <th>power bi</th>\n      <th>tableau</th>\n      <th>excel</th>\n      <th>aws</th>\n      <th>azure</th>\n      <th>sap</th>\n      <th>oracle</th>\n      <th>dashboards</th>\n    </tr>\n  </thead>\n  <tbody>\n    <tr>\n      <th>0</th>\n      <td>0</td>\n      <td>Data Analyst, Center on Immigration and Justic...</td>\n      <td>$37K-$66K</td>\n      <td>Are you eager to roll up your sleeves and harn...</td>\n      <td>3.2</td>\n      <td>Vera Institute of Justice\\n3.2</td>\n      <td>New York, NY</td>\n      <td>New York, NY</td>\n      <td>201 to 500 employees</td>\n      <td>1961.0</td>\n      <td>...</td>\n      <td>1</td>\n      <td>0</td>\n      <td>0</td>\n      <td>0</td>\n      <td>0</td>\n      <td>1</td>\n      <td>0</td>\n      <td>0</td>\n      <td>0</td>\n      <td>1</td>\n    </tr>\n    <tr>\n      <th>1</th>\n      <td>1</td>\n      <td>Quality Data Analyst</td>\n      <td>$37K-$66K</td>\n      <td>Overview\\n\\nProvides analytical and technical ...</td>\n      <td>3.8</td>\n      <td>Visiting Nurse Service of New York\\n3.8</td>\n      <td>New York, NY</td>\n      <td>New York, NY</td>\n      <td>10000+ employees</td>\n      <td>1893.0</td>\n      <td>...</td>\n      <td>0</td>\n      <td>0</td>\n      <td>0</td>\n      <td>0</td>\n      <td>1</td>\n      <td>0</td>\n      <td>0</td>\n      <td>0</td>\n      <td>0</td>\n      <td>1</td>\n    </tr>\n    <tr>\n      <th>2</th>\n      <td>2</td>\n      <td>Senior Data Analyst, Insights &amp; Analytics Team...</td>\n      <td>$37K-$66K</td>\n      <td>We’re looking for a Senior Data Analyst who ha...</td>\n      <td>3.4</td>\n      <td>Squarespace\\n3.4</td>\n      <td>New York, NY</td>\n      <td>New York, NY</td>\n      <td>1001 to 5000 employees</td>\n      <td>2003.0</td>\n      <td>...</td>\n      <td>1</td>\n      <td>0</td>\n      <td>0</td>\n      <td>1</td>\n      <td>1</td>\n      <td>0</td>\n      <td>0</td>\n      <td>0</td>\n      <td>0</td>\n      <td>1</td>\n    </tr>\n    <tr>\n      <th>3</th>\n      <td>3</td>\n      <td>Data Analyst</td>\n      <td>$37K-$66K</td>\n      <td>Requisition NumberRR-0001939\\nRemote:Yes\\nWe c...</td>\n      <td>4.1</td>\n      <td>Celerity\\n4.1</td>\n      <td>New York, NY</td>\n      <td>McLean, VA</td>\n      <td>201 to 500 employees</td>\n      <td>2002.0</td>\n      <td>...</td>\n      <td>0</td>\n      <td>1</td>\n      <td>0</td>\n      <td>1</td>\n      <td>0</td>\n      <td>1</td>\n      <td>0</td>\n      <td>0</td>\n      <td>0</td>\n      <td>0</td>\n    </tr>\n    <tr>\n      <th>4</th>\n      <td>4</td>\n      <td>Reporting Data Analyst</td>\n      <td>$37K-$66K</td>\n      <td>ABOUT FANDUEL GROUP\\n\\nFanDuel Group is a worl...</td>\n      <td>3.9</td>\n      <td>FanDuel\\n3.9</td>\n      <td>New York, NY</td>\n      <td>New York, NY</td>\n      <td>501 to 1000 employees</td>\n      <td>2009.0</td>\n      <td>...</td>\n      <td>1</td>\n      <td>0</td>\n      <td>0</td>\n      <td>0</td>\n      <td>1</td>\n      <td>0</td>\n      <td>0</td>\n      <td>0</td>\n      <td>0</td>\n      <td>0</td>\n    </tr>\n    <tr>\n      <th>...</th>\n      <td>...</td>\n      <td>...</td>\n      <td>...</td>\n      <td>...</td>\n      <td>...</td>\n      <td>...</td>\n      <td>...</td>\n      <td>...</td>\n      <td>...</td>\n      <td>...</td>\n      <td>...</td>\n      <td>...</td>\n      <td>...</td>\n      <td>...</td>\n      <td>...</td>\n      <td>...</td>\n      <td>...</td>\n      <td>...</td>\n      <td>...</td>\n      <td>...</td>\n      <td>...</td>\n    </tr>\n    <tr>\n      <th>2248</th>\n      <td>2248</td>\n      <td>RQS - IHHA - 201900004460 -1q Data Security An...</td>\n      <td>$78K-$104K</td>\n      <td>Maintains systems to protect data from unautho...</td>\n      <td>2.5</td>\n      <td>Avacend, Inc.\\n2.5</td>\n      <td>Denver, CO</td>\n      <td>Alpharetta, GA</td>\n      <td>51 to 200 employees</td>\n      <td>NaN</td>\n      <td>...</td>\n      <td>0</td>\n      <td>0</td>\n      <td>0</td>\n      <td>0</td>\n      <td>0</td>\n      <td>0</td>\n      <td>0</td>\n      <td>0</td>\n      <td>0</td>\n      <td>0</td>\n    </tr>\n    <tr>\n      <th>2249</th>\n      <td>2249</td>\n      <td>Senior Data Analyst (Corporate Audit)</td>\n      <td>$78K-$104K</td>\n      <td>Position:\\nSenior Data Analyst (Corporate Audi...</td>\n      <td>2.9</td>\n      <td>Arrow Electronics\\n2.9</td>\n      <td>Centennial, CO</td>\n      <td>Centennial, CO</td>\n      <td>10000+ employees</td>\n      <td>1935.0</td>\n      <td>...</td>\n      <td>0</td>\n      <td>0</td>\n      <td>0</td>\n      <td>1</td>\n      <td>0</td>\n      <td>0</td>\n      <td>0</td>\n      <td>0</td>\n      <td>1</td>\n      <td>0</td>\n    </tr>\n    <tr>\n      <th>2250</th>\n      <td>2250</td>\n      <td>Technical Business Analyst (SQL, Data analytic...</td>\n      <td>$78K-$104K</td>\n      <td>Title: Technical Business Analyst (SQL, Data a...</td>\n      <td>NaN</td>\n      <td>Spiceorb</td>\n      <td>Denver, CO</td>\n      <td>NaN</td>\n      <td>NaN</td>\n      <td>NaN</td>\n      <td>...</td>\n      <td>0</td>\n      <td>1</td>\n      <td>0</td>\n      <td>0</td>\n      <td>1</td>\n      <td>0</td>\n      <td>0</td>\n      <td>0</td>\n      <td>0</td>\n      <td>0</td>\n    </tr>\n    <tr>\n      <th>2251</th>\n      <td>2251</td>\n      <td>Data Analyst 3, Customer Experience</td>\n      <td>$78K-$104K</td>\n      <td>Summary\\n\\nResponsible for working cross-funct...</td>\n      <td>3.1</td>\n      <td>Contingent Network Services\\n3.1</td>\n      <td>Centennial, CO</td>\n      <td>West Chester, OH</td>\n      <td>201 to 500 employees</td>\n      <td>1984.0</td>\n      <td>...</td>\n      <td>1</td>\n      <td>0</td>\n      <td>0</td>\n      <td>0</td>\n      <td>0</td>\n      <td>0</td>\n      <td>0</td>\n      <td>0</td>\n      <td>1</td>\n      <td>0</td>\n    </tr>\n    <tr>\n      <th>2252</th>\n      <td>2252</td>\n      <td>Senior Quality Data Analyst</td>\n      <td>$78K-$104K</td>\n      <td>You.\\n\\nYou bring your body, mind, heart and s...</td>\n      <td>3.4</td>\n      <td>SCL Health\\n3.4</td>\n      <td>Broomfield, CO</td>\n      <td>Broomfield, CO</td>\n      <td>10000+ employees</td>\n      <td>1864.0</td>\n      <td>...</td>\n      <td>0</td>\n      <td>0</td>\n      <td>0</td>\n      <td>1</td>\n      <td>1</td>\n      <td>0</td>\n      <td>0</td>\n      <td>0</td>\n      <td>1</td>\n      <td>1</td>\n    </tr>\n  </tbody>\n</table>\n<p>2253 rows × 30 columns</p>\n</div>"
     },
     "execution_count": 33,
     "metadata": {},
     "output_type": "execute_result"
    }
   ],
   "source": [
    "listings"
   ],
   "metadata": {
    "collapsed": false,
    "pycharm": {
     "name": "#%%\n"
    }
   }
  },
  {
   "cell_type": "markdown",
   "source": [
    "<center><h3 style='color:#B2FF9E'>Company name cleanup</h3></center>"
   ],
   "metadata": {
    "collapsed": false,
    "pycharm": {
     "name": "#%% md\n"
    }
   }
  },
  {
   "cell_type": "code",
   "execution_count": 34,
   "outputs": [
    {
     "data": {
      "text/plain": "      Unnamed: 0                                          Job Title  \\\n0              0  Data Analyst, Center on Immigration and Justic...   \n1              1                               Quality Data Analyst   \n2              2  Senior Data Analyst, Insights & Analytics Team...   \n3              3                                       Data Analyst   \n4              4                             Reporting Data Analyst   \n...          ...                                                ...   \n2248        2248  RQS - IHHA - 201900004460 -1q Data Security An...   \n2249        2249              Senior Data Analyst (Corporate Audit)   \n2250        2250  Technical Business Analyst (SQL, Data analytic...   \n2251        2251                Data Analyst 3, Customer Experience   \n2252        2252                        Senior Quality Data Analyst   \n\n     Salary Estimate                                    Job Description  \\\n0          $37K-$66K  Are you eager to roll up your sleeves and harn...   \n1          $37K-$66K  Overview\\n\\nProvides analytical and technical ...   \n2          $37K-$66K  We’re looking for a Senior Data Analyst who ha...   \n3          $37K-$66K  Requisition NumberRR-0001939\\nRemote:Yes\\nWe c...   \n4          $37K-$66K  ABOUT FANDUEL GROUP\\n\\nFanDuel Group is a worl...   \n...              ...                                                ...   \n2248      $78K-$104K  Maintains systems to protect data from unautho...   \n2249      $78K-$104K  Position:\\nSenior Data Analyst (Corporate Audi...   \n2250      $78K-$104K  Title: Technical Business Analyst (SQL, Data a...   \n2251      $78K-$104K  Summary\\n\\nResponsible for working cross-funct...   \n2252      $78K-$104K  You.\\n\\nYou bring your body, mind, heart and s...   \n\n      Rating                        Company Name        Location  \\\n0        3.2           Vera Institute of Justice    New York, NY   \n1        3.8  Visiting Nurse Service of New York    New York, NY   \n2        3.4                         Squarespace    New York, NY   \n3        4.1                            Celerity    New York, NY   \n4        3.9                             FanDuel    New York, NY   \n...      ...                                 ...             ...   \n2248     2.5                       Avacend, Inc.      Denver, CO   \n2249     2.9                   Arrow Electronics  Centennial, CO   \n2250     NaN                            Spiceorb      Denver, CO   \n2251     3.1         Contingent Network Services  Centennial, CO   \n2252     3.4                          SCL Health  Broomfield, CO   \n\n          Headquarters                    Size  Founded  ... python etl  \\\n0         New York, NY    201 to 500 employees   1961.0  ...      1   0   \n1         New York, NY        10000+ employees   1893.0  ...      0   0   \n2         New York, NY  1001 to 5000 employees   2003.0  ...      1   0   \n3           McLean, VA    201 to 500 employees   2002.0  ...      0   1   \n4         New York, NY   501 to 1000 employees   2009.0  ...      1   0   \n...                ...                     ...      ...  ...    ...  ..   \n2248    Alpharetta, GA     51 to 200 employees      NaN  ...      0   0   \n2249    Centennial, CO        10000+ employees   1935.0  ...      0   0   \n2250               NaN                     NaN      NaN  ...      0   1   \n2251  West Chester, OH    201 to 500 employees   1984.0  ...      1   0   \n2252    Broomfield, CO        10000+ employees   1864.0  ...      0   0   \n\n     power bi tableau excel aws  azure  sap  oracle  dashboards  \n0           0       0     0   1      0    0       0           1  \n1           0       0     1   0      0    0       0           1  \n2           0       1     1   0      0    0       0           1  \n3           0       1     0   1      0    0       0           0  \n4           0       0     1   0      0    0       0           0  \n...       ...     ...   ...  ..    ...  ...     ...         ...  \n2248        0       0     0   0      0    0       0           0  \n2249        0       1     0   0      0    0       1           0  \n2250        0       0     1   0      0    0       0           0  \n2251        0       0     0   0      0    0       1           0  \n2252        0       1     1   0      0    0       1           1  \n\n[2253 rows x 30 columns]",
      "text/html": "<div>\n<style scoped>\n    .dataframe tbody tr th:only-of-type {\n        vertical-align: middle;\n    }\n\n    .dataframe tbody tr th {\n        vertical-align: top;\n    }\n\n    .dataframe thead th {\n        text-align: right;\n    }\n</style>\n<table border=\"1\" class=\"dataframe\">\n  <thead>\n    <tr style=\"text-align: right;\">\n      <th></th>\n      <th>Unnamed: 0</th>\n      <th>Job Title</th>\n      <th>Salary Estimate</th>\n      <th>Job Description</th>\n      <th>Rating</th>\n      <th>Company Name</th>\n      <th>Location</th>\n      <th>Headquarters</th>\n      <th>Size</th>\n      <th>Founded</th>\n      <th>...</th>\n      <th>python</th>\n      <th>etl</th>\n      <th>power bi</th>\n      <th>tableau</th>\n      <th>excel</th>\n      <th>aws</th>\n      <th>azure</th>\n      <th>sap</th>\n      <th>oracle</th>\n      <th>dashboards</th>\n    </tr>\n  </thead>\n  <tbody>\n    <tr>\n      <th>0</th>\n      <td>0</td>\n      <td>Data Analyst, Center on Immigration and Justic...</td>\n      <td>$37K-$66K</td>\n      <td>Are you eager to roll up your sleeves and harn...</td>\n      <td>3.2</td>\n      <td>Vera Institute of Justice</td>\n      <td>New York, NY</td>\n      <td>New York, NY</td>\n      <td>201 to 500 employees</td>\n      <td>1961.0</td>\n      <td>...</td>\n      <td>1</td>\n      <td>0</td>\n      <td>0</td>\n      <td>0</td>\n      <td>0</td>\n      <td>1</td>\n      <td>0</td>\n      <td>0</td>\n      <td>0</td>\n      <td>1</td>\n    </tr>\n    <tr>\n      <th>1</th>\n      <td>1</td>\n      <td>Quality Data Analyst</td>\n      <td>$37K-$66K</td>\n      <td>Overview\\n\\nProvides analytical and technical ...</td>\n      <td>3.8</td>\n      <td>Visiting Nurse Service of New York</td>\n      <td>New York, NY</td>\n      <td>New York, NY</td>\n      <td>10000+ employees</td>\n      <td>1893.0</td>\n      <td>...</td>\n      <td>0</td>\n      <td>0</td>\n      <td>0</td>\n      <td>0</td>\n      <td>1</td>\n      <td>0</td>\n      <td>0</td>\n      <td>0</td>\n      <td>0</td>\n      <td>1</td>\n    </tr>\n    <tr>\n      <th>2</th>\n      <td>2</td>\n      <td>Senior Data Analyst, Insights &amp; Analytics Team...</td>\n      <td>$37K-$66K</td>\n      <td>We’re looking for a Senior Data Analyst who ha...</td>\n      <td>3.4</td>\n      <td>Squarespace</td>\n      <td>New York, NY</td>\n      <td>New York, NY</td>\n      <td>1001 to 5000 employees</td>\n      <td>2003.0</td>\n      <td>...</td>\n      <td>1</td>\n      <td>0</td>\n      <td>0</td>\n      <td>1</td>\n      <td>1</td>\n      <td>0</td>\n      <td>0</td>\n      <td>0</td>\n      <td>0</td>\n      <td>1</td>\n    </tr>\n    <tr>\n      <th>3</th>\n      <td>3</td>\n      <td>Data Analyst</td>\n      <td>$37K-$66K</td>\n      <td>Requisition NumberRR-0001939\\nRemote:Yes\\nWe c...</td>\n      <td>4.1</td>\n      <td>Celerity</td>\n      <td>New York, NY</td>\n      <td>McLean, VA</td>\n      <td>201 to 500 employees</td>\n      <td>2002.0</td>\n      <td>...</td>\n      <td>0</td>\n      <td>1</td>\n      <td>0</td>\n      <td>1</td>\n      <td>0</td>\n      <td>1</td>\n      <td>0</td>\n      <td>0</td>\n      <td>0</td>\n      <td>0</td>\n    </tr>\n    <tr>\n      <th>4</th>\n      <td>4</td>\n      <td>Reporting Data Analyst</td>\n      <td>$37K-$66K</td>\n      <td>ABOUT FANDUEL GROUP\\n\\nFanDuel Group is a worl...</td>\n      <td>3.9</td>\n      <td>FanDuel</td>\n      <td>New York, NY</td>\n      <td>New York, NY</td>\n      <td>501 to 1000 employees</td>\n      <td>2009.0</td>\n      <td>...</td>\n      <td>1</td>\n      <td>0</td>\n      <td>0</td>\n      <td>0</td>\n      <td>1</td>\n      <td>0</td>\n      <td>0</td>\n      <td>0</td>\n      <td>0</td>\n      <td>0</td>\n    </tr>\n    <tr>\n      <th>...</th>\n      <td>...</td>\n      <td>...</td>\n      <td>...</td>\n      <td>...</td>\n      <td>...</td>\n      <td>...</td>\n      <td>...</td>\n      <td>...</td>\n      <td>...</td>\n      <td>...</td>\n      <td>...</td>\n      <td>...</td>\n      <td>...</td>\n      <td>...</td>\n      <td>...</td>\n      <td>...</td>\n      <td>...</td>\n      <td>...</td>\n      <td>...</td>\n      <td>...</td>\n      <td>...</td>\n    </tr>\n    <tr>\n      <th>2248</th>\n      <td>2248</td>\n      <td>RQS - IHHA - 201900004460 -1q Data Security An...</td>\n      <td>$78K-$104K</td>\n      <td>Maintains systems to protect data from unautho...</td>\n      <td>2.5</td>\n      <td>Avacend, Inc.</td>\n      <td>Denver, CO</td>\n      <td>Alpharetta, GA</td>\n      <td>51 to 200 employees</td>\n      <td>NaN</td>\n      <td>...</td>\n      <td>0</td>\n      <td>0</td>\n      <td>0</td>\n      <td>0</td>\n      <td>0</td>\n      <td>0</td>\n      <td>0</td>\n      <td>0</td>\n      <td>0</td>\n      <td>0</td>\n    </tr>\n    <tr>\n      <th>2249</th>\n      <td>2249</td>\n      <td>Senior Data Analyst (Corporate Audit)</td>\n      <td>$78K-$104K</td>\n      <td>Position:\\nSenior Data Analyst (Corporate Audi...</td>\n      <td>2.9</td>\n      <td>Arrow Electronics</td>\n      <td>Centennial, CO</td>\n      <td>Centennial, CO</td>\n      <td>10000+ employees</td>\n      <td>1935.0</td>\n      <td>...</td>\n      <td>0</td>\n      <td>0</td>\n      <td>0</td>\n      <td>1</td>\n      <td>0</td>\n      <td>0</td>\n      <td>0</td>\n      <td>0</td>\n      <td>1</td>\n      <td>0</td>\n    </tr>\n    <tr>\n      <th>2250</th>\n      <td>2250</td>\n      <td>Technical Business Analyst (SQL, Data analytic...</td>\n      <td>$78K-$104K</td>\n      <td>Title: Technical Business Analyst (SQL, Data a...</td>\n      <td>NaN</td>\n      <td>Spiceorb</td>\n      <td>Denver, CO</td>\n      <td>NaN</td>\n      <td>NaN</td>\n      <td>NaN</td>\n      <td>...</td>\n      <td>0</td>\n      <td>1</td>\n      <td>0</td>\n      <td>0</td>\n      <td>1</td>\n      <td>0</td>\n      <td>0</td>\n      <td>0</td>\n      <td>0</td>\n      <td>0</td>\n    </tr>\n    <tr>\n      <th>2251</th>\n      <td>2251</td>\n      <td>Data Analyst 3, Customer Experience</td>\n      <td>$78K-$104K</td>\n      <td>Summary\\n\\nResponsible for working cross-funct...</td>\n      <td>3.1</td>\n      <td>Contingent Network Services</td>\n      <td>Centennial, CO</td>\n      <td>West Chester, OH</td>\n      <td>201 to 500 employees</td>\n      <td>1984.0</td>\n      <td>...</td>\n      <td>1</td>\n      <td>0</td>\n      <td>0</td>\n      <td>0</td>\n      <td>0</td>\n      <td>0</td>\n      <td>0</td>\n      <td>0</td>\n      <td>1</td>\n      <td>0</td>\n    </tr>\n    <tr>\n      <th>2252</th>\n      <td>2252</td>\n      <td>Senior Quality Data Analyst</td>\n      <td>$78K-$104K</td>\n      <td>You.\\n\\nYou bring your body, mind, heart and s...</td>\n      <td>3.4</td>\n      <td>SCL Health</td>\n      <td>Broomfield, CO</td>\n      <td>Broomfield, CO</td>\n      <td>10000+ employees</td>\n      <td>1864.0</td>\n      <td>...</td>\n      <td>0</td>\n      <td>0</td>\n      <td>0</td>\n      <td>1</td>\n      <td>1</td>\n      <td>0</td>\n      <td>0</td>\n      <td>0</td>\n      <td>1</td>\n      <td>1</td>\n    </tr>\n  </tbody>\n</table>\n<p>2253 rows × 30 columns</p>\n</div>"
     },
     "execution_count": 34,
     "metadata": {},
     "output_type": "execute_result"
    }
   ],
   "source": [
    "listings['Company Name'] = listings['Company Name'].apply(lambda x: str(x).split(\"\\n\")[0])\n",
    "listings"
   ],
   "metadata": {
    "collapsed": false,
    "pycharm": {
     "name": "#%%\n"
    }
   }
  },
  {
   "cell_type": "markdown",
   "source": [
    "<center><h3 style='color:#B2FF9E'>Size cleanup</h3></center>"
   ],
   "metadata": {
    "collapsed": false,
    "pycharm": {
     "name": "#%% md\n"
    }
   }
  },
  {
   "cell_type": "code",
   "execution_count": 35,
   "outputs": [
    {
     "data": {
      "text/plain": "      Unnamed: 0                                          Job Title  \\\n0              0  Data Analyst, Center on Immigration and Justic...   \n1              1                               Quality Data Analyst   \n2              2  Senior Data Analyst, Insights & Analytics Team...   \n3              3                                       Data Analyst   \n4              4                             Reporting Data Analyst   \n...          ...                                                ...   \n2248        2248  RQS - IHHA - 201900004460 -1q Data Security An...   \n2249        2249              Senior Data Analyst (Corporate Audit)   \n2250        2250  Technical Business Analyst (SQL, Data analytic...   \n2251        2251                Data Analyst 3, Customer Experience   \n2252        2252                        Senior Quality Data Analyst   \n\n     Salary Estimate                                    Job Description  \\\n0          $37K-$66K  Are you eager to roll up your sleeves and harn...   \n1          $37K-$66K  Overview\\n\\nProvides analytical and technical ...   \n2          $37K-$66K  We’re looking for a Senior Data Analyst who ha...   \n3          $37K-$66K  Requisition NumberRR-0001939\\nRemote:Yes\\nWe c...   \n4          $37K-$66K  ABOUT FANDUEL GROUP\\n\\nFanDuel Group is a worl...   \n...              ...                                                ...   \n2248      $78K-$104K  Maintains systems to protect data from unautho...   \n2249      $78K-$104K  Position:\\nSenior Data Analyst (Corporate Audi...   \n2250      $78K-$104K  Title: Technical Business Analyst (SQL, Data a...   \n2251      $78K-$104K  Summary\\n\\nResponsible for working cross-funct...   \n2252      $78K-$104K  You.\\n\\nYou bring your body, mind, heart and s...   \n\n      Rating                        Company Name        Location  \\\n0        3.2           Vera Institute of Justice    New York, NY   \n1        3.8  Visiting Nurse Service of New York    New York, NY   \n2        3.4                         Squarespace    New York, NY   \n3        4.1                            Celerity    New York, NY   \n4        3.9                             FanDuel    New York, NY   \n...      ...                                 ...             ...   \n2248     2.5                       Avacend, Inc.      Denver, CO   \n2249     2.9                   Arrow Electronics  Centennial, CO   \n2250     NaN                            Spiceorb      Denver, CO   \n2251     3.1         Contingent Network Services  Centennial, CO   \n2252     3.4                          SCL Health  Broomfield, CO   \n\n          Headquarters          Size  Founded  ... python etl power bi  \\\n0         New York, NY    201 to 500   1961.0  ...      1   0        0   \n1         New York, NY        10000+   1893.0  ...      0   0        0   \n2         New York, NY  1001 to 5000   2003.0  ...      1   0        0   \n3           McLean, VA    201 to 500   2002.0  ...      0   1        0   \n4         New York, NY   501 to 1000   2009.0  ...      1   0        0   \n...                ...           ...      ...  ...    ...  ..      ...   \n2248    Alpharetta, GA     51 to 200      NaN  ...      0   0        0   \n2249    Centennial, CO        10000+   1935.0  ...      0   0        0   \n2250               NaN           nan      NaN  ...      0   1        0   \n2251  West Chester, OH    201 to 500   1984.0  ...      1   0        0   \n2252    Broomfield, CO        10000+   1864.0  ...      0   0        0   \n\n     tableau excel aws  azure  sap  oracle  dashboards  \n0          0     0   1      0    0       0           1  \n1          0     1   0      0    0       0           1  \n2          1     1   0      0    0       0           1  \n3          1     0   1      0    0       0           0  \n4          0     1   0      0    0       0           0  \n...      ...   ...  ..    ...  ...     ...         ...  \n2248       0     0   0      0    0       0           0  \n2249       1     0   0      0    0       1           0  \n2250       0     1   0      0    0       0           0  \n2251       0     0   0      0    0       1           0  \n2252       1     1   0      0    0       1           1  \n\n[2253 rows x 30 columns]",
      "text/html": "<div>\n<style scoped>\n    .dataframe tbody tr th:only-of-type {\n        vertical-align: middle;\n    }\n\n    .dataframe tbody tr th {\n        vertical-align: top;\n    }\n\n    .dataframe thead th {\n        text-align: right;\n    }\n</style>\n<table border=\"1\" class=\"dataframe\">\n  <thead>\n    <tr style=\"text-align: right;\">\n      <th></th>\n      <th>Unnamed: 0</th>\n      <th>Job Title</th>\n      <th>Salary Estimate</th>\n      <th>Job Description</th>\n      <th>Rating</th>\n      <th>Company Name</th>\n      <th>Location</th>\n      <th>Headquarters</th>\n      <th>Size</th>\n      <th>Founded</th>\n      <th>...</th>\n      <th>python</th>\n      <th>etl</th>\n      <th>power bi</th>\n      <th>tableau</th>\n      <th>excel</th>\n      <th>aws</th>\n      <th>azure</th>\n      <th>sap</th>\n      <th>oracle</th>\n      <th>dashboards</th>\n    </tr>\n  </thead>\n  <tbody>\n    <tr>\n      <th>0</th>\n      <td>0</td>\n      <td>Data Analyst, Center on Immigration and Justic...</td>\n      <td>$37K-$66K</td>\n      <td>Are you eager to roll up your sleeves and harn...</td>\n      <td>3.2</td>\n      <td>Vera Institute of Justice</td>\n      <td>New York, NY</td>\n      <td>New York, NY</td>\n      <td>201 to 500</td>\n      <td>1961.0</td>\n      <td>...</td>\n      <td>1</td>\n      <td>0</td>\n      <td>0</td>\n      <td>0</td>\n      <td>0</td>\n      <td>1</td>\n      <td>0</td>\n      <td>0</td>\n      <td>0</td>\n      <td>1</td>\n    </tr>\n    <tr>\n      <th>1</th>\n      <td>1</td>\n      <td>Quality Data Analyst</td>\n      <td>$37K-$66K</td>\n      <td>Overview\\n\\nProvides analytical and technical ...</td>\n      <td>3.8</td>\n      <td>Visiting Nurse Service of New York</td>\n      <td>New York, NY</td>\n      <td>New York, NY</td>\n      <td>10000+</td>\n      <td>1893.0</td>\n      <td>...</td>\n      <td>0</td>\n      <td>0</td>\n      <td>0</td>\n      <td>0</td>\n      <td>1</td>\n      <td>0</td>\n      <td>0</td>\n      <td>0</td>\n      <td>0</td>\n      <td>1</td>\n    </tr>\n    <tr>\n      <th>2</th>\n      <td>2</td>\n      <td>Senior Data Analyst, Insights &amp; Analytics Team...</td>\n      <td>$37K-$66K</td>\n      <td>We’re looking for a Senior Data Analyst who ha...</td>\n      <td>3.4</td>\n      <td>Squarespace</td>\n      <td>New York, NY</td>\n      <td>New York, NY</td>\n      <td>1001 to 5000</td>\n      <td>2003.0</td>\n      <td>...</td>\n      <td>1</td>\n      <td>0</td>\n      <td>0</td>\n      <td>1</td>\n      <td>1</td>\n      <td>0</td>\n      <td>0</td>\n      <td>0</td>\n      <td>0</td>\n      <td>1</td>\n    </tr>\n    <tr>\n      <th>3</th>\n      <td>3</td>\n      <td>Data Analyst</td>\n      <td>$37K-$66K</td>\n      <td>Requisition NumberRR-0001939\\nRemote:Yes\\nWe c...</td>\n      <td>4.1</td>\n      <td>Celerity</td>\n      <td>New York, NY</td>\n      <td>McLean, VA</td>\n      <td>201 to 500</td>\n      <td>2002.0</td>\n      <td>...</td>\n      <td>0</td>\n      <td>1</td>\n      <td>0</td>\n      <td>1</td>\n      <td>0</td>\n      <td>1</td>\n      <td>0</td>\n      <td>0</td>\n      <td>0</td>\n      <td>0</td>\n    </tr>\n    <tr>\n      <th>4</th>\n      <td>4</td>\n      <td>Reporting Data Analyst</td>\n      <td>$37K-$66K</td>\n      <td>ABOUT FANDUEL GROUP\\n\\nFanDuel Group is a worl...</td>\n      <td>3.9</td>\n      <td>FanDuel</td>\n      <td>New York, NY</td>\n      <td>New York, NY</td>\n      <td>501 to 1000</td>\n      <td>2009.0</td>\n      <td>...</td>\n      <td>1</td>\n      <td>0</td>\n      <td>0</td>\n      <td>0</td>\n      <td>1</td>\n      <td>0</td>\n      <td>0</td>\n      <td>0</td>\n      <td>0</td>\n      <td>0</td>\n    </tr>\n    <tr>\n      <th>...</th>\n      <td>...</td>\n      <td>...</td>\n      <td>...</td>\n      <td>...</td>\n      <td>...</td>\n      <td>...</td>\n      <td>...</td>\n      <td>...</td>\n      <td>...</td>\n      <td>...</td>\n      <td>...</td>\n      <td>...</td>\n      <td>...</td>\n      <td>...</td>\n      <td>...</td>\n      <td>...</td>\n      <td>...</td>\n      <td>...</td>\n      <td>...</td>\n      <td>...</td>\n      <td>...</td>\n    </tr>\n    <tr>\n      <th>2248</th>\n      <td>2248</td>\n      <td>RQS - IHHA - 201900004460 -1q Data Security An...</td>\n      <td>$78K-$104K</td>\n      <td>Maintains systems to protect data from unautho...</td>\n      <td>2.5</td>\n      <td>Avacend, Inc.</td>\n      <td>Denver, CO</td>\n      <td>Alpharetta, GA</td>\n      <td>51 to 200</td>\n      <td>NaN</td>\n      <td>...</td>\n      <td>0</td>\n      <td>0</td>\n      <td>0</td>\n      <td>0</td>\n      <td>0</td>\n      <td>0</td>\n      <td>0</td>\n      <td>0</td>\n      <td>0</td>\n      <td>0</td>\n    </tr>\n    <tr>\n      <th>2249</th>\n      <td>2249</td>\n      <td>Senior Data Analyst (Corporate Audit)</td>\n      <td>$78K-$104K</td>\n      <td>Position:\\nSenior Data Analyst (Corporate Audi...</td>\n      <td>2.9</td>\n      <td>Arrow Electronics</td>\n      <td>Centennial, CO</td>\n      <td>Centennial, CO</td>\n      <td>10000+</td>\n      <td>1935.0</td>\n      <td>...</td>\n      <td>0</td>\n      <td>0</td>\n      <td>0</td>\n      <td>1</td>\n      <td>0</td>\n      <td>0</td>\n      <td>0</td>\n      <td>0</td>\n      <td>1</td>\n      <td>0</td>\n    </tr>\n    <tr>\n      <th>2250</th>\n      <td>2250</td>\n      <td>Technical Business Analyst (SQL, Data analytic...</td>\n      <td>$78K-$104K</td>\n      <td>Title: Technical Business Analyst (SQL, Data a...</td>\n      <td>NaN</td>\n      <td>Spiceorb</td>\n      <td>Denver, CO</td>\n      <td>NaN</td>\n      <td>nan</td>\n      <td>NaN</td>\n      <td>...</td>\n      <td>0</td>\n      <td>1</td>\n      <td>0</td>\n      <td>0</td>\n      <td>1</td>\n      <td>0</td>\n      <td>0</td>\n      <td>0</td>\n      <td>0</td>\n      <td>0</td>\n    </tr>\n    <tr>\n      <th>2251</th>\n      <td>2251</td>\n      <td>Data Analyst 3, Customer Experience</td>\n      <td>$78K-$104K</td>\n      <td>Summary\\n\\nResponsible for working cross-funct...</td>\n      <td>3.1</td>\n      <td>Contingent Network Services</td>\n      <td>Centennial, CO</td>\n      <td>West Chester, OH</td>\n      <td>201 to 500</td>\n      <td>1984.0</td>\n      <td>...</td>\n      <td>1</td>\n      <td>0</td>\n      <td>0</td>\n      <td>0</td>\n      <td>0</td>\n      <td>0</td>\n      <td>0</td>\n      <td>0</td>\n      <td>1</td>\n      <td>0</td>\n    </tr>\n    <tr>\n      <th>2252</th>\n      <td>2252</td>\n      <td>Senior Quality Data Analyst</td>\n      <td>$78K-$104K</td>\n      <td>You.\\n\\nYou bring your body, mind, heart and s...</td>\n      <td>3.4</td>\n      <td>SCL Health</td>\n      <td>Broomfield, CO</td>\n      <td>Broomfield, CO</td>\n      <td>10000+</td>\n      <td>1864.0</td>\n      <td>...</td>\n      <td>0</td>\n      <td>0</td>\n      <td>0</td>\n      <td>1</td>\n      <td>1</td>\n      <td>0</td>\n      <td>0</td>\n      <td>0</td>\n      <td>1</td>\n      <td>1</td>\n    </tr>\n  </tbody>\n</table>\n<p>2253 rows × 30 columns</p>\n</div>"
     },
     "execution_count": 35,
     "metadata": {},
     "output_type": "execute_result"
    }
   ],
   "source": [
    "listings['Size'] = listings['Size'].apply(lambda x: str(x).replace(\" employees\", \"\"))\n",
    "listings"
   ],
   "metadata": {
    "collapsed": false,
    "pycharm": {
     "name": "#%%\n"
    }
   }
  },
  {
   "cell_type": "markdown",
   "source": [
    "<center><h3 style='color:#B2FF9E'>Job title cleanup</h3></center>\n"
   ],
   "metadata": {
    "collapsed": false,
    "pycharm": {
     "name": "#%% md\n"
    }
   }
  },
  {
   "cell_type": "code",
   "execution_count": 36,
   "outputs": [
    {
     "data": {
      "text/plain": "      Unnamed: 0                    Job Title Salary Estimate  \\\n0              0                 Data Analyst       $37K-$66K   \n1              1         Quality Data Analyst       $37K-$66K   \n2              2          Senior Data Analyst       $37K-$66K   \n3              3                 Data Analyst       $37K-$66K   \n4              4       Reporting Data Analyst       $37K-$66K   \n...          ...                          ...             ...   \n2248        2248                          RQS      $78K-$104K   \n2249        2249          Senior Data Analyst      $78K-$104K   \n2250        2250   Technical Business Analyst      $78K-$104K   \n2251        2251                 Data Analyst      $78K-$104K   \n2252        2252  Senior Quality Data Analyst      $78K-$104K   \n\n                                        Job Description  Rating  \\\n0     Are you eager to roll up your sleeves and harn...     3.2   \n1     Overview\\n\\nProvides analytical and technical ...     3.8   \n2     We’re looking for a Senior Data Analyst who ha...     3.4   \n3     Requisition NumberRR-0001939\\nRemote:Yes\\nWe c...     4.1   \n4     ABOUT FANDUEL GROUP\\n\\nFanDuel Group is a worl...     3.9   \n...                                                 ...     ...   \n2248  Maintains systems to protect data from unautho...     2.5   \n2249  Position:\\nSenior Data Analyst (Corporate Audi...     2.9   \n2250  Title: Technical Business Analyst (SQL, Data a...     NaN   \n2251  Summary\\n\\nResponsible for working cross-funct...     3.1   \n2252  You.\\n\\nYou bring your body, mind, heart and s...     3.4   \n\n                            Company Name        Location      Headquarters  \\\n0              Vera Institute of Justice    New York, NY      New York, NY   \n1     Visiting Nurse Service of New York    New York, NY      New York, NY   \n2                            Squarespace    New York, NY      New York, NY   \n3                               Celerity    New York, NY        McLean, VA   \n4                                FanDuel    New York, NY      New York, NY   \n...                                  ...             ...               ...   \n2248                       Avacend, Inc.      Denver, CO    Alpharetta, GA   \n2249                   Arrow Electronics  Centennial, CO    Centennial, CO   \n2250                            Spiceorb      Denver, CO               NaN   \n2251         Contingent Network Services  Centennial, CO  West Chester, OH   \n2252                          SCL Health  Broomfield, CO    Broomfield, CO   \n\n              Size  Founded  ... python etl power bi tableau excel aws  azure  \\\n0       201 to 500   1961.0  ...      1   0        0       0     0   1      0   \n1           10000+   1893.0  ...      0   0        0       0     1   0      0   \n2     1001 to 5000   2003.0  ...      1   0        0       1     1   0      0   \n3       201 to 500   2002.0  ...      0   1        0       1     0   1      0   \n4      501 to 1000   2009.0  ...      1   0        0       0     1   0      0   \n...            ...      ...  ...    ...  ..      ...     ...   ...  ..    ...   \n2248     51 to 200      NaN  ...      0   0        0       0     0   0      0   \n2249        10000+   1935.0  ...      0   0        0       1     0   0      0   \n2250           nan      NaN  ...      0   1        0       0     1   0      0   \n2251    201 to 500   1984.0  ...      1   0        0       0     0   0      0   \n2252        10000+   1864.0  ...      0   0        0       1     1   0      0   \n\n      sap  oracle  dashboards  \n0       0       0           1  \n1       0       0           1  \n2       0       0           1  \n3       0       0           0  \n4       0       0           0  \n...   ...     ...         ...  \n2248    0       0           0  \n2249    0       1           0  \n2250    0       0           0  \n2251    0       1           0  \n2252    0       1           1  \n\n[2253 rows x 30 columns]",
      "text/html": "<div>\n<style scoped>\n    .dataframe tbody tr th:only-of-type {\n        vertical-align: middle;\n    }\n\n    .dataframe tbody tr th {\n        vertical-align: top;\n    }\n\n    .dataframe thead th {\n        text-align: right;\n    }\n</style>\n<table border=\"1\" class=\"dataframe\">\n  <thead>\n    <tr style=\"text-align: right;\">\n      <th></th>\n      <th>Unnamed: 0</th>\n      <th>Job Title</th>\n      <th>Salary Estimate</th>\n      <th>Job Description</th>\n      <th>Rating</th>\n      <th>Company Name</th>\n      <th>Location</th>\n      <th>Headquarters</th>\n      <th>Size</th>\n      <th>Founded</th>\n      <th>...</th>\n      <th>python</th>\n      <th>etl</th>\n      <th>power bi</th>\n      <th>tableau</th>\n      <th>excel</th>\n      <th>aws</th>\n      <th>azure</th>\n      <th>sap</th>\n      <th>oracle</th>\n      <th>dashboards</th>\n    </tr>\n  </thead>\n  <tbody>\n    <tr>\n      <th>0</th>\n      <td>0</td>\n      <td>Data Analyst</td>\n      <td>$37K-$66K</td>\n      <td>Are you eager to roll up your sleeves and harn...</td>\n      <td>3.2</td>\n      <td>Vera Institute of Justice</td>\n      <td>New York, NY</td>\n      <td>New York, NY</td>\n      <td>201 to 500</td>\n      <td>1961.0</td>\n      <td>...</td>\n      <td>1</td>\n      <td>0</td>\n      <td>0</td>\n      <td>0</td>\n      <td>0</td>\n      <td>1</td>\n      <td>0</td>\n      <td>0</td>\n      <td>0</td>\n      <td>1</td>\n    </tr>\n    <tr>\n      <th>1</th>\n      <td>1</td>\n      <td>Quality Data Analyst</td>\n      <td>$37K-$66K</td>\n      <td>Overview\\n\\nProvides analytical and technical ...</td>\n      <td>3.8</td>\n      <td>Visiting Nurse Service of New York</td>\n      <td>New York, NY</td>\n      <td>New York, NY</td>\n      <td>10000+</td>\n      <td>1893.0</td>\n      <td>...</td>\n      <td>0</td>\n      <td>0</td>\n      <td>0</td>\n      <td>0</td>\n      <td>1</td>\n      <td>0</td>\n      <td>0</td>\n      <td>0</td>\n      <td>0</td>\n      <td>1</td>\n    </tr>\n    <tr>\n      <th>2</th>\n      <td>2</td>\n      <td>Senior Data Analyst</td>\n      <td>$37K-$66K</td>\n      <td>We’re looking for a Senior Data Analyst who ha...</td>\n      <td>3.4</td>\n      <td>Squarespace</td>\n      <td>New York, NY</td>\n      <td>New York, NY</td>\n      <td>1001 to 5000</td>\n      <td>2003.0</td>\n      <td>...</td>\n      <td>1</td>\n      <td>0</td>\n      <td>0</td>\n      <td>1</td>\n      <td>1</td>\n      <td>0</td>\n      <td>0</td>\n      <td>0</td>\n      <td>0</td>\n      <td>1</td>\n    </tr>\n    <tr>\n      <th>3</th>\n      <td>3</td>\n      <td>Data Analyst</td>\n      <td>$37K-$66K</td>\n      <td>Requisition NumberRR-0001939\\nRemote:Yes\\nWe c...</td>\n      <td>4.1</td>\n      <td>Celerity</td>\n      <td>New York, NY</td>\n      <td>McLean, VA</td>\n      <td>201 to 500</td>\n      <td>2002.0</td>\n      <td>...</td>\n      <td>0</td>\n      <td>1</td>\n      <td>0</td>\n      <td>1</td>\n      <td>0</td>\n      <td>1</td>\n      <td>0</td>\n      <td>0</td>\n      <td>0</td>\n      <td>0</td>\n    </tr>\n    <tr>\n      <th>4</th>\n      <td>4</td>\n      <td>Reporting Data Analyst</td>\n      <td>$37K-$66K</td>\n      <td>ABOUT FANDUEL GROUP\\n\\nFanDuel Group is a worl...</td>\n      <td>3.9</td>\n      <td>FanDuel</td>\n      <td>New York, NY</td>\n      <td>New York, NY</td>\n      <td>501 to 1000</td>\n      <td>2009.0</td>\n      <td>...</td>\n      <td>1</td>\n      <td>0</td>\n      <td>0</td>\n      <td>0</td>\n      <td>1</td>\n      <td>0</td>\n      <td>0</td>\n      <td>0</td>\n      <td>0</td>\n      <td>0</td>\n    </tr>\n    <tr>\n      <th>...</th>\n      <td>...</td>\n      <td>...</td>\n      <td>...</td>\n      <td>...</td>\n      <td>...</td>\n      <td>...</td>\n      <td>...</td>\n      <td>...</td>\n      <td>...</td>\n      <td>...</td>\n      <td>...</td>\n      <td>...</td>\n      <td>...</td>\n      <td>...</td>\n      <td>...</td>\n      <td>...</td>\n      <td>...</td>\n      <td>...</td>\n      <td>...</td>\n      <td>...</td>\n      <td>...</td>\n    </tr>\n    <tr>\n      <th>2248</th>\n      <td>2248</td>\n      <td>RQS</td>\n      <td>$78K-$104K</td>\n      <td>Maintains systems to protect data from unautho...</td>\n      <td>2.5</td>\n      <td>Avacend, Inc.</td>\n      <td>Denver, CO</td>\n      <td>Alpharetta, GA</td>\n      <td>51 to 200</td>\n      <td>NaN</td>\n      <td>...</td>\n      <td>0</td>\n      <td>0</td>\n      <td>0</td>\n      <td>0</td>\n      <td>0</td>\n      <td>0</td>\n      <td>0</td>\n      <td>0</td>\n      <td>0</td>\n      <td>0</td>\n    </tr>\n    <tr>\n      <th>2249</th>\n      <td>2249</td>\n      <td>Senior Data Analyst</td>\n      <td>$78K-$104K</td>\n      <td>Position:\\nSenior Data Analyst (Corporate Audi...</td>\n      <td>2.9</td>\n      <td>Arrow Electronics</td>\n      <td>Centennial, CO</td>\n      <td>Centennial, CO</td>\n      <td>10000+</td>\n      <td>1935.0</td>\n      <td>...</td>\n      <td>0</td>\n      <td>0</td>\n      <td>0</td>\n      <td>1</td>\n      <td>0</td>\n      <td>0</td>\n      <td>0</td>\n      <td>0</td>\n      <td>1</td>\n      <td>0</td>\n    </tr>\n    <tr>\n      <th>2250</th>\n      <td>2250</td>\n      <td>Technical Business Analyst</td>\n      <td>$78K-$104K</td>\n      <td>Title: Technical Business Analyst (SQL, Data a...</td>\n      <td>NaN</td>\n      <td>Spiceorb</td>\n      <td>Denver, CO</td>\n      <td>NaN</td>\n      <td>nan</td>\n      <td>NaN</td>\n      <td>...</td>\n      <td>0</td>\n      <td>1</td>\n      <td>0</td>\n      <td>0</td>\n      <td>1</td>\n      <td>0</td>\n      <td>0</td>\n      <td>0</td>\n      <td>0</td>\n      <td>0</td>\n    </tr>\n    <tr>\n      <th>2251</th>\n      <td>2251</td>\n      <td>Data Analyst</td>\n      <td>$78K-$104K</td>\n      <td>Summary\\n\\nResponsible for working cross-funct...</td>\n      <td>3.1</td>\n      <td>Contingent Network Services</td>\n      <td>Centennial, CO</td>\n      <td>West Chester, OH</td>\n      <td>201 to 500</td>\n      <td>1984.0</td>\n      <td>...</td>\n      <td>1</td>\n      <td>0</td>\n      <td>0</td>\n      <td>0</td>\n      <td>0</td>\n      <td>0</td>\n      <td>0</td>\n      <td>0</td>\n      <td>1</td>\n      <td>0</td>\n    </tr>\n    <tr>\n      <th>2252</th>\n      <td>2252</td>\n      <td>Senior Quality Data Analyst</td>\n      <td>$78K-$104K</td>\n      <td>You.\\n\\nYou bring your body, mind, heart and s...</td>\n      <td>3.4</td>\n      <td>SCL Health</td>\n      <td>Broomfield, CO</td>\n      <td>Broomfield, CO</td>\n      <td>10000+</td>\n      <td>1864.0</td>\n      <td>...</td>\n      <td>0</td>\n      <td>0</td>\n      <td>0</td>\n      <td>1</td>\n      <td>1</td>\n      <td>0</td>\n      <td>0</td>\n      <td>0</td>\n      <td>1</td>\n      <td>1</td>\n    </tr>\n  </tbody>\n</table>\n<p>2253 rows × 30 columns</p>\n</div>"
     },
     "execution_count": 36,
     "metadata": {},
     "output_type": "execute_result"
    }
   ],
   "source": [
    "listings['Job Title'] = listings['Job Title'].apply(lambda x: str(x).split(',')[0].strip() )\n",
    "listings['Job Title'] = listings['Job Title'].apply(lambda x:str(x).split('-')[0].strip() )\n",
    "listings['Job Title'] = listings['Job Title'].apply(lambda x:str(x).split('(')[0].strip() )\n",
    "\n",
    "listings['Job Title'] = listings['Job Title'].replace(\n",
    "    ['Data Analyst I', 'Data Analyst II', 'Data Analyst III',\n",
    "     'Data Analyst IV', 'Data Analyst 1', 'Data Analyst 2',\n",
    "     'Data Analyst 3', 'Data Analyst 4', 'Analyst',\n",
    "     'Data analyst', 'DATA ANALYST', 'data analyst'], 'Data Analyst')\n",
    "\n",
    "listings['Job Title'] = listings['Job Title'].replace(\n",
    "    ['Sr. Data Analyst', 'Sr Data Analyst', 'Sr Analyst',\n",
    "     'Senior Analyst', 'Sr. Analyst'], 'Senior Data Analyst')\n",
    "\n",
    "listings['Job Title'] = listings['Job Title'].replace(\n",
    "    ['Data Analyst Junior', 'Jr. Data Analyst', 'Entry Level / Jr. Data Analyst', 'Jr Data Analyst'], 'Junior Data Analyst')\n",
    "\n",
    "listings"
   ],
   "metadata": {
    "collapsed": false,
    "pycharm": {
     "name": "#%%\n"
    }
   }
  },
  {
   "cell_type": "markdown",
   "source": [
    "<center><h3 style='color:#B2FF9E'>Year founded cleanup</h3></center>\n"
   ],
   "metadata": {
    "collapsed": false,
    "pycharm": {
     "name": "#%% md\n"
    }
   }
  },
  {
   "cell_type": "code",
   "execution_count": 37,
   "outputs": [
    {
     "data": {
      "text/plain": "      Unnamed: 0                    Job Title Salary Estimate  \\\n0              0                 Data Analyst       $37K-$66K   \n1              1         Quality Data Analyst       $37K-$66K   \n2              2          Senior Data Analyst       $37K-$66K   \n3              3                 Data Analyst       $37K-$66K   \n4              4       Reporting Data Analyst       $37K-$66K   \n...          ...                          ...             ...   \n2248        2248                          RQS      $78K-$104K   \n2249        2249          Senior Data Analyst      $78K-$104K   \n2250        2250   Technical Business Analyst      $78K-$104K   \n2251        2251                 Data Analyst      $78K-$104K   \n2252        2252  Senior Quality Data Analyst      $78K-$104K   \n\n                                        Job Description  Rating  \\\n0     Are you eager to roll up your sleeves and harn...     3.2   \n1     Overview\\n\\nProvides analytical and technical ...     3.8   \n2     We’re looking for a Senior Data Analyst who ha...     3.4   \n3     Requisition NumberRR-0001939\\nRemote:Yes\\nWe c...     4.1   \n4     ABOUT FANDUEL GROUP\\n\\nFanDuel Group is a worl...     3.9   \n...                                                 ...     ...   \n2248  Maintains systems to protect data from unautho...     2.5   \n2249  Position:\\nSenior Data Analyst (Corporate Audi...     2.9   \n2250  Title: Technical Business Analyst (SQL, Data a...     NaN   \n2251  Summary\\n\\nResponsible for working cross-funct...     3.1   \n2252  You.\\n\\nYou bring your body, mind, heart and s...     3.4   \n\n                            Company Name        Location      Headquarters  \\\n0              Vera Institute of Justice    New York, NY      New York, NY   \n1     Visiting Nurse Service of New York    New York, NY      New York, NY   \n2                            Squarespace    New York, NY      New York, NY   \n3                               Celerity    New York, NY        McLean, VA   \n4                                FanDuel    New York, NY      New York, NY   \n...                                  ...             ...               ...   \n2248                       Avacend, Inc.      Denver, CO    Alpharetta, GA   \n2249                   Arrow Electronics  Centennial, CO    Centennial, CO   \n2250                            Spiceorb      Denver, CO               NaN   \n2251         Contingent Network Services  Centennial, CO  West Chester, OH   \n2252                          SCL Health  Broomfield, CO    Broomfield, CO   \n\n              Size  Founded  ... python etl power bi tableau excel aws  azure  \\\n0       201 to 500     1961  ...      1   0        0       0     0   1      0   \n1           10000+     1893  ...      0   0        0       0     1   0      0   \n2     1001 to 5000     2003  ...      1   0        0       1     1   0      0   \n3       201 to 500     2002  ...      0   1        0       1     0   1      0   \n4      501 to 1000     2009  ...      1   0        0       0     1   0      0   \n...            ...      ...  ...    ...  ..      ...     ...   ...  ..    ...   \n2248     51 to 200     <NA>  ...      0   0        0       0     0   0      0   \n2249        10000+     1935  ...      0   0        0       1     0   0      0   \n2250           nan     <NA>  ...      0   1        0       0     1   0      0   \n2251    201 to 500     1984  ...      1   0        0       0     0   0      0   \n2252        10000+     1864  ...      0   0        0       1     1   0      0   \n\n      sap  oracle  dashboards  \n0       0       0           1  \n1       0       0           1  \n2       0       0           1  \n3       0       0           0  \n4       0       0           0  \n...   ...     ...         ...  \n2248    0       0           0  \n2249    0       1           0  \n2250    0       0           0  \n2251    0       1           0  \n2252    0       1           1  \n\n[2253 rows x 30 columns]",
      "text/html": "<div>\n<style scoped>\n    .dataframe tbody tr th:only-of-type {\n        vertical-align: middle;\n    }\n\n    .dataframe tbody tr th {\n        vertical-align: top;\n    }\n\n    .dataframe thead th {\n        text-align: right;\n    }\n</style>\n<table border=\"1\" class=\"dataframe\">\n  <thead>\n    <tr style=\"text-align: right;\">\n      <th></th>\n      <th>Unnamed: 0</th>\n      <th>Job Title</th>\n      <th>Salary Estimate</th>\n      <th>Job Description</th>\n      <th>Rating</th>\n      <th>Company Name</th>\n      <th>Location</th>\n      <th>Headquarters</th>\n      <th>Size</th>\n      <th>Founded</th>\n      <th>...</th>\n      <th>python</th>\n      <th>etl</th>\n      <th>power bi</th>\n      <th>tableau</th>\n      <th>excel</th>\n      <th>aws</th>\n      <th>azure</th>\n      <th>sap</th>\n      <th>oracle</th>\n      <th>dashboards</th>\n    </tr>\n  </thead>\n  <tbody>\n    <tr>\n      <th>0</th>\n      <td>0</td>\n      <td>Data Analyst</td>\n      <td>$37K-$66K</td>\n      <td>Are you eager to roll up your sleeves and harn...</td>\n      <td>3.2</td>\n      <td>Vera Institute of Justice</td>\n      <td>New York, NY</td>\n      <td>New York, NY</td>\n      <td>201 to 500</td>\n      <td>1961</td>\n      <td>...</td>\n      <td>1</td>\n      <td>0</td>\n      <td>0</td>\n      <td>0</td>\n      <td>0</td>\n      <td>1</td>\n      <td>0</td>\n      <td>0</td>\n      <td>0</td>\n      <td>1</td>\n    </tr>\n    <tr>\n      <th>1</th>\n      <td>1</td>\n      <td>Quality Data Analyst</td>\n      <td>$37K-$66K</td>\n      <td>Overview\\n\\nProvides analytical and technical ...</td>\n      <td>3.8</td>\n      <td>Visiting Nurse Service of New York</td>\n      <td>New York, NY</td>\n      <td>New York, NY</td>\n      <td>10000+</td>\n      <td>1893</td>\n      <td>...</td>\n      <td>0</td>\n      <td>0</td>\n      <td>0</td>\n      <td>0</td>\n      <td>1</td>\n      <td>0</td>\n      <td>0</td>\n      <td>0</td>\n      <td>0</td>\n      <td>1</td>\n    </tr>\n    <tr>\n      <th>2</th>\n      <td>2</td>\n      <td>Senior Data Analyst</td>\n      <td>$37K-$66K</td>\n      <td>We’re looking for a Senior Data Analyst who ha...</td>\n      <td>3.4</td>\n      <td>Squarespace</td>\n      <td>New York, NY</td>\n      <td>New York, NY</td>\n      <td>1001 to 5000</td>\n      <td>2003</td>\n      <td>...</td>\n      <td>1</td>\n      <td>0</td>\n      <td>0</td>\n      <td>1</td>\n      <td>1</td>\n      <td>0</td>\n      <td>0</td>\n      <td>0</td>\n      <td>0</td>\n      <td>1</td>\n    </tr>\n    <tr>\n      <th>3</th>\n      <td>3</td>\n      <td>Data Analyst</td>\n      <td>$37K-$66K</td>\n      <td>Requisition NumberRR-0001939\\nRemote:Yes\\nWe c...</td>\n      <td>4.1</td>\n      <td>Celerity</td>\n      <td>New York, NY</td>\n      <td>McLean, VA</td>\n      <td>201 to 500</td>\n      <td>2002</td>\n      <td>...</td>\n      <td>0</td>\n      <td>1</td>\n      <td>0</td>\n      <td>1</td>\n      <td>0</td>\n      <td>1</td>\n      <td>0</td>\n      <td>0</td>\n      <td>0</td>\n      <td>0</td>\n    </tr>\n    <tr>\n      <th>4</th>\n      <td>4</td>\n      <td>Reporting Data Analyst</td>\n      <td>$37K-$66K</td>\n      <td>ABOUT FANDUEL GROUP\\n\\nFanDuel Group is a worl...</td>\n      <td>3.9</td>\n      <td>FanDuel</td>\n      <td>New York, NY</td>\n      <td>New York, NY</td>\n      <td>501 to 1000</td>\n      <td>2009</td>\n      <td>...</td>\n      <td>1</td>\n      <td>0</td>\n      <td>0</td>\n      <td>0</td>\n      <td>1</td>\n      <td>0</td>\n      <td>0</td>\n      <td>0</td>\n      <td>0</td>\n      <td>0</td>\n    </tr>\n    <tr>\n      <th>...</th>\n      <td>...</td>\n      <td>...</td>\n      <td>...</td>\n      <td>...</td>\n      <td>...</td>\n      <td>...</td>\n      <td>...</td>\n      <td>...</td>\n      <td>...</td>\n      <td>...</td>\n      <td>...</td>\n      <td>...</td>\n      <td>...</td>\n      <td>...</td>\n      <td>...</td>\n      <td>...</td>\n      <td>...</td>\n      <td>...</td>\n      <td>...</td>\n      <td>...</td>\n      <td>...</td>\n    </tr>\n    <tr>\n      <th>2248</th>\n      <td>2248</td>\n      <td>RQS</td>\n      <td>$78K-$104K</td>\n      <td>Maintains systems to protect data from unautho...</td>\n      <td>2.5</td>\n      <td>Avacend, Inc.</td>\n      <td>Denver, CO</td>\n      <td>Alpharetta, GA</td>\n      <td>51 to 200</td>\n      <td>&lt;NA&gt;</td>\n      <td>...</td>\n      <td>0</td>\n      <td>0</td>\n      <td>0</td>\n      <td>0</td>\n      <td>0</td>\n      <td>0</td>\n      <td>0</td>\n      <td>0</td>\n      <td>0</td>\n      <td>0</td>\n    </tr>\n    <tr>\n      <th>2249</th>\n      <td>2249</td>\n      <td>Senior Data Analyst</td>\n      <td>$78K-$104K</td>\n      <td>Position:\\nSenior Data Analyst (Corporate Audi...</td>\n      <td>2.9</td>\n      <td>Arrow Electronics</td>\n      <td>Centennial, CO</td>\n      <td>Centennial, CO</td>\n      <td>10000+</td>\n      <td>1935</td>\n      <td>...</td>\n      <td>0</td>\n      <td>0</td>\n      <td>0</td>\n      <td>1</td>\n      <td>0</td>\n      <td>0</td>\n      <td>0</td>\n      <td>0</td>\n      <td>1</td>\n      <td>0</td>\n    </tr>\n    <tr>\n      <th>2250</th>\n      <td>2250</td>\n      <td>Technical Business Analyst</td>\n      <td>$78K-$104K</td>\n      <td>Title: Technical Business Analyst (SQL, Data a...</td>\n      <td>NaN</td>\n      <td>Spiceorb</td>\n      <td>Denver, CO</td>\n      <td>NaN</td>\n      <td>nan</td>\n      <td>&lt;NA&gt;</td>\n      <td>...</td>\n      <td>0</td>\n      <td>1</td>\n      <td>0</td>\n      <td>0</td>\n      <td>1</td>\n      <td>0</td>\n      <td>0</td>\n      <td>0</td>\n      <td>0</td>\n      <td>0</td>\n    </tr>\n    <tr>\n      <th>2251</th>\n      <td>2251</td>\n      <td>Data Analyst</td>\n      <td>$78K-$104K</td>\n      <td>Summary\\n\\nResponsible for working cross-funct...</td>\n      <td>3.1</td>\n      <td>Contingent Network Services</td>\n      <td>Centennial, CO</td>\n      <td>West Chester, OH</td>\n      <td>201 to 500</td>\n      <td>1984</td>\n      <td>...</td>\n      <td>1</td>\n      <td>0</td>\n      <td>0</td>\n      <td>0</td>\n      <td>0</td>\n      <td>0</td>\n      <td>0</td>\n      <td>0</td>\n      <td>1</td>\n      <td>0</td>\n    </tr>\n    <tr>\n      <th>2252</th>\n      <td>2252</td>\n      <td>Senior Quality Data Analyst</td>\n      <td>$78K-$104K</td>\n      <td>You.\\n\\nYou bring your body, mind, heart and s...</td>\n      <td>3.4</td>\n      <td>SCL Health</td>\n      <td>Broomfield, CO</td>\n      <td>Broomfield, CO</td>\n      <td>10000+</td>\n      <td>1864</td>\n      <td>...</td>\n      <td>0</td>\n      <td>0</td>\n      <td>0</td>\n      <td>1</td>\n      <td>1</td>\n      <td>0</td>\n      <td>0</td>\n      <td>0</td>\n      <td>1</td>\n      <td>1</td>\n    </tr>\n  </tbody>\n</table>\n<p>2253 rows × 30 columns</p>\n</div>"
     },
     "execution_count": 37,
     "metadata": {},
     "output_type": "execute_result"
    }
   ],
   "source": [
    "listings['Founded'] = listings['Founded'].astype('Int64')\n",
    "listings"
   ],
   "metadata": {
    "collapsed": false,
    "pycharm": {
     "name": "#%%\n"
    }
   }
  },
  {
   "cell_type": "markdown",
   "source": [
    "<center><h3 style='color:#B2FF9E'>Questions</h3></center>"
   ],
   "metadata": {
    "collapsed": false,
    "pycharm": {
     "name": "#%% md\n"
    }
   }
  },
  {
   "cell_type": "markdown",
   "source": [
    "<center><h3 style='color:#B2FF9E'>What are the lower and highest salary bands?</h3></center>"
   ],
   "metadata": {
    "collapsed": false,
    "pycharm": {
     "name": "#%% md\n"
    }
   }
  },
  {
   "cell_type": "code",
   "execution_count": 41,
   "outputs": [
    {
     "data": {
      "application/vnd.plotly.v1+json": {
       "data": [
        {
         "alignmentgroup": "True",
         "bingroup": "x",
         "hovertemplate": "salary_lower=%{x}<br>count=%{y}<extra></extra>",
         "legendgroup": "",
         "marker": {
          "color": "#1dd3b0",
          "opacity": 0.8,
          "pattern": {
           "shape": ""
          }
         },
         "name": "",
         "offsetgroup": "",
         "orientation": "v",
         "showlegend": false,
         "texttemplate": "%{value}",
         "x": [
          37000.0,
          37000.0,
          37000.0,
          37000.0,
          37000.0,
          37000.0,
          37000.0,
          37000.0,
          37000.0,
          37000.0,
          37000.0,
          37000.0,
          37000.0,
          37000.0,
          37000.0,
          37000.0,
          37000.0,
          37000.0,
          37000.0,
          37000.0,
          37000.0,
          37000.0,
          37000.0,
          37000.0,
          37000.0,
          37000.0,
          37000.0,
          37000.0,
          37000.0,
          37000.0,
          46000.0,
          46000.0,
          46000.0,
          46000.0,
          46000.0,
          46000.0,
          46000.0,
          46000.0,
          46000.0,
          46000.0,
          46000.0,
          46000.0,
          46000.0,
          46000.0,
          46000.0,
          46000.0,
          46000.0,
          46000.0,
          46000.0,
          46000.0,
          46000.0,
          46000.0,
          46000.0,
          46000.0,
          46000.0,
          46000.0,
          46000.0,
          46000.0,
          46000.0,
          46000.0,
          51000.0,
          51000.0,
          51000.0,
          51000.0,
          51000.0,
          51000.0,
          51000.0,
          51000.0,
          51000.0,
          51000.0,
          51000.0,
          51000.0,
          51000.0,
          51000.0,
          51000.0,
          51000.0,
          51000.0,
          51000.0,
          51000.0,
          51000.0,
          51000.0,
          51000.0,
          51000.0,
          51000.0,
          51000.0,
          51000.0,
          51000.0,
          51000.0,
          51000.0,
          51000.0,
          51000.0,
          51000.0,
          51000.0,
          51000.0,
          51000.0,
          51000.0,
          51000.0,
          51000.0,
          51000.0,
          51000.0,
          51000.0,
          51000.0,
          51000.0,
          51000.0,
          51000.0,
          51000.0,
          51000.0,
          51000.0,
          51000.0,
          51000.0,
          51000.0,
          51000.0,
          51000.0,
          51000.0,
          51000.0,
          51000.0,
          51000.0,
          51000.0,
          51000.0,
          51000.0,
          59000.0,
          59000.0,
          59000.0,
          59000.0,
          59000.0,
          59000.0,
          59000.0,
          59000.0,
          59000.0,
          59000.0,
          59000.0,
          59000.0,
          59000.0,
          59000.0,
          59000.0,
          59000.0,
          59000.0,
          59000.0,
          59000.0,
          59000.0,
          59000.0,
          59000.0,
          59000.0,
          59000.0,
          59000.0,
          59000.0,
          59000.0,
          59000.0,
          59000.0,
          59000.0,
          43000.0,
          43000.0,
          43000.0,
          43000.0,
          43000.0,
          43000.0,
          43000.0,
          43000.0,
          43000.0,
          43000.0,
          43000.0,
          43000.0,
          43000.0,
          43000.0,
          43000.0,
          43000.0,
          43000.0,
          43000.0,
          43000.0,
          43000.0,
          43000.0,
          43000.0,
          43000.0,
          43000.0,
          43000.0,
          43000.0,
          43000.0,
          43000.0,
          43000.0,
          43000.0,
          43000.0,
          60000.0,
          60000.0,
          60000.0,
          60000.0,
          60000.0,
          60000.0,
          60000.0,
          60000.0,
          60000.0,
          60000.0,
          60000.0,
          60000.0,
          60000.0,
          60000.0,
          60000.0,
          60000.0,
          60000.0,
          60000.0,
          60000.0,
          60000.0,
          60000.0,
          60000.0,
          60000.0,
          60000.0,
          60000.0,
          60000.0,
          60000.0,
          60000.0,
          60000.0,
          60000.0,
          41000.0,
          41000.0,
          41000.0,
          41000.0,
          41000.0,
          41000.0,
          41000.0,
          41000.0,
          41000.0,
          41000.0,
          41000.0,
          41000.0,
          41000.0,
          41000.0,
          41000.0,
          41000.0,
          41000.0,
          41000.0,
          41000.0,
          41000.0,
          41000.0,
          41000.0,
          41000.0,
          41000.0,
          41000.0,
          41000.0,
          41000.0,
          41000.0,
          41000.0,
          45000.0,
          45000.0,
          45000.0,
          45000.0,
          45000.0,
          45000.0,
          45000.0,
          45000.0,
          45000.0,
          45000.0,
          45000.0,
          73000.0,
          73000.0,
          73000.0,
          73000.0,
          73000.0,
          73000.0,
          73000.0,
          73000.0,
          73000.0,
          73000.0,
          73000.0,
          73000.0,
          73000.0,
          73000.0,
          84000.0,
          84000.0,
          84000.0,
          84000.0,
          84000.0,
          84000.0,
          84000.0,
          84000.0,
          84000.0,
          84000.0,
          84000.0,
          84000.0,
          84000.0,
          84000.0,
          84000.0,
          84000.0,
          84000.0,
          84000.0,
          27000.0,
          27000.0,
          27000.0,
          27000.0,
          27000.0,
          27000.0,
          27000.0,
          27000.0,
          27000.0,
          27000.0,
          27000.0,
          27000.0,
          27000.0,
          27000.0,
          27000.0,
          27000.0,
          27000.0,
          27000.0,
          27000.0,
          27000.0,
          27000.0,
          27000.0,
          27000.0,
          27000.0,
          27000.0,
          27000.0,
          27000.0,
          27000.0,
          27000.0,
          27000.0,
          42000.0,
          42000.0,
          42000.0,
          42000.0,
          42000.0,
          42000.0,
          42000.0,
          42000.0,
          42000.0,
          42000.0,
          42000.0,
          42000.0,
          42000.0,
          42000.0,
          42000.0,
          42000.0,
          42000.0,
          42000.0,
          42000.0,
          42000.0,
          42000.0,
          42000.0,
          42000.0,
          42000.0,
          42000.0,
          42000.0,
          42000.0,
          77000.0,
          77000.0,
          77000.0,
          77000.0,
          77000.0,
          77000.0,
          77000.0,
          77000.0,
          77000.0,
          77000.0,
          77000.0,
          77000.0,
          77000.0,
          77000.0,
          77000.0,
          77000.0,
          77000.0,
          77000.0,
          77000.0,
          77000.0,
          77000.0,
          77000.0,
          77000.0,
          77000.0,
          77000.0,
          77000.0,
          77000.0,
          77000.0,
          77000.0,
          98000.0,
          98000.0,
          98000.0,
          98000.0,
          98000.0,
          98000.0,
          98000.0,
          98000.0,
          98000.0,
          98000.0,
          98000.0,
          98000.0,
          98000.0,
          98000.0,
          98000.0,
          98000.0,
          98000.0,
          98000.0,
          98000.0,
          98000.0,
          98000.0,
          98000.0,
          98000.0,
          98000.0,
          98000.0,
          98000.0,
          98000.0,
          98000.0,
          98000.0,
          98000.0,
          48000.0,
          48000.0,
          48000.0,
          48000.0,
          48000.0,
          48000.0,
          48000.0,
          48000.0,
          48000.0,
          48000.0,
          48000.0,
          48000.0,
          48000.0,
          48000.0,
          48000.0,
          48000.0,
          48000.0,
          48000.0,
          48000.0,
          48000.0,
          48000.0,
          48000.0,
          26000.0,
          26000.0,
          26000.0,
          26000.0,
          26000.0,
          26000.0,
          26000.0,
          26000.0,
          26000.0,
          26000.0,
          26000.0,
          26000.0,
          26000.0,
          26000.0,
          26000.0,
          26000.0,
          26000.0,
          26000.0,
          26000.0,
          26000.0,
          26000.0,
          26000.0,
          26000.0,
          26000.0,
          26000.0,
          26000.0,
          26000.0,
          26000.0,
          26000.0,
          31000.0,
          31000.0,
          31000.0,
          31000.0,
          47000.0,
          47000.0,
          47000.0,
          43000.0,
          43000.0,
          43000.0,
          43000.0,
          43000.0,
          43000.0,
          43000.0,
          43000.0,
          43000.0,
          43000.0,
          43000.0,
          43000.0,
          43000.0,
          43000.0,
          43000.0,
          43000.0,
          43000.0,
          43000.0,
          43000.0,
          43000.0,
          43000.0,
          43000.0,
          43000.0,
          43000.0,
          43000.0,
          43000.0,
          43000.0,
          43000.0,
          43000.0,
          43000.0,
          49000.0,
          49000.0,
          49000.0,
          49000.0,
          49000.0,
          49000.0,
          49000.0,
          49000.0,
          49000.0,
          49000.0,
          49000.0,
          49000.0,
          49000.0,
          49000.0,
          49000.0,
          49000.0,
          49000.0,
          49000.0,
          30000.0,
          30000.0,
          30000.0,
          30000.0,
          30000.0,
          30000.0,
          30000.0,
          30000.0,
          55000.0,
          55000.0,
          55000.0,
          55000.0,
          55000.0,
          55000.0,
          55000.0,
          55000.0,
          55000.0,
          55000.0,
          55000.0,
          55000.0,
          55000.0,
          55000.0,
          55000.0,
          55000.0,
          55000.0,
          55000.0,
          55000.0,
          55000.0,
          55000.0,
          55000.0,
          55000.0,
          55000.0,
          55000.0,
          55000.0,
          55000.0,
          55000.0,
          55000.0,
          37000.0,
          37000.0,
          37000.0,
          37000.0,
          37000.0,
          37000.0,
          37000.0,
          37000.0,
          37000.0,
          37000.0,
          37000.0,
          37000.0,
          37000.0,
          37000.0,
          37000.0,
          37000.0,
          37000.0,
          37000.0,
          37000.0,
          37000.0,
          37000.0,
          37000.0,
          37000.0,
          37000.0,
          37000.0,
          37000.0,
          37000.0,
          37000.0,
          37000.0,
          57000.0,
          57000.0,
          57000.0,
          57000.0,
          57000.0,
          57000.0,
          57000.0,
          57000.0,
          57000.0,
          57000.0,
          57000.0,
          57000.0,
          57000.0,
          57000.0,
          57000.0,
          57000.0,
          57000.0,
          57000.0,
          57000.0,
          57000.0,
          57000.0,
          57000.0,
          57000.0,
          57000.0,
          57000.0,
          57000.0,
          57000.0,
          57000.0,
          57000.0,
          35000.0,
          35000.0,
          35000.0,
          35000.0,
          35000.0,
          35000.0,
          35000.0,
          35000.0,
          35000.0,
          35000.0,
          35000.0,
          35000.0,
          35000.0,
          35000.0,
          35000.0,
          35000.0,
          35000.0,
          35000.0,
          35000.0,
          35000.0,
          35000.0,
          35000.0,
          35000.0,
          35000.0,
          35000.0,
          35000.0,
          35000.0,
          35000.0,
          42000.0,
          42000.0,
          42000.0,
          42000.0,
          42000.0,
          42000.0,
          42000.0,
          42000.0,
          42000.0,
          42000.0,
          42000.0,
          42000.0,
          42000.0,
          42000.0,
          42000.0,
          42000.0,
          42000.0,
          42000.0,
          42000.0,
          42000.0,
          42000.0,
          42000.0,
          42000.0,
          42000.0,
          42000.0,
          42000.0,
          42000.0,
          42000.0,
          42000.0,
          42000.0,
          65000.0,
          65000.0,
          65000.0,
          65000.0,
          65000.0,
          65000.0,
          65000.0,
          65000.0,
          65000.0,
          65000.0,
          65000.0,
          65000.0,
          65000.0,
          65000.0,
          65000.0,
          65000.0,
          65000.0,
          65000.0,
          65000.0,
          65000.0,
          65000.0,
          65000.0,
          65000.0,
          65000.0,
          65000.0,
          65000.0,
          65000.0,
          65000.0,
          65000.0,
          113000.0,
          113000.0,
          113000.0,
          113000.0,
          113000.0,
          113000.0,
          113000.0,
          113000.0,
          113000.0,
          113000.0,
          113000.0,
          113000.0,
          113000.0,
          113000.0,
          113000.0,
          113000.0,
          113000.0,
          113000.0,
          113000.0,
          113000.0,
          113000.0,
          113000.0,
          113000.0,
          113000.0,
          113000.0,
          113000.0,
          113000.0,
          113000.0,
          113000.0,
          42000.0,
          42000.0,
          42000.0,
          42000.0,
          60000.0,
          60000.0,
          60000.0,
          60000.0,
          60000.0,
          60000.0,
          60000.0,
          60000.0,
          60000.0,
          60000.0,
          60000.0,
          60000.0,
          60000.0,
          60000.0,
          60000.0,
          60000.0,
          60000.0,
          60000.0,
          60000.0,
          60000.0,
          60000.0,
          60000.0,
          60000.0,
          60000.0,
          60000.0,
          60000.0,
          60000.0,
          60000.0,
          60000.0,
          60000.0,
          73000.0,
          73000.0,
          73000.0,
          73000.0,
          73000.0,
          73000.0,
          73000.0,
          73000.0,
          73000.0,
          73000.0,
          73000.0,
          73000.0,
          73000.0,
          73000.0,
          73000.0,
          73000.0,
          73000.0,
          73000.0,
          73000.0,
          73000.0,
          73000.0,
          73000.0,
          73000.0,
          73000.0,
          73000.0,
          73000.0,
          73000.0,
          73000.0,
          73000.0,
          67000.0,
          67000.0,
          67000.0,
          67000.0,
          67000.0,
          67000.0,
          67000.0,
          67000.0,
          67000.0,
          67000.0,
          67000.0,
          67000.0,
          67000.0,
          67000.0,
          67000.0,
          67000.0,
          67000.0,
          67000.0,
          67000.0,
          67000.0,
          67000.0,
          67000.0,
          67000.0,
          67000.0,
          67000.0,
          67000.0,
          67000.0,
          67000.0,
          67000.0,
          42000.0,
          42000.0,
          42000.0,
          42000.0,
          42000.0,
          42000.0,
          42000.0,
          42000.0,
          42000.0,
          42000.0,
          42000.0,
          42000.0,
          42000.0,
          42000.0,
          42000.0,
          42000.0,
          42000.0,
          42000.0,
          42000.0,
          42000.0,
          42000.0,
          42000.0,
          42000.0,
          42000.0,
          42000.0,
          42000.0,
          42000.0,
          42000.0,
          42000.0,
          42000.0,
          97000.0,
          97000.0,
          97000.0,
          97000.0,
          97000.0,
          97000.0,
          97000.0,
          97000.0,
          97000.0,
          97000.0,
          97000.0,
          97000.0,
          97000.0,
          97000.0,
          97000.0,
          97000.0,
          97000.0,
          97000.0,
          97000.0,
          97000.0,
          97000.0,
          97000.0,
          97000.0,
          97000.0,
          97000.0,
          97000.0,
          97000.0,
          97000.0,
          97000.0,
          97000.0,
          68000.0,
          68000.0,
          68000.0,
          68000.0,
          68000.0,
          68000.0,
          68000.0,
          68000.0,
          68000.0,
          68000.0,
          68000.0,
          68000.0,
          68000.0,
          68000.0,
          68000.0,
          68000.0,
          29000.0,
          29000.0,
          29000.0,
          29000.0,
          29000.0,
          29000.0,
          29000.0,
          29000.0,
          29000.0,
          29000.0,
          29000.0,
          29000.0,
          29000.0,
          29000.0,
          29000.0,
          29000.0,
          29000.0,
          29000.0,
          29000.0,
          29000.0,
          29000.0,
          29000.0,
          29000.0,
          29000.0,
          29000.0,
          29000.0,
          29000.0,
          29000.0,
          29000.0,
          47000.0,
          47000.0,
          47000.0,
          47000.0,
          47000.0,
          47000.0,
          47000.0,
          47000.0,
          47000.0,
          47000.0,
          47000.0,
          47000.0,
          47000.0,
          47000.0,
          47000.0,
          47000.0,
          47000.0,
          47000.0,
          47000.0,
          47000.0,
          47000.0,
          47000.0,
          47000.0,
          47000.0,
          47000.0,
          47000.0,
          47000.0,
          47000.0,
          74000.0,
          74000.0,
          74000.0,
          74000.0,
          74000.0,
          74000.0,
          74000.0,
          74000.0,
          74000.0,
          74000.0,
          74000.0,
          74000.0,
          74000.0,
          74000.0,
          74000.0,
          74000.0,
          74000.0,
          74000.0,
          74000.0,
          74000.0,
          74000.0,
          74000.0,
          74000.0,
          74000.0,
          74000.0,
          74000.0,
          74000.0,
          74000.0,
          53000.0,
          53000.0,
          53000.0,
          53000.0,
          53000.0,
          53000.0,
          53000.0,
          53000.0,
          53000.0,
          53000.0,
          53000.0,
          53000.0,
          53000.0,
          53000.0,
          53000.0,
          53000.0,
          53000.0,
          53000.0,
          53000.0,
          53000.0,
          53000.0,
          53000.0,
          53000.0,
          53000.0,
          53000.0,
          53000.0,
          53000.0,
          53000.0,
          53000.0,
          46000.0,
          46000.0,
          46000.0,
          46000.0,
          46000.0,
          46000.0,
          46000.0,
          46000.0,
          46000.0,
          46000.0,
          46000.0,
          46000.0,
          46000.0,
          46000.0,
          46000.0,
          46000.0,
          46000.0,
          46000.0,
          46000.0,
          46000.0,
          46000.0,
          46000.0,
          46000.0,
          46000.0,
          46000.0,
          46000.0,
          46000.0,
          46000.0,
          43000.0,
          43000.0,
          43000.0,
          43000.0,
          43000.0,
          43000.0,
          43000.0,
          43000.0,
          43000.0,
          43000.0,
          43000.0,
          43000.0,
          43000.0,
          43000.0,
          43000.0,
          43000.0,
          43000.0,
          43000.0,
          43000.0,
          43000.0,
          43000.0,
          43000.0,
          43000.0,
          43000.0,
          43000.0,
          43000.0,
          43000.0,
          43000.0,
          43000.0,
          45000.0,
          45000.0,
          45000.0,
          45000.0,
          45000.0,
          45000.0,
          45000.0,
          45000.0,
          45000.0,
          45000.0,
          45000.0,
          41000.0,
          41000.0,
          41000.0,
          41000.0,
          41000.0,
          41000.0,
          41000.0,
          41000.0,
          41000.0,
          41000.0,
          41000.0,
          41000.0,
          41000.0,
          41000.0,
          41000.0,
          41000.0,
          41000.0,
          41000.0,
          41000.0,
          41000.0,
          41000.0,
          41000.0,
          41000.0,
          41000.0,
          41000.0,
          41000.0,
          41000.0,
          41000.0,
          38000.0,
          38000.0,
          38000.0,
          38000.0,
          38000.0,
          38000.0,
          38000.0,
          38000.0,
          38000.0,
          38000.0,
          38000.0,
          38000.0,
          38000.0,
          38000.0,
          38000.0,
          38000.0,
          38000.0,
          38000.0,
          38000.0,
          38000.0,
          38000.0,
          38000.0,
          38000.0,
          38000.0,
          38000.0,
          38000.0,
          38000.0,
          38000.0,
          38000.0,
          37000.0,
          37000.0,
          37000.0,
          37000.0,
          37000.0,
          37000.0,
          37000.0,
          37000.0,
          37000.0,
          37000.0,
          37000.0,
          37000.0,
          37000.0,
          37000.0,
          37000.0,
          37000.0,
          37000.0,
          37000.0,
          37000.0,
          37000.0,
          37000.0,
          37000.0,
          37000.0,
          37000.0,
          37000.0,
          37000.0,
          37000.0,
          37000.0,
          37000.0,
          64000.0,
          64000.0,
          64000.0,
          64000.0,
          64000.0,
          64000.0,
          64000.0,
          64000.0,
          64000.0,
          64000.0,
          64000.0,
          64000.0,
          64000.0,
          64000.0,
          64000.0,
          64000.0,
          64000.0,
          64000.0,
          64000.0,
          64000.0,
          64000.0,
          64000.0,
          64000.0,
          64000.0,
          64000.0,
          64000.0,
          64000.0,
          64000.0,
          64000.0,
          64000.0,
          50000.0,
          50000.0,
          50000.0,
          50000.0,
          50000.0,
          50000.0,
          50000.0,
          50000.0,
          50000.0,
          50000.0,
          50000.0,
          50000.0,
          50000.0,
          50000.0,
          50000.0,
          50000.0,
          50000.0,
          50000.0,
          50000.0,
          37000.0,
          37000.0,
          37000.0,
          37000.0,
          37000.0,
          37000.0,
          37000.0,
          37000.0,
          37000.0,
          37000.0,
          37000.0,
          37000.0,
          37000.0,
          37000.0,
          37000.0,
          37000.0,
          37000.0,
          37000.0,
          37000.0,
          37000.0,
          37000.0,
          37000.0,
          37000.0,
          37000.0,
          37000.0,
          37000.0,
          37000.0,
          37000.0,
          37000.0,
          37000.0,
          73000.0,
          73000.0,
          73000.0,
          73000.0,
          73000.0,
          73000.0,
          73000.0,
          73000.0,
          73000.0,
          73000.0,
          73000.0,
          73000.0,
          73000.0,
          73000.0,
          73000.0,
          73000.0,
          73000.0,
          73000.0,
          76000.0,
          76000.0,
          76000.0,
          76000.0,
          76000.0,
          76000.0,
          76000.0,
          76000.0,
          76000.0,
          76000.0,
          76000.0,
          76000.0,
          76000.0,
          76000.0,
          76000.0,
          76000.0,
          76000.0,
          76000.0,
          76000.0,
          76000.0,
          76000.0,
          76000.0,
          76000.0,
          76000.0,
          76000.0,
          76000.0,
          76000.0,
          76000.0,
          60000.0,
          60000.0,
          60000.0,
          60000.0,
          60000.0,
          60000.0,
          60000.0,
          60000.0,
          60000.0,
          60000.0,
          60000.0,
          60000.0,
          60000.0,
          60000.0,
          60000.0,
          60000.0,
          60000.0,
          60000.0,
          60000.0,
          60000.0,
          60000.0,
          60000.0,
          60000.0,
          60000.0,
          60000.0,
          60000.0,
          60000.0,
          60000.0,
          60000.0,
          60000.0,
          60000.0,
          34000.0,
          34000.0,
          34000.0,
          34000.0,
          34000.0,
          24000.0,
          24000.0,
          24000.0,
          24000.0,
          24000.0,
          24000.0,
          24000.0,
          24000.0,
          24000.0,
          24000.0,
          24000.0,
          24000.0,
          24000.0,
          24000.0,
          24000.0,
          24000.0,
          24000.0,
          24000.0,
          24000.0,
          24000.0,
          24000.0,
          24000.0,
          24000.0,
          24000.0,
          24000.0,
          24000.0,
          24000.0,
          24000.0,
          24000.0,
          30000.0,
          30000.0,
          30000.0,
          30000.0,
          30000.0,
          30000.0,
          30000.0,
          30000.0,
          30000.0,
          30000.0,
          30000.0,
          30000.0,
          30000.0,
          30000.0,
          30000.0,
          30000.0,
          30000.0,
          30000.0,
          30000.0,
          30000.0,
          30000.0,
          30000.0,
          30000.0,
          30000.0,
          30000.0,
          30000.0,
          30000.0,
          30000.0,
          30000.0,
          30000.0,
          41000.0,
          41000.0,
          41000.0,
          41000.0,
          41000.0,
          41000.0,
          41000.0,
          41000.0,
          41000.0,
          41000.0,
          41000.0,
          41000.0,
          41000.0,
          41000.0,
          41000.0,
          41000.0,
          41000.0,
          41000.0,
          41000.0,
          41000.0,
          41000.0,
          41000.0,
          41000.0,
          41000.0,
          41000.0,
          41000.0,
          41000.0,
          41000.0,
          41000.0,
          44000.0,
          44000.0,
          44000.0,
          44000.0,
          44000.0,
          44000.0,
          44000.0,
          44000.0,
          44000.0,
          44000.0,
          44000.0,
          44000.0,
          44000.0,
          44000.0,
          44000.0,
          44000.0,
          44000.0,
          44000.0,
          44000.0,
          44000.0,
          44000.0,
          44000.0,
          44000.0,
          44000.0,
          44000.0,
          44000.0,
          44000.0,
          44000.0,
          48000.0,
          48000.0,
          48000.0,
          48000.0,
          48000.0,
          48000.0,
          48000.0,
          48000.0,
          48000.0,
          48000.0,
          48000.0,
          48000.0,
          48000.0,
          48000.0,
          48000.0,
          48000.0,
          48000.0,
          48000.0,
          48000.0,
          48000.0,
          48000.0,
          48000.0,
          48000.0,
          48000.0,
          48000.0,
          48000.0,
          48000.0,
          44000.0,
          44000.0,
          44000.0,
          44000.0,
          44000.0,
          44000.0,
          44000.0,
          44000.0,
          44000.0,
          44000.0,
          44000.0,
          44000.0,
          110000.0,
          110000.0,
          110000.0,
          110000.0,
          110000.0,
          110000.0,
          110000.0,
          110000.0,
          110000.0,
          110000.0,
          110000.0,
          110000.0,
          110000.0,
          110000.0,
          110000.0,
          110000.0,
          110000.0,
          110000.0,
          110000.0,
          110000.0,
          110000.0,
          110000.0,
          110000.0,
          110000.0,
          110000.0,
          110000.0,
          110000.0,
          110000.0,
          110000.0,
          89000.0,
          89000.0,
          89000.0,
          89000.0,
          89000.0,
          89000.0,
          89000.0,
          89000.0,
          89000.0,
          89000.0,
          89000.0,
          89000.0,
          89000.0,
          89000.0,
          89000.0,
          89000.0,
          89000.0,
          89000.0,
          89000.0,
          89000.0,
          89000.0,
          89000.0,
          89000.0,
          89000.0,
          89000.0,
          89000.0,
          89000.0,
          89000.0,
          69000.0,
          69000.0,
          69000.0,
          69000.0,
          69000.0,
          69000.0,
          69000.0,
          69000.0,
          69000.0,
          69000.0,
          69000.0,
          69000.0,
          69000.0,
          69000.0,
          69000.0,
          69000.0,
          69000.0,
          69000.0,
          69000.0,
          69000.0,
          69000.0,
          69000.0,
          69000.0,
          69000.0,
          69000.0,
          69000.0,
          69000.0,
          69000.0,
          69000.0,
          69000.0,
          51000.0,
          51000.0,
          51000.0,
          51000.0,
          51000.0,
          51000.0,
          51000.0,
          51000.0,
          51000.0,
          51000.0,
          51000.0,
          51000.0,
          51000.0,
          51000.0,
          51000.0,
          51000.0,
          51000.0,
          51000.0,
          51000.0,
          51000.0,
          51000.0,
          51000.0,
          51000.0,
          51000.0,
          51000.0,
          51000.0,
          51000.0,
          51000.0,
          51000.0,
          58000.0,
          58000.0,
          58000.0,
          58000.0,
          58000.0,
          58000.0,
          58000.0,
          58000.0,
          58000.0,
          58000.0,
          58000.0,
          58000.0,
          58000.0,
          58000.0,
          58000.0,
          58000.0,
          58000.0,
          58000.0,
          58000.0,
          58000.0,
          58000.0,
          58000.0,
          58000.0,
          58000.0,
          58000.0,
          58000.0,
          58000.0,
          58000.0,
          58000.0,
          58000.0,
          58000.0,
          63000.0,
          63000.0,
          63000.0,
          63000.0,
          63000.0,
          63000.0,
          63000.0,
          63000.0,
          63000.0,
          63000.0,
          63000.0,
          63000.0,
          63000.0,
          63000.0,
          63000.0,
          63000.0,
          63000.0,
          63000.0,
          63000.0,
          63000.0,
          42000.0,
          42000.0,
          42000.0,
          42000.0,
          42000.0,
          42000.0,
          42000.0,
          42000.0,
          42000.0,
          42000.0,
          42000.0,
          42000.0,
          42000.0,
          42000.0,
          42000.0,
          42000.0,
          42000.0,
          42000.0,
          42000.0,
          42000.0,
          42000.0,
          42000.0,
          42000.0,
          42000.0,
          42000.0,
          42000.0,
          42000.0,
          53000.0,
          53000.0,
          53000.0,
          53000.0,
          53000.0,
          53000.0,
          53000.0,
          53000.0,
          53000.0,
          53000.0,
          53000.0,
          53000.0,
          53000.0,
          53000.0,
          53000.0,
          53000.0,
          53000.0,
          53000.0,
          53000.0,
          53000.0,
          53000.0,
          53000.0,
          53000.0,
          53000.0,
          53000.0,
          53000.0,
          35000.0,
          35000.0,
          35000.0,
          35000.0,
          35000.0,
          35000.0,
          35000.0,
          35000.0,
          35000.0,
          35000.0,
          35000.0,
          35000.0,
          35000.0,
          35000.0,
          35000.0,
          35000.0,
          35000.0,
          35000.0,
          35000.0,
          35000.0,
          35000.0,
          35000.0,
          35000.0,
          35000.0,
          35000.0,
          35000.0,
          35000.0,
          35000.0,
          35000.0,
          35000.0,
          43000.0,
          43000.0,
          43000.0,
          40000.0,
          40000.0,
          40000.0,
          40000.0,
          40000.0,
          40000.0,
          40000.0,
          40000.0,
          40000.0,
          40000.0,
          40000.0,
          40000.0,
          40000.0,
          40000.0,
          40000.0,
          40000.0,
          40000.0,
          40000.0,
          40000.0,
          50000.0,
          50000.0,
          50000.0,
          50000.0,
          50000.0,
          50000.0,
          50000.0,
          50000.0,
          50000.0,
          50000.0,
          50000.0,
          35000.0,
          35000.0,
          35000.0,
          35000.0,
          35000.0,
          35000.0,
          35000.0,
          57000.0,
          57000.0,
          28000.0,
          28000.0,
          28000.0,
          28000.0,
          28000.0,
          28000.0,
          28000.0,
          28000.0,
          28000.0,
          28000.0,
          28000.0,
          28000.0,
          28000.0,
          28000.0,
          28000.0,
          28000.0,
          28000.0,
          28000.0,
          28000.0,
          28000.0,
          28000.0,
          28000.0,
          28000.0,
          28000.0,
          28000.0,
          28000.0,
          28000.0,
          28000.0,
          46000.0,
          46000.0,
          46000.0,
          46000.0,
          46000.0,
          46000.0,
          46000.0,
          50000.0,
          50000.0,
          50000.0,
          50000.0,
          50000.0,
          50000.0,
          50000.0,
          50000.0,
          50000.0,
          50000.0,
          50000.0,
          50000.0,
          50000.0,
          50000.0,
          50000.0,
          50000.0,
          50000.0,
          50000.0,
          50000.0,
          50000.0,
          50000.0,
          50000.0,
          50000.0,
          50000.0,
          50000.0,
          50000.0,
          50000.0,
          50000.0,
          50000.0,
          50000.0,
          54000.0,
          54000.0,
          54000.0,
          54000.0,
          54000.0,
          54000.0,
          54000.0,
          54000.0,
          54000.0,
          54000.0,
          54000.0,
          54000.0,
          54000.0,
          54000.0,
          54000.0,
          54000.0,
          54000.0,
          54000.0,
          54000.0,
          54000.0,
          54000.0,
          54000.0,
          54000.0,
          54000.0,
          54000.0,
          54000.0,
          54000.0,
          54000.0,
          53000.0,
          53000.0,
          53000.0,
          53000.0,
          53000.0,
          53000.0,
          53000.0,
          53000.0,
          53000.0,
          53000.0,
          53000.0,
          53000.0,
          53000.0,
          53000.0,
          53000.0,
          53000.0,
          53000.0,
          53000.0,
          53000.0,
          53000.0,
          53000.0,
          53000.0,
          53000.0,
          53000.0,
          53000.0,
          53000.0,
          40000.0,
          40000.0,
          40000.0,
          40000.0,
          40000.0,
          40000.0,
          40000.0,
          40000.0,
          40000.0,
          57000.0,
          57000.0,
          57000.0,
          57000.0,
          57000.0,
          57000.0,
          57000.0,
          57000.0,
          57000.0,
          57000.0,
          57000.0,
          57000.0,
          57000.0,
          57000.0,
          57000.0,
          57000.0,
          57000.0,
          57000.0,
          57000.0,
          57000.0,
          57000.0,
          57000.0,
          57000.0,
          57000.0,
          57000.0,
          57000.0,
          57000.0,
          99000.0,
          99000.0,
          99000.0,
          99000.0,
          99000.0,
          99000.0,
          99000.0,
          99000.0,
          99000.0,
          99000.0,
          99000.0,
          99000.0,
          99000.0,
          99000.0,
          99000.0,
          99000.0,
          99000.0,
          99000.0,
          99000.0,
          99000.0,
          99000.0,
          99000.0,
          99000.0,
          99000.0,
          99000.0,
          99000.0,
          99000.0,
          99000.0,
          93000.0,
          93000.0,
          93000.0,
          93000.0,
          93000.0,
          93000.0,
          93000.0,
          93000.0,
          93000.0,
          93000.0,
          93000.0,
          93000.0,
          93000.0,
          93000.0,
          93000.0,
          93000.0,
          93000.0,
          93000.0,
          93000.0,
          93000.0,
          93000.0,
          93000.0,
          93000.0,
          93000.0,
          93000.0,
          82000.0,
          82000.0,
          82000.0,
          82000.0,
          82000.0,
          82000.0,
          82000.0,
          82000.0,
          82000.0,
          82000.0,
          82000.0,
          82000.0,
          82000.0,
          82000.0,
          82000.0,
          82000.0,
          82000.0,
          82000.0,
          82000.0,
          82000.0,
          82000.0,
          82000.0,
          82000.0,
          82000.0,
          82000.0,
          82000.0,
          82000.0,
          82000.0,
          65000.0,
          65000.0,
          65000.0,
          65000.0,
          65000.0,
          65000.0,
          65000.0,
          65000.0,
          65000.0,
          65000.0,
          65000.0,
          65000.0,
          65000.0,
          65000.0,
          65000.0,
          65000.0,
          65000.0,
          65000.0,
          65000.0,
          65000.0,
          65000.0,
          65000.0,
          65000.0,
          65000.0,
          65000.0,
          65000.0,
          65000.0,
          65000.0,
          46000.0,
          46000.0,
          46000.0,
          46000.0,
          46000.0,
          46000.0,
          46000.0,
          46000.0,
          46000.0,
          46000.0,
          46000.0,
          46000.0,
          46000.0,
          46000.0,
          46000.0,
          46000.0,
          46000.0,
          46000.0,
          46000.0,
          46000.0,
          46000.0,
          46000.0,
          46000.0,
          47000.0,
          47000.0,
          47000.0,
          47000.0,
          47000.0,
          47000.0,
          47000.0,
          47000.0,
          47000.0,
          47000.0,
          47000.0,
          47000.0,
          47000.0,
          47000.0,
          47000.0,
          47000.0,
          47000.0,
          47000.0,
          47000.0,
          47000.0,
          47000.0,
          47000.0,
          47000.0,
          47000.0,
          47000.0,
          47000.0,
          34000.0,
          34000.0,
          34000.0,
          34000.0,
          34000.0,
          34000.0,
          34000.0,
          34000.0,
          34000.0,
          34000.0,
          34000.0,
          34000.0,
          34000.0,
          34000.0,
          34000.0,
          34000.0,
          34000.0,
          34000.0,
          34000.0,
          34000.0,
          34000.0,
          34000.0,
          34000.0,
          35000.0,
          35000.0,
          35000.0,
          35000.0,
          35000.0,
          35000.0,
          35000.0,
          35000.0,
          35000.0,
          35000.0,
          35000.0,
          35000.0,
          35000.0,
          35000.0,
          35000.0,
          35000.0,
          35000.0,
          35000.0,
          35000.0,
          35000.0,
          35000.0,
          35000.0,
          35000.0,
          35000.0,
          35000.0,
          35000.0,
          55000.0,
          55000.0,
          55000.0,
          55000.0,
          55000.0,
          55000.0,
          55000.0,
          55000.0,
          55000.0,
          55000.0,
          55000.0,
          55000.0,
          55000.0,
          55000.0,
          55000.0,
          55000.0,
          55000.0,
          55000.0,
          55000.0,
          55000.0,
          55000.0,
          55000.0,
          55000.0,
          55000.0,
          55000.0,
          55000.0,
          55000.0,
          null,
          32000.0,
          32000.0,
          32000.0,
          32000.0,
          36000.0,
          36000.0,
          36000.0,
          57000.0,
          57000.0,
          57000.0,
          57000.0,
          57000.0,
          57000.0,
          57000.0,
          57000.0,
          57000.0,
          57000.0,
          57000.0,
          57000.0,
          57000.0,
          57000.0,
          57000.0,
          57000.0,
          57000.0,
          57000.0,
          57000.0,
          57000.0,
          57000.0,
          57000.0,
          57000.0,
          57000.0,
          57000.0,
          57000.0,
          49000.0,
          49000.0,
          49000.0,
          49000.0,
          49000.0,
          49000.0,
          49000.0,
          49000.0,
          49000.0,
          49000.0,
          49000.0,
          49000.0,
          49000.0,
          49000.0,
          49000.0,
          49000.0,
          49000.0,
          49000.0,
          49000.0,
          49000.0,
          49000.0,
          49000.0,
          49000.0,
          49000.0,
          49000.0,
          49000.0,
          49000.0,
          49000.0,
          57000.0,
          57000.0,
          57000.0,
          57000.0,
          57000.0,
          57000.0,
          57000.0,
          57000.0,
          57000.0,
          57000.0,
          57000.0,
          57000.0,
          57000.0,
          57000.0,
          57000.0,
          57000.0,
          57000.0,
          57000.0,
          57000.0,
          57000.0,
          57000.0,
          57000.0,
          57000.0,
          57000.0,
          57000.0,
          57000.0,
          57000.0,
          78000.0,
          78000.0,
          78000.0,
          78000.0,
          78000.0,
          78000.0,
          78000.0,
          78000.0,
          78000.0,
          78000.0,
          78000.0,
          78000.0,
          78000.0,
          78000.0,
          78000.0
         ],
         "xaxis": "x",
         "yaxis": "y",
         "type": "histogram"
        }
       ],
       "layout": {
        "template": {
         "data": {
          "histogram2dcontour": [
           {
            "type": "histogram2dcontour",
            "colorbar": {
             "outlinewidth": 0,
             "ticks": ""
            },
            "colorscale": [
             [
              0.0,
              "#0d0887"
             ],
             [
              0.1111111111111111,
              "#46039f"
             ],
             [
              0.2222222222222222,
              "#7201a8"
             ],
             [
              0.3333333333333333,
              "#9c179e"
             ],
             [
              0.4444444444444444,
              "#bd3786"
             ],
             [
              0.5555555555555556,
              "#d8576b"
             ],
             [
              0.6666666666666666,
              "#ed7953"
             ],
             [
              0.7777777777777778,
              "#fb9f3a"
             ],
             [
              0.8888888888888888,
              "#fdca26"
             ],
             [
              1.0,
              "#f0f921"
             ]
            ]
           }
          ],
          "choropleth": [
           {
            "type": "choropleth",
            "colorbar": {
             "outlinewidth": 0,
             "ticks": ""
            }
           }
          ],
          "histogram2d": [
           {
            "type": "histogram2d",
            "colorbar": {
             "outlinewidth": 0,
             "ticks": ""
            },
            "colorscale": [
             [
              0.0,
              "#0d0887"
             ],
             [
              0.1111111111111111,
              "#46039f"
             ],
             [
              0.2222222222222222,
              "#7201a8"
             ],
             [
              0.3333333333333333,
              "#9c179e"
             ],
             [
              0.4444444444444444,
              "#bd3786"
             ],
             [
              0.5555555555555556,
              "#d8576b"
             ],
             [
              0.6666666666666666,
              "#ed7953"
             ],
             [
              0.7777777777777778,
              "#fb9f3a"
             ],
             [
              0.8888888888888888,
              "#fdca26"
             ],
             [
              1.0,
              "#f0f921"
             ]
            ]
           }
          ],
          "heatmap": [
           {
            "type": "heatmap",
            "colorbar": {
             "outlinewidth": 0,
             "ticks": ""
            },
            "colorscale": [
             [
              0.0,
              "#0d0887"
             ],
             [
              0.1111111111111111,
              "#46039f"
             ],
             [
              0.2222222222222222,
              "#7201a8"
             ],
             [
              0.3333333333333333,
              "#9c179e"
             ],
             [
              0.4444444444444444,
              "#bd3786"
             ],
             [
              0.5555555555555556,
              "#d8576b"
             ],
             [
              0.6666666666666666,
              "#ed7953"
             ],
             [
              0.7777777777777778,
              "#fb9f3a"
             ],
             [
              0.8888888888888888,
              "#fdca26"
             ],
             [
              1.0,
              "#f0f921"
             ]
            ]
           }
          ],
          "heatmapgl": [
           {
            "type": "heatmapgl",
            "colorbar": {
             "outlinewidth": 0,
             "ticks": ""
            },
            "colorscale": [
             [
              0.0,
              "#0d0887"
             ],
             [
              0.1111111111111111,
              "#46039f"
             ],
             [
              0.2222222222222222,
              "#7201a8"
             ],
             [
              0.3333333333333333,
              "#9c179e"
             ],
             [
              0.4444444444444444,
              "#bd3786"
             ],
             [
              0.5555555555555556,
              "#d8576b"
             ],
             [
              0.6666666666666666,
              "#ed7953"
             ],
             [
              0.7777777777777778,
              "#fb9f3a"
             ],
             [
              0.8888888888888888,
              "#fdca26"
             ],
             [
              1.0,
              "#f0f921"
             ]
            ]
           }
          ],
          "contourcarpet": [
           {
            "type": "contourcarpet",
            "colorbar": {
             "outlinewidth": 0,
             "ticks": ""
            }
           }
          ],
          "contour": [
           {
            "type": "contour",
            "colorbar": {
             "outlinewidth": 0,
             "ticks": ""
            },
            "colorscale": [
             [
              0.0,
              "#0d0887"
             ],
             [
              0.1111111111111111,
              "#46039f"
             ],
             [
              0.2222222222222222,
              "#7201a8"
             ],
             [
              0.3333333333333333,
              "#9c179e"
             ],
             [
              0.4444444444444444,
              "#bd3786"
             ],
             [
              0.5555555555555556,
              "#d8576b"
             ],
             [
              0.6666666666666666,
              "#ed7953"
             ],
             [
              0.7777777777777778,
              "#fb9f3a"
             ],
             [
              0.8888888888888888,
              "#fdca26"
             ],
             [
              1.0,
              "#f0f921"
             ]
            ]
           }
          ],
          "surface": [
           {
            "type": "surface",
            "colorbar": {
             "outlinewidth": 0,
             "ticks": ""
            },
            "colorscale": [
             [
              0.0,
              "#0d0887"
             ],
             [
              0.1111111111111111,
              "#46039f"
             ],
             [
              0.2222222222222222,
              "#7201a8"
             ],
             [
              0.3333333333333333,
              "#9c179e"
             ],
             [
              0.4444444444444444,
              "#bd3786"
             ],
             [
              0.5555555555555556,
              "#d8576b"
             ],
             [
              0.6666666666666666,
              "#ed7953"
             ],
             [
              0.7777777777777778,
              "#fb9f3a"
             ],
             [
              0.8888888888888888,
              "#fdca26"
             ],
             [
              1.0,
              "#f0f921"
             ]
            ]
           }
          ],
          "mesh3d": [
           {
            "type": "mesh3d",
            "colorbar": {
             "outlinewidth": 0,
             "ticks": ""
            }
           }
          ],
          "scatter": [
           {
            "marker": {
             "line": {
              "color": "#283442"
             }
            },
            "type": "scatter"
           }
          ],
          "parcoords": [
           {
            "type": "parcoords",
            "line": {
             "colorbar": {
              "outlinewidth": 0,
              "ticks": ""
             }
            }
           }
          ],
          "scatterpolargl": [
           {
            "type": "scatterpolargl",
            "marker": {
             "colorbar": {
              "outlinewidth": 0,
              "ticks": ""
             }
            }
           }
          ],
          "bar": [
           {
            "error_x": {
             "color": "#f2f5fa"
            },
            "error_y": {
             "color": "#f2f5fa"
            },
            "marker": {
             "line": {
              "color": "rgb(17,17,17)",
              "width": 0.5
             },
             "pattern": {
              "fillmode": "overlay",
              "size": 10,
              "solidity": 0.2
             }
            },
            "type": "bar"
           }
          ],
          "scattergeo": [
           {
            "type": "scattergeo",
            "marker": {
             "colorbar": {
              "outlinewidth": 0,
              "ticks": ""
             }
            }
           }
          ],
          "scatterpolar": [
           {
            "type": "scatterpolar",
            "marker": {
             "colorbar": {
              "outlinewidth": 0,
              "ticks": ""
             }
            }
           }
          ],
          "histogram": [
           {
            "marker": {
             "pattern": {
              "fillmode": "overlay",
              "size": 10,
              "solidity": 0.2
             }
            },
            "type": "histogram"
           }
          ],
          "scattergl": [
           {
            "marker": {
             "line": {
              "color": "#283442"
             }
            },
            "type": "scattergl"
           }
          ],
          "scatter3d": [
           {
            "type": "scatter3d",
            "line": {
             "colorbar": {
              "outlinewidth": 0,
              "ticks": ""
             }
            },
            "marker": {
             "colorbar": {
              "outlinewidth": 0,
              "ticks": ""
             }
            }
           }
          ],
          "scattermapbox": [
           {
            "type": "scattermapbox",
            "marker": {
             "colorbar": {
              "outlinewidth": 0,
              "ticks": ""
             }
            }
           }
          ],
          "scatterternary": [
           {
            "type": "scatterternary",
            "marker": {
             "colorbar": {
              "outlinewidth": 0,
              "ticks": ""
             }
            }
           }
          ],
          "scattercarpet": [
           {
            "type": "scattercarpet",
            "marker": {
             "colorbar": {
              "outlinewidth": 0,
              "ticks": ""
             }
            }
           }
          ],
          "carpet": [
           {
            "aaxis": {
             "endlinecolor": "#A2B1C6",
             "gridcolor": "#506784",
             "linecolor": "#506784",
             "minorgridcolor": "#506784",
             "startlinecolor": "#A2B1C6"
            },
            "baxis": {
             "endlinecolor": "#A2B1C6",
             "gridcolor": "#506784",
             "linecolor": "#506784",
             "minorgridcolor": "#506784",
             "startlinecolor": "#A2B1C6"
            },
            "type": "carpet"
           }
          ],
          "table": [
           {
            "cells": {
             "fill": {
              "color": "#506784"
             },
             "line": {
              "color": "rgb(17,17,17)"
             }
            },
            "header": {
             "fill": {
              "color": "#2a3f5f"
             },
             "line": {
              "color": "rgb(17,17,17)"
             }
            },
            "type": "table"
           }
          ],
          "barpolar": [
           {
            "marker": {
             "line": {
              "color": "rgb(17,17,17)",
              "width": 0.5
             },
             "pattern": {
              "fillmode": "overlay",
              "size": 10,
              "solidity": 0.2
             }
            },
            "type": "barpolar"
           }
          ],
          "pie": [
           {
            "automargin": true,
            "type": "pie"
           }
          ]
         },
         "layout": {
          "autotypenumbers": "strict",
          "colorway": [
           "#636efa",
           "#EF553B",
           "#00cc96",
           "#ab63fa",
           "#FFA15A",
           "#19d3f3",
           "#FF6692",
           "#B6E880",
           "#FF97FF",
           "#FECB52"
          ],
          "font": {
           "color": "#f2f5fa"
          },
          "hovermode": "closest",
          "hoverlabel": {
           "align": "left"
          },
          "paper_bgcolor": "rgb(17,17,17)",
          "plot_bgcolor": "rgb(17,17,17)",
          "polar": {
           "bgcolor": "rgb(17,17,17)",
           "angularaxis": {
            "gridcolor": "#506784",
            "linecolor": "#506784",
            "ticks": ""
           },
           "radialaxis": {
            "gridcolor": "#506784",
            "linecolor": "#506784",
            "ticks": ""
           }
          },
          "ternary": {
           "bgcolor": "rgb(17,17,17)",
           "aaxis": {
            "gridcolor": "#506784",
            "linecolor": "#506784",
            "ticks": ""
           },
           "baxis": {
            "gridcolor": "#506784",
            "linecolor": "#506784",
            "ticks": ""
           },
           "caxis": {
            "gridcolor": "#506784",
            "linecolor": "#506784",
            "ticks": ""
           }
          },
          "coloraxis": {
           "colorbar": {
            "outlinewidth": 0,
            "ticks": ""
           }
          },
          "colorscale": {
           "sequential": [
            [
             0.0,
             "#0d0887"
            ],
            [
             0.1111111111111111,
             "#46039f"
            ],
            [
             0.2222222222222222,
             "#7201a8"
            ],
            [
             0.3333333333333333,
             "#9c179e"
            ],
            [
             0.4444444444444444,
             "#bd3786"
            ],
            [
             0.5555555555555556,
             "#d8576b"
            ],
            [
             0.6666666666666666,
             "#ed7953"
            ],
            [
             0.7777777777777778,
             "#fb9f3a"
            ],
            [
             0.8888888888888888,
             "#fdca26"
            ],
            [
             1.0,
             "#f0f921"
            ]
           ],
           "sequentialminus": [
            [
             0.0,
             "#0d0887"
            ],
            [
             0.1111111111111111,
             "#46039f"
            ],
            [
             0.2222222222222222,
             "#7201a8"
            ],
            [
             0.3333333333333333,
             "#9c179e"
            ],
            [
             0.4444444444444444,
             "#bd3786"
            ],
            [
             0.5555555555555556,
             "#d8576b"
            ],
            [
             0.6666666666666666,
             "#ed7953"
            ],
            [
             0.7777777777777778,
             "#fb9f3a"
            ],
            [
             0.8888888888888888,
             "#fdca26"
            ],
            [
             1.0,
             "#f0f921"
            ]
           ],
           "diverging": [
            [
             0,
             "#8e0152"
            ],
            [
             0.1,
             "#c51b7d"
            ],
            [
             0.2,
             "#de77ae"
            ],
            [
             0.3,
             "#f1b6da"
            ],
            [
             0.4,
             "#fde0ef"
            ],
            [
             0.5,
             "#f7f7f7"
            ],
            [
             0.6,
             "#e6f5d0"
            ],
            [
             0.7,
             "#b8e186"
            ],
            [
             0.8,
             "#7fbc41"
            ],
            [
             0.9,
             "#4d9221"
            ],
            [
             1,
             "#276419"
            ]
           ]
          },
          "xaxis": {
           "gridcolor": "#283442",
           "linecolor": "#506784",
           "ticks": "",
           "title": {
            "standoff": 15
           },
           "zerolinecolor": "#283442",
           "automargin": true,
           "zerolinewidth": 2
          },
          "yaxis": {
           "gridcolor": "#283442",
           "linecolor": "#506784",
           "ticks": "",
           "title": {
            "standoff": 15
           },
           "zerolinecolor": "#283442",
           "automargin": true,
           "zerolinewidth": 2
          },
          "scene": {
           "xaxis": {
            "backgroundcolor": "rgb(17,17,17)",
            "gridcolor": "#506784",
            "linecolor": "#506784",
            "showbackground": true,
            "ticks": "",
            "zerolinecolor": "#C8D4E3",
            "gridwidth": 2
           },
           "yaxis": {
            "backgroundcolor": "rgb(17,17,17)",
            "gridcolor": "#506784",
            "linecolor": "#506784",
            "showbackground": true,
            "ticks": "",
            "zerolinecolor": "#C8D4E3",
            "gridwidth": 2
           },
           "zaxis": {
            "backgroundcolor": "rgb(17,17,17)",
            "gridcolor": "#506784",
            "linecolor": "#506784",
            "showbackground": true,
            "ticks": "",
            "zerolinecolor": "#C8D4E3",
            "gridwidth": 2
           }
          },
          "shapedefaults": {
           "line": {
            "color": "#f2f5fa"
           }
          },
          "annotationdefaults": {
           "arrowcolor": "#f2f5fa",
           "arrowhead": 0,
           "arrowwidth": 1
          },
          "geo": {
           "bgcolor": "rgb(17,17,17)",
           "landcolor": "rgb(17,17,17)",
           "subunitcolor": "#506784",
           "showland": true,
           "showlakes": true,
           "lakecolor": "rgb(17,17,17)"
          },
          "title": {
           "x": 0.05
          },
          "updatemenudefaults": {
           "bgcolor": "#506784",
           "borderwidth": 0
          },
          "sliderdefaults": {
           "bgcolor": "#C8D4E3",
           "borderwidth": 1,
           "bordercolor": "rgb(17,17,17)",
           "tickwidth": 0
          },
          "mapbox": {
           "style": "dark"
          }
         }
        },
        "xaxis": {
         "anchor": "y",
         "domain": [
          0.0,
          1.0
         ],
         "title": {
          "text": "salary_lower"
         }
        },
        "yaxis": {
         "anchor": "x",
         "domain": [
          0.0,
          1.0
         ],
         "title": {
          "text": "count"
         }
        },
        "legend": {
         "tracegroupgap": 0
        },
        "margin": {
         "t": 60
        },
        "barmode": "relative",
        "bargap": 0.2
       },
       "config": {
        "plotlyServerURL": "https://plot.ly"
       }
      },
      "text/html": "<div>                            <div id=\"e87f9ecb-f484-4531-8fca-8c8678f91a67\" class=\"plotly-graph-div\" style=\"height:525px; width:100%;\"></div>            <script type=\"text/javascript\">                require([\"plotly\"], function(Plotly) {                    window.PLOTLYENV=window.PLOTLYENV || {};                                    if (document.getElementById(\"e87f9ecb-f484-4531-8fca-8c8678f91a67\")) {                    Plotly.newPlot(                        \"e87f9ecb-f484-4531-8fca-8c8678f91a67\",                        [{\"alignmentgroup\":\"True\",\"bingroup\":\"x\",\"hovertemplate\":\"salary_lower=%{x}<br>count=%{y}<extra></extra>\",\"legendgroup\":\"\",\"marker\":{\"color\":\"#1dd3b0\",\"opacity\":0.8,\"pattern\":{\"shape\":\"\"}},\"name\":\"\",\"offsetgroup\":\"\",\"orientation\":\"v\",\"showlegend\":false,\"texttemplate\":\"%{value}\",\"x\":[37000.0,37000.0,37000.0,37000.0,37000.0,37000.0,37000.0,37000.0,37000.0,37000.0,37000.0,37000.0,37000.0,37000.0,37000.0,37000.0,37000.0,37000.0,37000.0,37000.0,37000.0,37000.0,37000.0,37000.0,37000.0,37000.0,37000.0,37000.0,37000.0,37000.0,46000.0,46000.0,46000.0,46000.0,46000.0,46000.0,46000.0,46000.0,46000.0,46000.0,46000.0,46000.0,46000.0,46000.0,46000.0,46000.0,46000.0,46000.0,46000.0,46000.0,46000.0,46000.0,46000.0,46000.0,46000.0,46000.0,46000.0,46000.0,46000.0,46000.0,51000.0,51000.0,51000.0,51000.0,51000.0,51000.0,51000.0,51000.0,51000.0,51000.0,51000.0,51000.0,51000.0,51000.0,51000.0,51000.0,51000.0,51000.0,51000.0,51000.0,51000.0,51000.0,51000.0,51000.0,51000.0,51000.0,51000.0,51000.0,51000.0,51000.0,51000.0,51000.0,51000.0,51000.0,51000.0,51000.0,51000.0,51000.0,51000.0,51000.0,51000.0,51000.0,51000.0,51000.0,51000.0,51000.0,51000.0,51000.0,51000.0,51000.0,51000.0,51000.0,51000.0,51000.0,51000.0,51000.0,51000.0,51000.0,51000.0,51000.0,59000.0,59000.0,59000.0,59000.0,59000.0,59000.0,59000.0,59000.0,59000.0,59000.0,59000.0,59000.0,59000.0,59000.0,59000.0,59000.0,59000.0,59000.0,59000.0,59000.0,59000.0,59000.0,59000.0,59000.0,59000.0,59000.0,59000.0,59000.0,59000.0,59000.0,43000.0,43000.0,43000.0,43000.0,43000.0,43000.0,43000.0,43000.0,43000.0,43000.0,43000.0,43000.0,43000.0,43000.0,43000.0,43000.0,43000.0,43000.0,43000.0,43000.0,43000.0,43000.0,43000.0,43000.0,43000.0,43000.0,43000.0,43000.0,43000.0,43000.0,43000.0,60000.0,60000.0,60000.0,60000.0,60000.0,60000.0,60000.0,60000.0,60000.0,60000.0,60000.0,60000.0,60000.0,60000.0,60000.0,60000.0,60000.0,60000.0,60000.0,60000.0,60000.0,60000.0,60000.0,60000.0,60000.0,60000.0,60000.0,60000.0,60000.0,60000.0,41000.0,41000.0,41000.0,41000.0,41000.0,41000.0,41000.0,41000.0,41000.0,41000.0,41000.0,41000.0,41000.0,41000.0,41000.0,41000.0,41000.0,41000.0,41000.0,41000.0,41000.0,41000.0,41000.0,41000.0,41000.0,41000.0,41000.0,41000.0,41000.0,45000.0,45000.0,45000.0,45000.0,45000.0,45000.0,45000.0,45000.0,45000.0,45000.0,45000.0,73000.0,73000.0,73000.0,73000.0,73000.0,73000.0,73000.0,73000.0,73000.0,73000.0,73000.0,73000.0,73000.0,73000.0,84000.0,84000.0,84000.0,84000.0,84000.0,84000.0,84000.0,84000.0,84000.0,84000.0,84000.0,84000.0,84000.0,84000.0,84000.0,84000.0,84000.0,84000.0,27000.0,27000.0,27000.0,27000.0,27000.0,27000.0,27000.0,27000.0,27000.0,27000.0,27000.0,27000.0,27000.0,27000.0,27000.0,27000.0,27000.0,27000.0,27000.0,27000.0,27000.0,27000.0,27000.0,27000.0,27000.0,27000.0,27000.0,27000.0,27000.0,27000.0,42000.0,42000.0,42000.0,42000.0,42000.0,42000.0,42000.0,42000.0,42000.0,42000.0,42000.0,42000.0,42000.0,42000.0,42000.0,42000.0,42000.0,42000.0,42000.0,42000.0,42000.0,42000.0,42000.0,42000.0,42000.0,42000.0,42000.0,77000.0,77000.0,77000.0,77000.0,77000.0,77000.0,77000.0,77000.0,77000.0,77000.0,77000.0,77000.0,77000.0,77000.0,77000.0,77000.0,77000.0,77000.0,77000.0,77000.0,77000.0,77000.0,77000.0,77000.0,77000.0,77000.0,77000.0,77000.0,77000.0,98000.0,98000.0,98000.0,98000.0,98000.0,98000.0,98000.0,98000.0,98000.0,98000.0,98000.0,98000.0,98000.0,98000.0,98000.0,98000.0,98000.0,98000.0,98000.0,98000.0,98000.0,98000.0,98000.0,98000.0,98000.0,98000.0,98000.0,98000.0,98000.0,98000.0,48000.0,48000.0,48000.0,48000.0,48000.0,48000.0,48000.0,48000.0,48000.0,48000.0,48000.0,48000.0,48000.0,48000.0,48000.0,48000.0,48000.0,48000.0,48000.0,48000.0,48000.0,48000.0,26000.0,26000.0,26000.0,26000.0,26000.0,26000.0,26000.0,26000.0,26000.0,26000.0,26000.0,26000.0,26000.0,26000.0,26000.0,26000.0,26000.0,26000.0,26000.0,26000.0,26000.0,26000.0,26000.0,26000.0,26000.0,26000.0,26000.0,26000.0,26000.0,31000.0,31000.0,31000.0,31000.0,47000.0,47000.0,47000.0,43000.0,43000.0,43000.0,43000.0,43000.0,43000.0,43000.0,43000.0,43000.0,43000.0,43000.0,43000.0,43000.0,43000.0,43000.0,43000.0,43000.0,43000.0,43000.0,43000.0,43000.0,43000.0,43000.0,43000.0,43000.0,43000.0,43000.0,43000.0,43000.0,43000.0,49000.0,49000.0,49000.0,49000.0,49000.0,49000.0,49000.0,49000.0,49000.0,49000.0,49000.0,49000.0,49000.0,49000.0,49000.0,49000.0,49000.0,49000.0,30000.0,30000.0,30000.0,30000.0,30000.0,30000.0,30000.0,30000.0,55000.0,55000.0,55000.0,55000.0,55000.0,55000.0,55000.0,55000.0,55000.0,55000.0,55000.0,55000.0,55000.0,55000.0,55000.0,55000.0,55000.0,55000.0,55000.0,55000.0,55000.0,55000.0,55000.0,55000.0,55000.0,55000.0,55000.0,55000.0,55000.0,37000.0,37000.0,37000.0,37000.0,37000.0,37000.0,37000.0,37000.0,37000.0,37000.0,37000.0,37000.0,37000.0,37000.0,37000.0,37000.0,37000.0,37000.0,37000.0,37000.0,37000.0,37000.0,37000.0,37000.0,37000.0,37000.0,37000.0,37000.0,37000.0,57000.0,57000.0,57000.0,57000.0,57000.0,57000.0,57000.0,57000.0,57000.0,57000.0,57000.0,57000.0,57000.0,57000.0,57000.0,57000.0,57000.0,57000.0,57000.0,57000.0,57000.0,57000.0,57000.0,57000.0,57000.0,57000.0,57000.0,57000.0,57000.0,35000.0,35000.0,35000.0,35000.0,35000.0,35000.0,35000.0,35000.0,35000.0,35000.0,35000.0,35000.0,35000.0,35000.0,35000.0,35000.0,35000.0,35000.0,35000.0,35000.0,35000.0,35000.0,35000.0,35000.0,35000.0,35000.0,35000.0,35000.0,42000.0,42000.0,42000.0,42000.0,42000.0,42000.0,42000.0,42000.0,42000.0,42000.0,42000.0,42000.0,42000.0,42000.0,42000.0,42000.0,42000.0,42000.0,42000.0,42000.0,42000.0,42000.0,42000.0,42000.0,42000.0,42000.0,42000.0,42000.0,42000.0,42000.0,65000.0,65000.0,65000.0,65000.0,65000.0,65000.0,65000.0,65000.0,65000.0,65000.0,65000.0,65000.0,65000.0,65000.0,65000.0,65000.0,65000.0,65000.0,65000.0,65000.0,65000.0,65000.0,65000.0,65000.0,65000.0,65000.0,65000.0,65000.0,65000.0,113000.0,113000.0,113000.0,113000.0,113000.0,113000.0,113000.0,113000.0,113000.0,113000.0,113000.0,113000.0,113000.0,113000.0,113000.0,113000.0,113000.0,113000.0,113000.0,113000.0,113000.0,113000.0,113000.0,113000.0,113000.0,113000.0,113000.0,113000.0,113000.0,42000.0,42000.0,42000.0,42000.0,60000.0,60000.0,60000.0,60000.0,60000.0,60000.0,60000.0,60000.0,60000.0,60000.0,60000.0,60000.0,60000.0,60000.0,60000.0,60000.0,60000.0,60000.0,60000.0,60000.0,60000.0,60000.0,60000.0,60000.0,60000.0,60000.0,60000.0,60000.0,60000.0,60000.0,73000.0,73000.0,73000.0,73000.0,73000.0,73000.0,73000.0,73000.0,73000.0,73000.0,73000.0,73000.0,73000.0,73000.0,73000.0,73000.0,73000.0,73000.0,73000.0,73000.0,73000.0,73000.0,73000.0,73000.0,73000.0,73000.0,73000.0,73000.0,73000.0,67000.0,67000.0,67000.0,67000.0,67000.0,67000.0,67000.0,67000.0,67000.0,67000.0,67000.0,67000.0,67000.0,67000.0,67000.0,67000.0,67000.0,67000.0,67000.0,67000.0,67000.0,67000.0,67000.0,67000.0,67000.0,67000.0,67000.0,67000.0,67000.0,42000.0,42000.0,42000.0,42000.0,42000.0,42000.0,42000.0,42000.0,42000.0,42000.0,42000.0,42000.0,42000.0,42000.0,42000.0,42000.0,42000.0,42000.0,42000.0,42000.0,42000.0,42000.0,42000.0,42000.0,42000.0,42000.0,42000.0,42000.0,42000.0,42000.0,97000.0,97000.0,97000.0,97000.0,97000.0,97000.0,97000.0,97000.0,97000.0,97000.0,97000.0,97000.0,97000.0,97000.0,97000.0,97000.0,97000.0,97000.0,97000.0,97000.0,97000.0,97000.0,97000.0,97000.0,97000.0,97000.0,97000.0,97000.0,97000.0,97000.0,68000.0,68000.0,68000.0,68000.0,68000.0,68000.0,68000.0,68000.0,68000.0,68000.0,68000.0,68000.0,68000.0,68000.0,68000.0,68000.0,29000.0,29000.0,29000.0,29000.0,29000.0,29000.0,29000.0,29000.0,29000.0,29000.0,29000.0,29000.0,29000.0,29000.0,29000.0,29000.0,29000.0,29000.0,29000.0,29000.0,29000.0,29000.0,29000.0,29000.0,29000.0,29000.0,29000.0,29000.0,29000.0,47000.0,47000.0,47000.0,47000.0,47000.0,47000.0,47000.0,47000.0,47000.0,47000.0,47000.0,47000.0,47000.0,47000.0,47000.0,47000.0,47000.0,47000.0,47000.0,47000.0,47000.0,47000.0,47000.0,47000.0,47000.0,47000.0,47000.0,47000.0,74000.0,74000.0,74000.0,74000.0,74000.0,74000.0,74000.0,74000.0,74000.0,74000.0,74000.0,74000.0,74000.0,74000.0,74000.0,74000.0,74000.0,74000.0,74000.0,74000.0,74000.0,74000.0,74000.0,74000.0,74000.0,74000.0,74000.0,74000.0,53000.0,53000.0,53000.0,53000.0,53000.0,53000.0,53000.0,53000.0,53000.0,53000.0,53000.0,53000.0,53000.0,53000.0,53000.0,53000.0,53000.0,53000.0,53000.0,53000.0,53000.0,53000.0,53000.0,53000.0,53000.0,53000.0,53000.0,53000.0,53000.0,46000.0,46000.0,46000.0,46000.0,46000.0,46000.0,46000.0,46000.0,46000.0,46000.0,46000.0,46000.0,46000.0,46000.0,46000.0,46000.0,46000.0,46000.0,46000.0,46000.0,46000.0,46000.0,46000.0,46000.0,46000.0,46000.0,46000.0,46000.0,43000.0,43000.0,43000.0,43000.0,43000.0,43000.0,43000.0,43000.0,43000.0,43000.0,43000.0,43000.0,43000.0,43000.0,43000.0,43000.0,43000.0,43000.0,43000.0,43000.0,43000.0,43000.0,43000.0,43000.0,43000.0,43000.0,43000.0,43000.0,43000.0,45000.0,45000.0,45000.0,45000.0,45000.0,45000.0,45000.0,45000.0,45000.0,45000.0,45000.0,41000.0,41000.0,41000.0,41000.0,41000.0,41000.0,41000.0,41000.0,41000.0,41000.0,41000.0,41000.0,41000.0,41000.0,41000.0,41000.0,41000.0,41000.0,41000.0,41000.0,41000.0,41000.0,41000.0,41000.0,41000.0,41000.0,41000.0,41000.0,38000.0,38000.0,38000.0,38000.0,38000.0,38000.0,38000.0,38000.0,38000.0,38000.0,38000.0,38000.0,38000.0,38000.0,38000.0,38000.0,38000.0,38000.0,38000.0,38000.0,38000.0,38000.0,38000.0,38000.0,38000.0,38000.0,38000.0,38000.0,38000.0,37000.0,37000.0,37000.0,37000.0,37000.0,37000.0,37000.0,37000.0,37000.0,37000.0,37000.0,37000.0,37000.0,37000.0,37000.0,37000.0,37000.0,37000.0,37000.0,37000.0,37000.0,37000.0,37000.0,37000.0,37000.0,37000.0,37000.0,37000.0,37000.0,64000.0,64000.0,64000.0,64000.0,64000.0,64000.0,64000.0,64000.0,64000.0,64000.0,64000.0,64000.0,64000.0,64000.0,64000.0,64000.0,64000.0,64000.0,64000.0,64000.0,64000.0,64000.0,64000.0,64000.0,64000.0,64000.0,64000.0,64000.0,64000.0,64000.0,50000.0,50000.0,50000.0,50000.0,50000.0,50000.0,50000.0,50000.0,50000.0,50000.0,50000.0,50000.0,50000.0,50000.0,50000.0,50000.0,50000.0,50000.0,50000.0,37000.0,37000.0,37000.0,37000.0,37000.0,37000.0,37000.0,37000.0,37000.0,37000.0,37000.0,37000.0,37000.0,37000.0,37000.0,37000.0,37000.0,37000.0,37000.0,37000.0,37000.0,37000.0,37000.0,37000.0,37000.0,37000.0,37000.0,37000.0,37000.0,37000.0,73000.0,73000.0,73000.0,73000.0,73000.0,73000.0,73000.0,73000.0,73000.0,73000.0,73000.0,73000.0,73000.0,73000.0,73000.0,73000.0,73000.0,73000.0,76000.0,76000.0,76000.0,76000.0,76000.0,76000.0,76000.0,76000.0,76000.0,76000.0,76000.0,76000.0,76000.0,76000.0,76000.0,76000.0,76000.0,76000.0,76000.0,76000.0,76000.0,76000.0,76000.0,76000.0,76000.0,76000.0,76000.0,76000.0,60000.0,60000.0,60000.0,60000.0,60000.0,60000.0,60000.0,60000.0,60000.0,60000.0,60000.0,60000.0,60000.0,60000.0,60000.0,60000.0,60000.0,60000.0,60000.0,60000.0,60000.0,60000.0,60000.0,60000.0,60000.0,60000.0,60000.0,60000.0,60000.0,60000.0,60000.0,34000.0,34000.0,34000.0,34000.0,34000.0,24000.0,24000.0,24000.0,24000.0,24000.0,24000.0,24000.0,24000.0,24000.0,24000.0,24000.0,24000.0,24000.0,24000.0,24000.0,24000.0,24000.0,24000.0,24000.0,24000.0,24000.0,24000.0,24000.0,24000.0,24000.0,24000.0,24000.0,24000.0,24000.0,30000.0,30000.0,30000.0,30000.0,30000.0,30000.0,30000.0,30000.0,30000.0,30000.0,30000.0,30000.0,30000.0,30000.0,30000.0,30000.0,30000.0,30000.0,30000.0,30000.0,30000.0,30000.0,30000.0,30000.0,30000.0,30000.0,30000.0,30000.0,30000.0,30000.0,41000.0,41000.0,41000.0,41000.0,41000.0,41000.0,41000.0,41000.0,41000.0,41000.0,41000.0,41000.0,41000.0,41000.0,41000.0,41000.0,41000.0,41000.0,41000.0,41000.0,41000.0,41000.0,41000.0,41000.0,41000.0,41000.0,41000.0,41000.0,41000.0,44000.0,44000.0,44000.0,44000.0,44000.0,44000.0,44000.0,44000.0,44000.0,44000.0,44000.0,44000.0,44000.0,44000.0,44000.0,44000.0,44000.0,44000.0,44000.0,44000.0,44000.0,44000.0,44000.0,44000.0,44000.0,44000.0,44000.0,44000.0,48000.0,48000.0,48000.0,48000.0,48000.0,48000.0,48000.0,48000.0,48000.0,48000.0,48000.0,48000.0,48000.0,48000.0,48000.0,48000.0,48000.0,48000.0,48000.0,48000.0,48000.0,48000.0,48000.0,48000.0,48000.0,48000.0,48000.0,44000.0,44000.0,44000.0,44000.0,44000.0,44000.0,44000.0,44000.0,44000.0,44000.0,44000.0,44000.0,110000.0,110000.0,110000.0,110000.0,110000.0,110000.0,110000.0,110000.0,110000.0,110000.0,110000.0,110000.0,110000.0,110000.0,110000.0,110000.0,110000.0,110000.0,110000.0,110000.0,110000.0,110000.0,110000.0,110000.0,110000.0,110000.0,110000.0,110000.0,110000.0,89000.0,89000.0,89000.0,89000.0,89000.0,89000.0,89000.0,89000.0,89000.0,89000.0,89000.0,89000.0,89000.0,89000.0,89000.0,89000.0,89000.0,89000.0,89000.0,89000.0,89000.0,89000.0,89000.0,89000.0,89000.0,89000.0,89000.0,89000.0,69000.0,69000.0,69000.0,69000.0,69000.0,69000.0,69000.0,69000.0,69000.0,69000.0,69000.0,69000.0,69000.0,69000.0,69000.0,69000.0,69000.0,69000.0,69000.0,69000.0,69000.0,69000.0,69000.0,69000.0,69000.0,69000.0,69000.0,69000.0,69000.0,69000.0,51000.0,51000.0,51000.0,51000.0,51000.0,51000.0,51000.0,51000.0,51000.0,51000.0,51000.0,51000.0,51000.0,51000.0,51000.0,51000.0,51000.0,51000.0,51000.0,51000.0,51000.0,51000.0,51000.0,51000.0,51000.0,51000.0,51000.0,51000.0,51000.0,58000.0,58000.0,58000.0,58000.0,58000.0,58000.0,58000.0,58000.0,58000.0,58000.0,58000.0,58000.0,58000.0,58000.0,58000.0,58000.0,58000.0,58000.0,58000.0,58000.0,58000.0,58000.0,58000.0,58000.0,58000.0,58000.0,58000.0,58000.0,58000.0,58000.0,58000.0,63000.0,63000.0,63000.0,63000.0,63000.0,63000.0,63000.0,63000.0,63000.0,63000.0,63000.0,63000.0,63000.0,63000.0,63000.0,63000.0,63000.0,63000.0,63000.0,63000.0,42000.0,42000.0,42000.0,42000.0,42000.0,42000.0,42000.0,42000.0,42000.0,42000.0,42000.0,42000.0,42000.0,42000.0,42000.0,42000.0,42000.0,42000.0,42000.0,42000.0,42000.0,42000.0,42000.0,42000.0,42000.0,42000.0,42000.0,53000.0,53000.0,53000.0,53000.0,53000.0,53000.0,53000.0,53000.0,53000.0,53000.0,53000.0,53000.0,53000.0,53000.0,53000.0,53000.0,53000.0,53000.0,53000.0,53000.0,53000.0,53000.0,53000.0,53000.0,53000.0,53000.0,35000.0,35000.0,35000.0,35000.0,35000.0,35000.0,35000.0,35000.0,35000.0,35000.0,35000.0,35000.0,35000.0,35000.0,35000.0,35000.0,35000.0,35000.0,35000.0,35000.0,35000.0,35000.0,35000.0,35000.0,35000.0,35000.0,35000.0,35000.0,35000.0,35000.0,43000.0,43000.0,43000.0,40000.0,40000.0,40000.0,40000.0,40000.0,40000.0,40000.0,40000.0,40000.0,40000.0,40000.0,40000.0,40000.0,40000.0,40000.0,40000.0,40000.0,40000.0,40000.0,50000.0,50000.0,50000.0,50000.0,50000.0,50000.0,50000.0,50000.0,50000.0,50000.0,50000.0,35000.0,35000.0,35000.0,35000.0,35000.0,35000.0,35000.0,57000.0,57000.0,28000.0,28000.0,28000.0,28000.0,28000.0,28000.0,28000.0,28000.0,28000.0,28000.0,28000.0,28000.0,28000.0,28000.0,28000.0,28000.0,28000.0,28000.0,28000.0,28000.0,28000.0,28000.0,28000.0,28000.0,28000.0,28000.0,28000.0,28000.0,46000.0,46000.0,46000.0,46000.0,46000.0,46000.0,46000.0,50000.0,50000.0,50000.0,50000.0,50000.0,50000.0,50000.0,50000.0,50000.0,50000.0,50000.0,50000.0,50000.0,50000.0,50000.0,50000.0,50000.0,50000.0,50000.0,50000.0,50000.0,50000.0,50000.0,50000.0,50000.0,50000.0,50000.0,50000.0,50000.0,50000.0,54000.0,54000.0,54000.0,54000.0,54000.0,54000.0,54000.0,54000.0,54000.0,54000.0,54000.0,54000.0,54000.0,54000.0,54000.0,54000.0,54000.0,54000.0,54000.0,54000.0,54000.0,54000.0,54000.0,54000.0,54000.0,54000.0,54000.0,54000.0,53000.0,53000.0,53000.0,53000.0,53000.0,53000.0,53000.0,53000.0,53000.0,53000.0,53000.0,53000.0,53000.0,53000.0,53000.0,53000.0,53000.0,53000.0,53000.0,53000.0,53000.0,53000.0,53000.0,53000.0,53000.0,53000.0,40000.0,40000.0,40000.0,40000.0,40000.0,40000.0,40000.0,40000.0,40000.0,57000.0,57000.0,57000.0,57000.0,57000.0,57000.0,57000.0,57000.0,57000.0,57000.0,57000.0,57000.0,57000.0,57000.0,57000.0,57000.0,57000.0,57000.0,57000.0,57000.0,57000.0,57000.0,57000.0,57000.0,57000.0,57000.0,57000.0,99000.0,99000.0,99000.0,99000.0,99000.0,99000.0,99000.0,99000.0,99000.0,99000.0,99000.0,99000.0,99000.0,99000.0,99000.0,99000.0,99000.0,99000.0,99000.0,99000.0,99000.0,99000.0,99000.0,99000.0,99000.0,99000.0,99000.0,99000.0,93000.0,93000.0,93000.0,93000.0,93000.0,93000.0,93000.0,93000.0,93000.0,93000.0,93000.0,93000.0,93000.0,93000.0,93000.0,93000.0,93000.0,93000.0,93000.0,93000.0,93000.0,93000.0,93000.0,93000.0,93000.0,82000.0,82000.0,82000.0,82000.0,82000.0,82000.0,82000.0,82000.0,82000.0,82000.0,82000.0,82000.0,82000.0,82000.0,82000.0,82000.0,82000.0,82000.0,82000.0,82000.0,82000.0,82000.0,82000.0,82000.0,82000.0,82000.0,82000.0,82000.0,65000.0,65000.0,65000.0,65000.0,65000.0,65000.0,65000.0,65000.0,65000.0,65000.0,65000.0,65000.0,65000.0,65000.0,65000.0,65000.0,65000.0,65000.0,65000.0,65000.0,65000.0,65000.0,65000.0,65000.0,65000.0,65000.0,65000.0,65000.0,46000.0,46000.0,46000.0,46000.0,46000.0,46000.0,46000.0,46000.0,46000.0,46000.0,46000.0,46000.0,46000.0,46000.0,46000.0,46000.0,46000.0,46000.0,46000.0,46000.0,46000.0,46000.0,46000.0,47000.0,47000.0,47000.0,47000.0,47000.0,47000.0,47000.0,47000.0,47000.0,47000.0,47000.0,47000.0,47000.0,47000.0,47000.0,47000.0,47000.0,47000.0,47000.0,47000.0,47000.0,47000.0,47000.0,47000.0,47000.0,47000.0,34000.0,34000.0,34000.0,34000.0,34000.0,34000.0,34000.0,34000.0,34000.0,34000.0,34000.0,34000.0,34000.0,34000.0,34000.0,34000.0,34000.0,34000.0,34000.0,34000.0,34000.0,34000.0,34000.0,35000.0,35000.0,35000.0,35000.0,35000.0,35000.0,35000.0,35000.0,35000.0,35000.0,35000.0,35000.0,35000.0,35000.0,35000.0,35000.0,35000.0,35000.0,35000.0,35000.0,35000.0,35000.0,35000.0,35000.0,35000.0,35000.0,55000.0,55000.0,55000.0,55000.0,55000.0,55000.0,55000.0,55000.0,55000.0,55000.0,55000.0,55000.0,55000.0,55000.0,55000.0,55000.0,55000.0,55000.0,55000.0,55000.0,55000.0,55000.0,55000.0,55000.0,55000.0,55000.0,55000.0,null,32000.0,32000.0,32000.0,32000.0,36000.0,36000.0,36000.0,57000.0,57000.0,57000.0,57000.0,57000.0,57000.0,57000.0,57000.0,57000.0,57000.0,57000.0,57000.0,57000.0,57000.0,57000.0,57000.0,57000.0,57000.0,57000.0,57000.0,57000.0,57000.0,57000.0,57000.0,57000.0,57000.0,49000.0,49000.0,49000.0,49000.0,49000.0,49000.0,49000.0,49000.0,49000.0,49000.0,49000.0,49000.0,49000.0,49000.0,49000.0,49000.0,49000.0,49000.0,49000.0,49000.0,49000.0,49000.0,49000.0,49000.0,49000.0,49000.0,49000.0,49000.0,57000.0,57000.0,57000.0,57000.0,57000.0,57000.0,57000.0,57000.0,57000.0,57000.0,57000.0,57000.0,57000.0,57000.0,57000.0,57000.0,57000.0,57000.0,57000.0,57000.0,57000.0,57000.0,57000.0,57000.0,57000.0,57000.0,57000.0,78000.0,78000.0,78000.0,78000.0,78000.0,78000.0,78000.0,78000.0,78000.0,78000.0,78000.0,78000.0,78000.0,78000.0,78000.0],\"xaxis\":\"x\",\"yaxis\":\"y\",\"type\":\"histogram\"}],                        {\"template\":{\"data\":{\"histogram2dcontour\":[{\"type\":\"histogram2dcontour\",\"colorbar\":{\"outlinewidth\":0,\"ticks\":\"\"},\"colorscale\":[[0.0,\"#0d0887\"],[0.1111111111111111,\"#46039f\"],[0.2222222222222222,\"#7201a8\"],[0.3333333333333333,\"#9c179e\"],[0.4444444444444444,\"#bd3786\"],[0.5555555555555556,\"#d8576b\"],[0.6666666666666666,\"#ed7953\"],[0.7777777777777778,\"#fb9f3a\"],[0.8888888888888888,\"#fdca26\"],[1.0,\"#f0f921\"]]}],\"choropleth\":[{\"type\":\"choropleth\",\"colorbar\":{\"outlinewidth\":0,\"ticks\":\"\"}}],\"histogram2d\":[{\"type\":\"histogram2d\",\"colorbar\":{\"outlinewidth\":0,\"ticks\":\"\"},\"colorscale\":[[0.0,\"#0d0887\"],[0.1111111111111111,\"#46039f\"],[0.2222222222222222,\"#7201a8\"],[0.3333333333333333,\"#9c179e\"],[0.4444444444444444,\"#bd3786\"],[0.5555555555555556,\"#d8576b\"],[0.6666666666666666,\"#ed7953\"],[0.7777777777777778,\"#fb9f3a\"],[0.8888888888888888,\"#fdca26\"],[1.0,\"#f0f921\"]]}],\"heatmap\":[{\"type\":\"heatmap\",\"colorbar\":{\"outlinewidth\":0,\"ticks\":\"\"},\"colorscale\":[[0.0,\"#0d0887\"],[0.1111111111111111,\"#46039f\"],[0.2222222222222222,\"#7201a8\"],[0.3333333333333333,\"#9c179e\"],[0.4444444444444444,\"#bd3786\"],[0.5555555555555556,\"#d8576b\"],[0.6666666666666666,\"#ed7953\"],[0.7777777777777778,\"#fb9f3a\"],[0.8888888888888888,\"#fdca26\"],[1.0,\"#f0f921\"]]}],\"heatmapgl\":[{\"type\":\"heatmapgl\",\"colorbar\":{\"outlinewidth\":0,\"ticks\":\"\"},\"colorscale\":[[0.0,\"#0d0887\"],[0.1111111111111111,\"#46039f\"],[0.2222222222222222,\"#7201a8\"],[0.3333333333333333,\"#9c179e\"],[0.4444444444444444,\"#bd3786\"],[0.5555555555555556,\"#d8576b\"],[0.6666666666666666,\"#ed7953\"],[0.7777777777777778,\"#fb9f3a\"],[0.8888888888888888,\"#fdca26\"],[1.0,\"#f0f921\"]]}],\"contourcarpet\":[{\"type\":\"contourcarpet\",\"colorbar\":{\"outlinewidth\":0,\"ticks\":\"\"}}],\"contour\":[{\"type\":\"contour\",\"colorbar\":{\"outlinewidth\":0,\"ticks\":\"\"},\"colorscale\":[[0.0,\"#0d0887\"],[0.1111111111111111,\"#46039f\"],[0.2222222222222222,\"#7201a8\"],[0.3333333333333333,\"#9c179e\"],[0.4444444444444444,\"#bd3786\"],[0.5555555555555556,\"#d8576b\"],[0.6666666666666666,\"#ed7953\"],[0.7777777777777778,\"#fb9f3a\"],[0.8888888888888888,\"#fdca26\"],[1.0,\"#f0f921\"]]}],\"surface\":[{\"type\":\"surface\",\"colorbar\":{\"outlinewidth\":0,\"ticks\":\"\"},\"colorscale\":[[0.0,\"#0d0887\"],[0.1111111111111111,\"#46039f\"],[0.2222222222222222,\"#7201a8\"],[0.3333333333333333,\"#9c179e\"],[0.4444444444444444,\"#bd3786\"],[0.5555555555555556,\"#d8576b\"],[0.6666666666666666,\"#ed7953\"],[0.7777777777777778,\"#fb9f3a\"],[0.8888888888888888,\"#fdca26\"],[1.0,\"#f0f921\"]]}],\"mesh3d\":[{\"type\":\"mesh3d\",\"colorbar\":{\"outlinewidth\":0,\"ticks\":\"\"}}],\"scatter\":[{\"marker\":{\"line\":{\"color\":\"#283442\"}},\"type\":\"scatter\"}],\"parcoords\":[{\"type\":\"parcoords\",\"line\":{\"colorbar\":{\"outlinewidth\":0,\"ticks\":\"\"}}}],\"scatterpolargl\":[{\"type\":\"scatterpolargl\",\"marker\":{\"colorbar\":{\"outlinewidth\":0,\"ticks\":\"\"}}}],\"bar\":[{\"error_x\":{\"color\":\"#f2f5fa\"},\"error_y\":{\"color\":\"#f2f5fa\"},\"marker\":{\"line\":{\"color\":\"rgb(17,17,17)\",\"width\":0.5},\"pattern\":{\"fillmode\":\"overlay\",\"size\":10,\"solidity\":0.2}},\"type\":\"bar\"}],\"scattergeo\":[{\"type\":\"scattergeo\",\"marker\":{\"colorbar\":{\"outlinewidth\":0,\"ticks\":\"\"}}}],\"scatterpolar\":[{\"type\":\"scatterpolar\",\"marker\":{\"colorbar\":{\"outlinewidth\":0,\"ticks\":\"\"}}}],\"histogram\":[{\"marker\":{\"pattern\":{\"fillmode\":\"overlay\",\"size\":10,\"solidity\":0.2}},\"type\":\"histogram\"}],\"scattergl\":[{\"marker\":{\"line\":{\"color\":\"#283442\"}},\"type\":\"scattergl\"}],\"scatter3d\":[{\"type\":\"scatter3d\",\"line\":{\"colorbar\":{\"outlinewidth\":0,\"ticks\":\"\"}},\"marker\":{\"colorbar\":{\"outlinewidth\":0,\"ticks\":\"\"}}}],\"scattermapbox\":[{\"type\":\"scattermapbox\",\"marker\":{\"colorbar\":{\"outlinewidth\":0,\"ticks\":\"\"}}}],\"scatterternary\":[{\"type\":\"scatterternary\",\"marker\":{\"colorbar\":{\"outlinewidth\":0,\"ticks\":\"\"}}}],\"scattercarpet\":[{\"type\":\"scattercarpet\",\"marker\":{\"colorbar\":{\"outlinewidth\":0,\"ticks\":\"\"}}}],\"carpet\":[{\"aaxis\":{\"endlinecolor\":\"#A2B1C6\",\"gridcolor\":\"#506784\",\"linecolor\":\"#506784\",\"minorgridcolor\":\"#506784\",\"startlinecolor\":\"#A2B1C6\"},\"baxis\":{\"endlinecolor\":\"#A2B1C6\",\"gridcolor\":\"#506784\",\"linecolor\":\"#506784\",\"minorgridcolor\":\"#506784\",\"startlinecolor\":\"#A2B1C6\"},\"type\":\"carpet\"}],\"table\":[{\"cells\":{\"fill\":{\"color\":\"#506784\"},\"line\":{\"color\":\"rgb(17,17,17)\"}},\"header\":{\"fill\":{\"color\":\"#2a3f5f\"},\"line\":{\"color\":\"rgb(17,17,17)\"}},\"type\":\"table\"}],\"barpolar\":[{\"marker\":{\"line\":{\"color\":\"rgb(17,17,17)\",\"width\":0.5},\"pattern\":{\"fillmode\":\"overlay\",\"size\":10,\"solidity\":0.2}},\"type\":\"barpolar\"}],\"pie\":[{\"automargin\":true,\"type\":\"pie\"}]},\"layout\":{\"autotypenumbers\":\"strict\",\"colorway\":[\"#636efa\",\"#EF553B\",\"#00cc96\",\"#ab63fa\",\"#FFA15A\",\"#19d3f3\",\"#FF6692\",\"#B6E880\",\"#FF97FF\",\"#FECB52\"],\"font\":{\"color\":\"#f2f5fa\"},\"hovermode\":\"closest\",\"hoverlabel\":{\"align\":\"left\"},\"paper_bgcolor\":\"rgb(17,17,17)\",\"plot_bgcolor\":\"rgb(17,17,17)\",\"polar\":{\"bgcolor\":\"rgb(17,17,17)\",\"angularaxis\":{\"gridcolor\":\"#506784\",\"linecolor\":\"#506784\",\"ticks\":\"\"},\"radialaxis\":{\"gridcolor\":\"#506784\",\"linecolor\":\"#506784\",\"ticks\":\"\"}},\"ternary\":{\"bgcolor\":\"rgb(17,17,17)\",\"aaxis\":{\"gridcolor\":\"#506784\",\"linecolor\":\"#506784\",\"ticks\":\"\"},\"baxis\":{\"gridcolor\":\"#506784\",\"linecolor\":\"#506784\",\"ticks\":\"\"},\"caxis\":{\"gridcolor\":\"#506784\",\"linecolor\":\"#506784\",\"ticks\":\"\"}},\"coloraxis\":{\"colorbar\":{\"outlinewidth\":0,\"ticks\":\"\"}},\"colorscale\":{\"sequential\":[[0.0,\"#0d0887\"],[0.1111111111111111,\"#46039f\"],[0.2222222222222222,\"#7201a8\"],[0.3333333333333333,\"#9c179e\"],[0.4444444444444444,\"#bd3786\"],[0.5555555555555556,\"#d8576b\"],[0.6666666666666666,\"#ed7953\"],[0.7777777777777778,\"#fb9f3a\"],[0.8888888888888888,\"#fdca26\"],[1.0,\"#f0f921\"]],\"sequentialminus\":[[0.0,\"#0d0887\"],[0.1111111111111111,\"#46039f\"],[0.2222222222222222,\"#7201a8\"],[0.3333333333333333,\"#9c179e\"],[0.4444444444444444,\"#bd3786\"],[0.5555555555555556,\"#d8576b\"],[0.6666666666666666,\"#ed7953\"],[0.7777777777777778,\"#fb9f3a\"],[0.8888888888888888,\"#fdca26\"],[1.0,\"#f0f921\"]],\"diverging\":[[0,\"#8e0152\"],[0.1,\"#c51b7d\"],[0.2,\"#de77ae\"],[0.3,\"#f1b6da\"],[0.4,\"#fde0ef\"],[0.5,\"#f7f7f7\"],[0.6,\"#e6f5d0\"],[0.7,\"#b8e186\"],[0.8,\"#7fbc41\"],[0.9,\"#4d9221\"],[1,\"#276419\"]]},\"xaxis\":{\"gridcolor\":\"#283442\",\"linecolor\":\"#506784\",\"ticks\":\"\",\"title\":{\"standoff\":15},\"zerolinecolor\":\"#283442\",\"automargin\":true,\"zerolinewidth\":2},\"yaxis\":{\"gridcolor\":\"#283442\",\"linecolor\":\"#506784\",\"ticks\":\"\",\"title\":{\"standoff\":15},\"zerolinecolor\":\"#283442\",\"automargin\":true,\"zerolinewidth\":2},\"scene\":{\"xaxis\":{\"backgroundcolor\":\"rgb(17,17,17)\",\"gridcolor\":\"#506784\",\"linecolor\":\"#506784\",\"showbackground\":true,\"ticks\":\"\",\"zerolinecolor\":\"#C8D4E3\",\"gridwidth\":2},\"yaxis\":{\"backgroundcolor\":\"rgb(17,17,17)\",\"gridcolor\":\"#506784\",\"linecolor\":\"#506784\",\"showbackground\":true,\"ticks\":\"\",\"zerolinecolor\":\"#C8D4E3\",\"gridwidth\":2},\"zaxis\":{\"backgroundcolor\":\"rgb(17,17,17)\",\"gridcolor\":\"#506784\",\"linecolor\":\"#506784\",\"showbackground\":true,\"ticks\":\"\",\"zerolinecolor\":\"#C8D4E3\",\"gridwidth\":2}},\"shapedefaults\":{\"line\":{\"color\":\"#f2f5fa\"}},\"annotationdefaults\":{\"arrowcolor\":\"#f2f5fa\",\"arrowhead\":0,\"arrowwidth\":1},\"geo\":{\"bgcolor\":\"rgb(17,17,17)\",\"landcolor\":\"rgb(17,17,17)\",\"subunitcolor\":\"#506784\",\"showland\":true,\"showlakes\":true,\"lakecolor\":\"rgb(17,17,17)\"},\"title\":{\"x\":0.05},\"updatemenudefaults\":{\"bgcolor\":\"#506784\",\"borderwidth\":0},\"sliderdefaults\":{\"bgcolor\":\"#C8D4E3\",\"borderwidth\":1,\"bordercolor\":\"rgb(17,17,17)\",\"tickwidth\":0},\"mapbox\":{\"style\":\"dark\"}}},\"xaxis\":{\"anchor\":\"y\",\"domain\":[0.0,1.0],\"title\":{\"text\":\"salary_lower\"}},\"yaxis\":{\"anchor\":\"x\",\"domain\":[0.0,1.0],\"title\":{\"text\":\"count\"}},\"legend\":{\"tracegroupgap\":0},\"margin\":{\"t\":60},\"barmode\":\"relative\",\"bargap\":0.2},                        {\"responsive\": true}                    ).then(function(){\n                            \nvar gd = document.getElementById('e87f9ecb-f484-4531-8fca-8c8678f91a67');\nvar x = new MutationObserver(function (mutations, observer) {{\n        var display = window.getComputedStyle(gd).display;\n        if (!display || display === 'none') {{\n            console.log([gd, 'removed!']);\n            Plotly.purge(gd);\n            observer.disconnect();\n        }}\n}});\n\n// Listen for the removal of the full notebook cells\nvar notebookContainer = gd.closest('#notebook-container');\nif (notebookContainer) {{\n    x.observe(notebookContainer, {childList: true});\n}}\n\n// Listen for the clearing of the current output cell\nvar outputEl = gd.closest('.output');\nif (outputEl) {{\n    x.observe(outputEl, {childList: true});\n}}\n\n                        })                };                });            </script>        </div>"
     },
     "metadata": {},
     "output_type": "display_data"
    }
   ],
   "source": [
    "fig = px.histogram(data_frame=listings, x='salary_lower', color_discrete_sequence=['#1dd3b0'], opacity=0.8, text_auto=True).update_layout(bargap=0.2)\n",
    "fig.show()"
   ],
   "metadata": {
    "collapsed": false,
    "pycharm": {
     "name": "#%%\n"
    }
   }
  },
  {
   "cell_type": "code",
   "execution_count": 38,
   "outputs": [],
   "source": [],
   "metadata": {
    "collapsed": false,
    "pycharm": {
     "name": "#%%\n"
    }
   }
  }
 ],
 "metadata": {
  "kernelspec": {
   "display_name": "Python 3",
   "language": "python",
   "name": "python3"
  },
  "language_info": {
   "codemirror_mode": {
    "name": "ipython",
    "version": 2
   },
   "file_extension": ".py",
   "mimetype": "text/x-python",
   "name": "python",
   "nbconvert_exporter": "python",
   "pygments_lexer": "ipython2",
   "version": "2.7.6"
  }
 },
 "nbformat": 4,
 "nbformat_minor": 0
}